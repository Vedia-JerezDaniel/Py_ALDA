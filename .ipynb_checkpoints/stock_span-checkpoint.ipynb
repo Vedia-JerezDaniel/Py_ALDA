{
 "cells": [
  {
   "cell_type": "markdown",
   "id": "5986536c",
   "metadata": {},
   "source": [
    "https://www.geeksforgeeks.org/the-stock-span-problem/\n",
    "\n",
    "\n",
    "https://tutorialspoint.dev/data-structure/stack-data-structure/the-stock-span-problem\n",
    "http://python.algorithmexamples.com/web/data_structures/stacks/stock_span_problem.html"
   ]
  },
  {
   "cell_type": "markdown",
   "id": "5aebc97d",
   "metadata": {},
   "source": [
    "# Problem Solving Template for the Stock Span Problem\n",
    "\n",
    "_To learn how to use this template, check out the course [\"Data Structures and Algorithms in Python\"](https://jovian.ai/learn/data-structures-and-algorithms-in-python)._\n",
    "\n",
    "\n"
   ]
  },
  {
   "cell_type": "markdown",
   "id": "8d0ede97",
   "metadata": {},
   "source": [
    "## How to run the code and save your work\n",
    "\n",
    "The recommended way to run this notebook is to click the \"Run\" button at the top of this page, and select \"Run on Binder\". This will run the notebook on [mybinder.org](https://mybinder.org), a free online service for running Jupyter notebooks. \n",
    "\n",
    "This tutorial is an executable [Jupyter notebook](https://jupyter.org). You can _run_ this tutorial and experiment with the code examples in a couple of ways: *using free online resources* (recommended) or *on your computer*.\n",
    "\n",
    "#### Option 1: Running using free online resources (1-click, recommended)\n",
    "\n",
    "The easiest way to start executing the code is to click the **Run** button at the top of this page and select **Run on Binder**. You can also select \"Run on Colab\" or \"Run on Kaggle\", but you'll need to create an account on [Google Colab](https://colab.research.google.com) or [Kaggle](https://kaggle.com) to use these platforms.\n",
    "\n",
    "\n",
    "#### Option 2: Running on your computer locally\n",
    "\n",
    "To run the code on your computer locally, you'll need to set up [Python](https://www.python.org), download the notebook and install the required libraries. We recommend using the [Conda](https://docs.conda.io/projects/conda/en/latest/user-guide/install/) distribution of Python. Click the **Run** button at the top of this page, select the **Run Locally** option, and follow the instructions.\n",
    "\n",
    "#### Saving your work\n",
    "\n",
    "Before staring the assignment, let's save a snapshot of the assignment to your [Jovian](https://jovian.ai) profile, so that you can access it later, and continue your work."
   ]
  },
  {
   "cell_type": "code",
   "execution_count": 1,
   "id": "51292839",
   "metadata": {},
   "outputs": [],
   "source": [
    "project_name = \"Stock_span\"\n",
    "file = 'stock_span.ipynb'"
   ]
  },
  {
   "cell_type": "code",
   "execution_count": 2,
   "id": "705c0849",
   "metadata": {},
   "outputs": [],
   "source": [
    "!pip install jovian --upgrade --quiet"
   ]
  },
  {
   "cell_type": "code",
   "execution_count": 3,
   "id": "6c59e55b",
   "metadata": {},
   "outputs": [
    {
     "data": {
      "application/javascript": [
       "if (window.IPython && IPython.notebook.kernel) IPython.notebook.kernel.execute('jovian.utils.jupyter.get_notebook_name_saved = lambda: \"' + IPython.notebook.notebook_name + '\"')"
      ],
      "text/plain": [
       "<IPython.core.display.Javascript object>"
      ]
     },
     "metadata": {},
     "output_type": "display_data"
    }
   ],
   "source": [
    "import jovian"
   ]
  },
  {
   "cell_type": "code",
   "execution_count": 27,
   "id": "7024d24c",
   "metadata": {},
   "outputs": [
    {
     "data": {
      "application/javascript": [
       "window.require && require([\"base/js/namespace\"],function(Jupyter){Jupyter.notebook.save_checkpoint()})"
      ],
      "text/plain": [
       "<IPython.core.display.Javascript object>"
      ]
     },
     "metadata": {},
     "output_type": "display_data"
    },
    {
     "name": "stdout",
     "output_type": "stream",
     "text": [
      "[jovian] Attempting to save notebook..\u001b[0m\n",
      "\u001b[31m[jovian] Error: The current API key is invalid or expired.\u001b[0m\n",
      "[jovian] Please enter your API key ( from https://jovian.ai/ ):\u001b[0m\n",
      "API KEY: [jovian] Creating a new project \"danielhvj/Stock_span\"\u001b[0m\n",
      "[jovian] Uploading notebook..\u001b[0m\n",
      "[jovian] Capturing environment..\u001b[0m\n",
      "[jovian] Committed successfully! https://jovian.ai/danielhvj/stock-span\u001b[0m\n"
     ]
    },
    {
     "data": {
      "text/plain": [
       "'https://jovian.ai/danielhvj/stock-span'"
      ]
     },
     "execution_count": 27,
     "metadata": {},
     "output_type": "execute_result"
    }
   ],
   "source": [
    "jovian.commit(project=project_name, filename=file)"
   ]
  },
  {
   "cell_type": "markdown",
   "id": "cb22001c",
   "metadata": {},
   "source": [
    "## Problem Statement\n",
    "\n",
    "\n",
    "> The stock span problem is a financial problem where we have a series of *n daily price quotes* for a stock and we need to calculate span of stock’s price for all n days. The span *Si* of the stock’s price on a given day i is defined as the maximum number of consecutive days just before the given day, for which the price of the stock on the current day is less than or equal to its price on the given day.\n",
    "\n",
    "> **Implementation.** \n",
    "First, we create a stack and an empty list of stock spans, which will contain the output.\n",
    "\n",
    "Then, always the first stock-span is 1 by default.\n",
    "\n",
    "> *Calculation of the stock span for a certain day* \n",
    "\n",
    "1. Check the stock price that corresponds to the index on top of the stack.\n",
    "2. Compare it with the stock price at the current day. If it’s greater than the current price, pop this index out of the stack and assign a value of 1. Repeat the same process with the new stack top.\n",
    "3. When the stock price that corresponds to the index at the top of​ the stack​ is smaller than the stock price of the current day, calculate the stock-span by subtracting the index at the top of the stack from the index of the current day.\n",
    "4. Once we have calculated the stock span for a certain day, we add this to the corresponding index in the list of stock spans. \n",
    "5. Push the index of this element onto the stack.\n",
    "\n",
    "\n",
    "> For example, if an array of 7 days prices is given as `[100, 80, 60, 70, 60, 75, 85]`, then the span values for corresponding 7 days are `[1, 1, 1, 2, 1, 4, 6]`. Our list of spans is ready.\n",
    "\n",
    "\n",
    "Source: https://practice.geeksforgeeks.org/problems/stock-span-problem-1587115621/1"
   ]
  },
  {
   "cell_type": "markdown",
   "id": "664b80e2",
   "metadata": {},
   "source": [
    "## The Method\n",
    "\n",
    "Here's the systematic strategy we'll apply for solving problems:\n",
    "\n",
    "1. State the problem clearly. Identify the input & output formats.\n",
    "2. Come up with some example inputs & outputs. Try to cover all edge cases.\n",
    "3. Come up with a correct solution for the problem. State it in plain English.\n",
    "4. Implement the solution and test it using example inputs. Fix bugs, if any.\n",
    "5. Analyze the algorithm's complexity and identify inefficiencies, if any.\n",
    "6. Apply the right technique to overcome the inefficiency. Repeat steps 3 to 6.\n",
    "\n",
    "This approach is explained in detail in [Lesson 1](https://jovian.ai/learn/data-structures-and-algorithms-in-python/lesson/lesson-1-binary-search-linked-lists-and-complexity) of the course. Let's apply this approach step-by-step."
   ]
  },
  {
   "cell_type": "markdown",
   "id": "5e4c7b86",
   "metadata": {},
   "source": [
    "## Solution\n",
    "\n",
    "\n",
    "### 1. State the problem clearly. Identify the input & output formats.\n",
    "\n",
    "While this problem is stated clearly enough, it's always useful to try and express in your own words, in a way that makes it most clear for you. \n",
    "\n",
    "\n",
    "**Problem**\n",
    "\n",
    "> The stock span problem is a financial problem where we have a series of *n daily price quotes* for a stock and we need to calculate span of stock’s price for all n days. The span *Si* of the stock’s price on a given day i is defined as the maximum number of consecutive days just before the given day, for which the price of the stock on the current day is less than or equal to its price on the given day.\n",
    "<br/>\n",
    "\n",
    "\n",
    "**Input**\n",
    "\n",
    "1. GOOG = `[1348, 1428, 1413, 1482, 1634, 1469, 1621, 1760, 1751, 1835, 2036, 2043]`\n",
    "2. MSFT = `[177, 181, 202, 203, 223, 209, 201, 213, 221, 231, 231, 230]`\n",
    "3. AAPL = `[72, 78, 90, 105, 128, 115, 108, 118, 132, 131, 121, 119]`\n",
    "4. TSLA = `[156, 167, 215, 286, 498, 429, 388, 567, 705, 793, 675, 654]`\n",
    "5. AMZN = `[2474, 2442, 2758, 3164, 3450, 3148, 3036, 3168, 3256, 3206, 3092, 3074]`\n",
    "6. NVDA = `[291, 354, 379, 424, 534, 540, 501, 535, 522, 519, 548, 513]`\n",
    "7. INTC = `[58, 61, 58, 46, 49, 51, 43, 47, 49, 55, 60, 63]`\n",
    "8. AMD = `[79, 84, 85, 91, 92, 75, 81, 90, 77, 52, 53, 52]` \n",
    "\n",
    "**Output**\n",
    "\n",
    "1. GOOG = `[1, 2, 1, 4, 5, 1, 2, 8, 1, 10, 11, 12]`\n",
    "2. MSFT = `[1, 2, 3, 4, 5, 1, 1, 3, 4, 10, 11, 1]`\n",
    "3. AAPL = `[1, 2, 3, 4, 5, 1, 1, 3, 9, 1, 1, 1]`\n",
    "4. TSLA = `[1, 2, 3, 4, 5, 1, 1, 8, 9, 10, 1, 1]`\n",
    "5. AMZN = `[1, 1, 3, 4, 5, 1, 1, 3, 4, 1, 1, 1]`\n",
    "6. NVDA = `[1, 2, 3, 4, 5, 6, 1, 2, 1, 1, 11, 1]`\n",
    "7. INTC = `[1, 2, 1, 1, 2, 3, 1, 2, 3, 7, 9, 12]`\n",
    "8. AMD = `[1, 2, 1, 4, 5, 1, 1, 8, 1, 1, 1, 1]` \n",
    "\n",
    "\n",
    "<br/>\n",
    "\n",
    "Based on the above, we can now create a signature of our function:"
   ]
  },
  {
   "cell_type": "code",
   "execution_count": 4,
   "id": "03bb36f3",
   "metadata": {},
   "outputs": [],
   "source": [
    "GOOG = [2043,2036,1835,1751,1760,1621,1469,1634,1482,1413,1428,1348]\n",
    "MSFT = [230,231,231,221,213,201,209,223,203,202,181,177]\n",
    "AAPL = [119,121,131,132,118,108,115,128,105,90,78,72]\n",
    "TSLA = [654,675,793,705,567,388,429,498,286,215,167,156]\n",
    "AMZN = [3074,3092,3206,3256,3168,3036,3148,3450,3164,2758,2442,2474]\n",
    "NVDA = [513,548,519,522,535,501,540,534,424,379,354,291]\n",
    "INTC = [63,60,55,49,47,43,51,49,46,58,61,58]\n",
    "AMD = [79,84,85,91,92,75,81,90,77,52,53,52]"
   ]
  },
  {
   "cell_type": "code",
   "execution_count": 5,
   "id": "b6696b92",
   "metadata": {},
   "outputs": [
    {
     "name": "stdout",
     "output_type": "stream",
     "text": [
      "Updated List ascending order: \n",
      " Google: [1348, 1428, 1413, 1482, 1634, 1469, 1621, 1760, 1751, 1835, 2036, 2043] \n",
      " Microsoft: [177, 181, 202, 203, 223, 209, 201, 213, 221, 231, 231, 230] \n",
      " Apple: [72, 78, 90, 105, 128, 115, 108, 118, 132, 131, 121, 119] \n",
      " Tesla: [156, 167, 215, 286, 498, 429, 388, 567, 705, 793, 675, 654] \n",
      " Amazon: [2474, 2442, 2758, 3164, 3450, 3148, 3036, 3168, 3256, 3206, 3092, 3074] \n",
      " Nvidia: [291, 354, 379, 424, 534, 540, 501, 535, 522, 519, 548, 513] \n",
      " Intel: [58, 61, 58, 46, 49, 51, 43, 47, 49, 55, 60, 63] \n",
      " AMD: [52, 53, 52, 77, 90, 81, 75, 92, 91, 85, 84, 79]\n"
     ]
    }
   ],
   "source": [
    "# Reversing the list, because it was copy in desceding time order\n",
    "GOOG = GOOG[::-1]\n",
    "MSFT = MSFT[::-1]\n",
    "AAPL = AAPL[::-1]\n",
    "TSLA = TSLA[::-1]\n",
    "AMZN = AMZN[::-1]\n",
    "NVDA = NVDA[::-1]\n",
    "INTC = INTC[::-1]\n",
    "AMD = AMD[::-1]\n",
    "\n",
    "# update lists\n",
    "print('Updated List ascending order: \\n','Google:',GOOG,'\\n','Microsoft:',MSFT,'\\n',\n",
    "        'Apple:',AAPL,'\\n','Tesla:',TSLA,'\\n','Amazon:',AMZN,'\\n',\n",
    "        'Nvidia:',NVDA,'\\n','Intel:',INTC,'\\n','AMD:',AMD )"
   ]
  },
  {
   "cell_type": "code",
   "execution_count": 6,
   "id": "87f2be93",
   "metadata": {},
   "outputs": [
    {
     "data": {
      "text/plain": [
       "Text(0.5, 1.0, 'AMD prices')"
      ]
     },
     "execution_count": 6,
     "metadata": {},
     "output_type": "execute_result"
    },
    {
     "data": {
      "image/png": "[encoded data removed]",
      "text/plain": [
       "<Figure size 1440x360 with 3 Axes>"
      ]
     },
     "metadata": {
      "needs_background": "light"
     },
     "output_type": "display_data"
    },
    {
     "data": {
      "image/png": "[encoded data removed]",
      "text/plain": [
       "<Figure size 1440x360 with 3 Axes>"
      ]
     },
     "metadata": {
      "needs_background": "light"
     },
     "output_type": "display_data"
    },
    {
     "data": {
      "image/png": "[encoded data removed]",
      "text/plain": [
       "<Figure size 1440x360 with 3 Axes>"
      ]
     },
     "metadata": {
      "needs_background": "light"
     },
     "output_type": "display_data"
    }
   ],
   "source": [
    "import matplotlib.pyplot as plt\n",
    "import numpy as np\n",
    "\n",
    "f, (ax1,ax2,ax3) = plt.subplots(1, 3, figsize=(20, 5))\n",
    "index = np.arange(len(GOOG))\n",
    "ax1.bar(np.arange(len(GOOG)),GOOG, color='pink')\n",
    "ax1.set_title('Google prices')\n",
    "ax2.bar(np.arange(len(MSFT)),MSFT, color='blue')\n",
    "ax2.set_title('Microsoft prices')\n",
    "ax3.bar(np.arange(len(AAPL)),AAPL,color='gray')\n",
    "ax3.set_title('Apple prices')\n",
    "f, (ax4,ax5,ax6) = plt.subplots(1, 3, figsize=(20, 5))\n",
    "ax4.bar(np.arange(len(TSLA)),TSLA, color='red')\n",
    "ax4.set_title('Tesla prices')\n",
    "ax5.bar(np.arange(len(AMZN)),AMZN,color='orange')\n",
    "ax5.set_title('Amazon prices')\n",
    "ax6.bar(np.arange(len(NVDA)),NVDA,color='green')\n",
    "ax6.set_title('Nvidia prices')\n",
    "f, (ax7,ax8,ax9) = plt.subplots(1, 3, figsize=(20, 5))\n",
    "ax7.bar(np.arange(len(INTC)),INTC, color='cyan')\n",
    "ax7.set_title('Intel prices')\n",
    "ax8.bar(np.arange(len(AMD)),AMD,color='black')\n",
    "ax8.set_title('AMD prices')"
   ]
  },
  {
   "cell_type": "code",
   "execution_count": 6,
   "id": "cef23b08",
   "metadata": {},
   "outputs": [],
   "source": [
    "# Create a function signature here. The body of the function can contain a single statement: pass\n",
    "def span_brute(price): \n",
    "    pass      "
   ]
  },
  {
   "cell_type": "markdown",
   "id": "cb4a2415",
   "metadata": {},
   "source": [
    "Save and upload your work before continuing."
   ]
  },
  {
   "cell_type": "code",
   "execution_count": 16,
   "id": "7b1ad82a",
   "metadata": {},
   "outputs": [
    {
     "data": {
      "application/javascript": [
       "window.require && require([\"base/js/namespace\"],function(Jupyter){Jupyter.notebook.save_checkpoint()})"
      ],
      "text/plain": [
       "<IPython.core.display.Javascript object>"
      ]
     },
     "metadata": {},
     "output_type": "display_data"
    },
    {
     "name": "stdout",
     "output_type": "stream",
     "text": [
      "[jovian] Attempting to save notebook..\u001b[0m\n",
      "[jovian] Updating notebook \"aakashns/python-problem-solving-template\" on https://jovian.ai/\u001b[0m\n",
      "[jovian] Uploading notebook..\u001b[0m\n",
      "[jovian] Capturing environment..\u001b[0m\n",
      "[jovian] Committed successfully! https://jovian.ai/aakashns/python-problem-solving-template\u001b[0m\n"
     ]
    },
    {
     "data": {
      "text/plain": [
       "'https://jovian.ai/aakashns/python-problem-solving-template'"
      ]
     },
     "execution_count": 16,
     "metadata": {},
     "output_type": "execute_result"
    }
   ],
   "source": [
    "jovian.commit()"
   ]
  },
  {
   "cell_type": "markdown",
   "id": "1a7ab3eb",
   "metadata": {},
   "source": [
    "### 2. Come up with some example inputs & outputs. Try to cover all edge cases.\n",
    "\n",
    "Our function should be able to handle any set of valid inputs we pass into it. Here's a list of some possible variations we might encounter:\n",
    "\n",
    "1. test1 = {'input': {'price': `[1348, 1428, 1413, 1482, 1634, 1469, 1621, 1760, 1751, 1835, 2036, 2043]`},\n",
    "    \n",
    "            'output': `[1, 2, 1, 4, 5, 1, 2, 8, 1, 10, 11, 12]`}\n",
    "   \n",
    "2. test2 = {'input': {'price': `[177, 181, 202, 203, 223, 209, 201, 213, 221, 231, 231, 230]`},\n",
    "    \n",
    "            'output': `[1, 2, 3, 4, 5, 1, 1, 3, 4, 10, 11, 1]`}\n",
    "\n",
    "3. test3 = {'input': {'price': `[72, 78, 90, 105, 128, 115, 108, 118, 132, 131, 121, 119]`},\n",
    "    \n",
    "            'output': `[1, 2, 3, 4, 5, 1, 1, 3, 9, 1, 1, 1]`}\n",
    "\n",
    "4. test4 = {'input': {'price': `[156, 167, 215, 286, 498, 429, 388, 567, 705, 793, 675, 654]`},\n",
    "    \n",
    "            'output': `[1, 2, 3, 4, 5, 1, 1, 8, 9, 10, 1, 1]`}\n",
    "\n",
    "5. test5 = {'input': {'price': `[2474, 2442, 2758, 3164, 3450, 3148, 3036, 3168, 3256, 3206, 3092, 3074]`},\n",
    "    \n",
    "            'output': `[1, 1, 3, 4, 5, 1, 1, 3, 4, 1, 1, 1]`}\n",
    "\n",
    "6. test6 = {'input': {'price': `[291, 354, 379, 424, 534, 540, 501, 535, 522, 519, 548, 513]`},\n",
    "    \n",
    "            'output': `[1, 2, 3, 4, 5, 6, 1, 2, 1, 1, 11, 1]`}\n",
    "\n",
    "7. test7 = {'input': {'price': `[58, 61, 58, 46, 49, 51, 43, 47, 49, 55, 60, 63]`},\n",
    "    \n",
    "            'output': `[1, 2, 1, 1, 2, 3, 1, 2, 3, 7, 9, 12]`}\n",
    "\n",
    "8. test8 = {'input': {'price': `[52, 53, 52, 77, 90, 81, 75, 92, 91, 85, 84, 79]`},\n",
    "    \n",
    "            'output': `[1, 2, 1, 4, 5, 1, 1, 8, 1, 1, 1, 1]`}\n",
    "\n",
    "\n",
    "We'll express our test cases as dictionaries, to test them easily. Each dictionary will contain 2 keys: `input` (a dictionary itself containing one key for each argument to the function and `output` (the expected result from the function). "
   ]
  },
  {
   "cell_type": "code",
   "execution_count": 7,
   "id": "63bb64b9",
   "metadata": {},
   "outputs": [],
   "source": [
    "test0 = {\n",
    "    'input': {'price': [10, -10 ,0, 5, 90, 120, 80, 100, 80, 60, 70, 60, 75, 85]},\n",
    "    'output': [1, 1, 2, 3, 5, 6, 1, 2, 1, 1, 2, 1, 4, 6]\n",
    "    }"
   ]
  },
  {
   "cell_type": "code",
   "execution_count": 8,
   "id": "b1a973c6",
   "metadata": {},
   "outputs": [],
   "source": [
    "test1 = {\n",
    "    'input': {'price': [1348, 1428, 1413, 1482, 1634, 1469, 1621, 1760, 1751, 1835, 2036, 2043]},\n",
    "    'output': [1, 2, 1, 4, 5, 1, 2, 8, 1, 10, 11, 12]}\n",
    "test2 = {\n",
    "    'input': {'price': [177, 181, 202, 203, 223, 209, 201, 213, 221, 231, 231, 230]},\n",
    "    'output': [1, 2, 3, 4, 5, 1, 1, 3, 4, 10, 11, 1]}\n",
    "test3 = {\n",
    "    'input': {'price': [72, 78, 90, 105, 128, 115, 108, 118, 132, 131, 121, 119]},\n",
    "    'output': [1, 2, 3, 4, 5, 1, 1, 3, 9, 1, 1, 1]}\n",
    "test4 = {\n",
    "    'input': {'price': [156, 167, 215, 286, 498, 429, 388, 567, 705, 793, 675, 654]},\n",
    "    'output': [1, 2, 3, 4, 5, 1, 1, 8, 9, 10, 1, 1]}\n",
    "test5 = {\n",
    "    'input': {'price': [2474, 2442, 2758, 3164, 3450, 3148, 3036, 3168, 3256, 3206, 3092, 3074]},\n",
    "    'output': [1, 1, 3, 4, 5, 1, 1, 3, 4, 1, 1, 1]}\n",
    "test6 = {\n",
    "    'input': {'price': [291, 354, 379, 424, 534, 540, 501, 535, 522, 519, 548, 513]},\n",
    "    'output': [1, 2, 3, 4, 5, 6, 1, 2, 1, 1, 11, 1]}\n",
    "test7 = {\n",
    "    'input': {'price': [58, 61, 58, 46, 49, 51, 43, 47, 49, 55, 60, 63]},\n",
    "    'output': [1, 2, 1, 1, 2, 3, 1, 2, 3, 7, 9, 12]}\n",
    "test8 = {\n",
    "    'input': {'price': [52, 53, 52, 77, 90, 81, 75, 92, 91, 85, 84, 79]},\n",
    "    'output': [1, 2, 1, 4, 5, 1, 1, 8, 1, 1, 1, 1]}"
   ]
  },
  {
   "cell_type": "markdown",
   "id": "2947cf62",
   "metadata": {},
   "source": [
    "We can test the function by passing the input to it directly or by using the `evaluate_test_case` function from `jovian`."
   ]
  },
  {
   "cell_type": "markdown",
   "id": "a4ea1085",
   "metadata": {},
   "source": [
    "Create one test case for each of the scenarios listed above. We'll store our test cases in an array called `tests`."
   ]
  },
  {
   "cell_type": "code",
   "execution_count": 10,
   "id": "05c38bec",
   "metadata": {},
   "outputs": [],
   "source": [
    "tests = []"
   ]
  },
  {
   "cell_type": "code",
   "execution_count": 11,
   "id": "6044a5b1",
   "metadata": {},
   "outputs": [],
   "source": [
    "tests.append(test0)"
   ]
  },
  {
   "cell_type": "code",
   "execution_count": 12,
   "id": "64ff6731",
   "metadata": {},
   "outputs": [],
   "source": [
    "# add more test cases\n",
    "tests.append(test1)\n",
    "tests.append(test2)\n",
    "tests.append(test3)\n",
    "tests.append(test4)\n",
    "tests.append(test5)\n",
    "tests.append(test6)\n",
    "tests.append(test7)\n",
    "tests.append(test8)"
   ]
  },
  {
   "cell_type": "code",
   "execution_count": null,
   "id": "6aaaf3a8",
   "metadata": {},
   "outputs": [],
   "source": [
    "tests"
   ]
  },
  {
   "cell_type": "markdown",
   "id": "bebb86aa",
   "metadata": {},
   "source": [
    "Evaluate your function against all the test cases together using the `evaluate_test_cases` (plural) function from `jovian`."
   ]
  },
  {
   "cell_type": "markdown",
   "id": "f8df2b9a",
   "metadata": {},
   "source": [
    "Verify that all the test cases were evaluated. We expect them all to fail, since we haven't implemented the function yet.\n",
    "\n",
    "Let's save our work before continuing."
   ]
  },
  {
   "cell_type": "code",
   "execution_count": 17,
   "id": "0d31482b",
   "metadata": {},
   "outputs": [
    {
     "data": {
      "application/javascript": [
       "window.require && require([\"base/js/namespace\"],function(Jupyter){Jupyter.notebook.save_checkpoint()})"
      ],
      "text/plain": [
       "<IPython.core.display.Javascript object>"
      ]
     },
     "metadata": {},
     "output_type": "display_data"
    },
    {
     "name": "stdout",
     "output_type": "stream",
     "text": [
      "[jovian] Attempting to save notebook..\u001b[0m\n",
      "[jovian] Updating notebook \"aakashns/python-problem-solving-template\" on https://jovian.ai/\u001b[0m\n",
      "[jovian] Uploading notebook..\u001b[0m\n",
      "[jovian] Capturing environment..\u001b[0m\n",
      "[jovian] Committed successfully! https://jovian.ai/aakashns/python-problem-solving-template\u001b[0m\n"
     ]
    },
    {
     "data": {
      "text/plain": [
       "'https://jovian.ai/aakashns/python-problem-solving-template'"
      ]
     },
     "execution_count": 17,
     "metadata": {},
     "output_type": "execute_result"
    }
   ],
   "source": [
    "jovian.commit()"
   ]
  },
  {
   "cell_type": "markdown",
   "id": "0bd692d0",
   "metadata": {},
   "source": [
    "### 3. Come up with a correct solution for the problem. State it in plain English.\n",
    "\n",
    "Our first goal should always be to come up with a _correct_ solution to the problem, which may not necessarily be the most _efficient_ solution. Come with a correct solution and explain it in simple words below:\n",
    "\n",
    "> **Implementation.** \n",
    "First, we create a stack and an empty list of stock spans, which will contain the output.\n",
    "\n",
    "Then, always the first stock-span is 1 by default.\n",
    "\n",
    "> **Calculation of the stock span for a certain day**\n",
    "\n",
    "1. Check the stock price that corresponds to the index on top of the stack.\n",
    "2. Compare it with the stock price at the current day. If it’s greater than the current price, pop this index out of the stack and assign a value of 1. Repeat the same process with the new stack top.\n",
    "3. When the stock price that corresponds to the index at the top of​ the stack​ is smaller than the stock price of the current day, calculate the stock-span by subtracting the index at the top of the stack from the index of the current day.\n",
    "4. Once we have calculated the stock span for a certain day, we add this to the corresponding index in the list of stock spans. \n",
    "5. Push the index of this element onto the stack.\n",
    "\n",
    "\n",
    "> For example, if an array of 7 days prices is given as `[100, 80, 60, 70, 60, 75, 85]`, then the span values for corresponding 7 days are `[1, 1, 1, 2, 1, 4, 6]`. Our list of spans is ready.\n",
    "\n",
    "\n",
    "Let's save and upload our work before continuing.\n",
    "\n",
    "\n"
   ]
  },
  {
   "cell_type": "code",
   "execution_count": 18,
   "id": "29a56978",
   "metadata": {},
   "outputs": [
    {
     "data": {
      "application/javascript": [
       "window.require && require([\"base/js/namespace\"],function(Jupyter){Jupyter.notebook.save_checkpoint()})"
      ],
      "text/plain": [
       "<IPython.core.display.Javascript object>"
      ]
     },
     "metadata": {},
     "output_type": "display_data"
    },
    {
     "name": "stdout",
     "output_type": "stream",
     "text": [
      "[jovian] Attempting to save notebook..\u001b[0m\n",
      "[jovian] Updating notebook \"aakashns/python-problem-solving-template\" on https://jovian.ai/\u001b[0m\n",
      "[jovian] Uploading notebook..\u001b[0m\n",
      "[jovian] Capturing environment..\u001b[0m\n",
      "[jovian] Committed successfully! https://jovian.ai/aakashns/python-problem-solving-template\u001b[0m\n"
     ]
    },
    {
     "data": {
      "text/plain": [
       "'https://jovian.ai/aakashns/python-problem-solving-template'"
      ]
     },
     "execution_count": 18,
     "metadata": {},
     "output_type": "execute_result"
    }
   ],
   "source": [
    "jovian.commit()"
   ]
  },
  {
   "cell_type": "markdown",
   "id": "fc105908",
   "metadata": {},
   "source": [
    "###  4. Implement the solution and test it using example inputs. Fix bugs, if any."
   ]
  },
  {
   "cell_type": "markdown",
   "id": "525054cf",
   "metadata": {},
   "source": [
    "Below is the implementation of the Stock Span algorithm."
   ]
  },
  {
   "cell_type": "code",
   "execution_count": 13,
   "id": "9b69e80d",
   "metadata": {},
   "outputs": [],
   "source": [
    "def span_brute(price): \n",
    "    # Span value of first day is always 1 \n",
    "    n = len(price)\n",
    "    S = [None] * n\n",
    "    S[0] = 1\n",
    "    # it has 3 arguments:\n",
    "    # price: the list of stock prices,\n",
    "    # n: the lenght of the list pf prices and,\n",
    "    # S: is the output and empty list of the stock prices with same size\n",
    "    # Calculate span value of remaining days by linearly  \n",
    "    # checking previous days \n",
    "    for i in range(0, len(price)): \n",
    "        S[i] = 1   # Initialize span value \n",
    "        # Traverse left while the next element on left is \n",
    "        # smaller than price[i] \n",
    "        j = i - 1\n",
    "        while (j >= 0) and (price[i] >= price[j]):\n",
    "            S[i] += 1\n",
    "            j -= 1\n",
    "    return S  "
   ]
  },
  {
   "cell_type": "code",
   "execution_count": 10,
   "id": "3082e591",
   "metadata": {},
   "outputs": [],
   "source": [
    "from jovian.pythondsa import evaluate_test_case"
   ]
  },
  {
   "cell_type": "code",
   "execution_count": 20,
   "id": "33d8b9b2",
   "metadata": {},
   "outputs": [
    {
     "name": "stdout",
     "output_type": "stream",
     "text": [
      "\n",
      "Input:\n",
      "{'price': [10, -10, 0, 5, 90, 120, 80, 100, 80, 60, 70, 60, 75, 85]}\n",
      "\n",
      "Expected Output:\n",
      "[1, 1, 2, 3, 5, 6, 1, 2, 1, 1, 2, 1, 4, 6]\n",
      "\n",
      "\n",
      "Actual Output:\n",
      "[1, 1, 2, 3, 5, 6, 1, 2, 1, 1, 2, 1, 4, 6]\n",
      "\n",
      "Execution Time:\n",
      "0.031 ms\n",
      "\n",
      "Test Result:\n",
      "\u001b[92mPASSED\u001b[0m\n",
      "\n"
     ]
    }
   ],
   "source": [
    "evaluate_test_case(span_brute, test0)"
   ]
  },
  {
   "cell_type": "code",
   "execution_count": 14,
   "id": "8cdd5286",
   "metadata": {},
   "outputs": [],
   "source": [
    "from jovian.pythondsa import evaluate_test_cases"
   ]
  },
  {
   "cell_type": "code",
   "execution_count": 15,
   "id": "69b5164f",
   "metadata": {},
   "outputs": [
    {
     "name": "stdout",
     "output_type": "stream",
     "text": [
      "\n",
      "\u001b[1mTEST CASE #0\u001b[0m\n",
      "\n",
      "Input:\n",
      "{'price': [10, -10, 0, 5, 90, 120, 80, 100, 80, 60, 70, 60, 75, 85]}\n",
      "\n",
      "Expected Output:\n",
      "[1, 1, 2, 3, 5, 6, 1, 2, 1, 1, 2, 1, 4, 6]\n",
      "\n",
      "\n",
      "Actual Output:\n",
      "[1, 1, 2, 3, 5, 6, 1, 2, 1, 1, 2, 1, 4, 6]\n",
      "\n",
      "Execution Time:\n",
      "0.029 ms\n",
      "\n",
      "Test Result:\n",
      "\u001b[92mPASSED\u001b[0m\n",
      "\n",
      "\n",
      "\u001b[1mTEST CASE #1\u001b[0m\n",
      "\n",
      "Input:\n",
      "{'price': [1348, 1428, 1413, 1482, 1634, 1469, 1621, 1760, 1751, 1835, 2036, 2043]}\n",
      "\n",
      "Expected Output:\n",
      "[1, 2, 1, 4, 5, 1, 2, 8, 1, 10, 11, 12]\n",
      "\n",
      "\n",
      "Actual Output:\n",
      "[1, 2, 1, 4, 5, 1, 2, 8, 1, 10, 11, 12]\n",
      "\n",
      "Execution Time:\n",
      "0.037 ms\n",
      "\n",
      "Test Result:\n",
      "\u001b[92mPASSED\u001b[0m\n",
      "\n",
      "\n",
      "\u001b[1mTEST CASE #2\u001b[0m\n",
      "\n",
      "Input:\n",
      "{'price': [177, 181, 202, 203, 223, 209, 201, 213, 221, 231, 231, 230]}\n",
      "\n",
      "Expected Output:\n",
      "[1, 2, 3, 4, 5, 1, 1, 3, 4, 10, 11, 1]\n",
      "\n",
      "\n",
      "Actual Output:\n",
      "[1, 2, 3, 4, 5, 1, 1, 3, 4, 10, 11, 1]\n",
      "\n",
      "Execution Time:\n",
      "0.03 ms\n",
      "\n",
      "Test Result:\n",
      "\u001b[92mPASSED\u001b[0m\n",
      "\n",
      "\n",
      "\u001b[1mTEST CASE #3\u001b[0m\n",
      "\n",
      "Input:\n",
      "{'price': [72, 78, 90, 105, 128, 115, 108, 118, 132, 131, 121, 119]}\n",
      "\n",
      "Expected Output:\n",
      "[1, 2, 3, 4, 5, 1, 1, 3, 9, 1, 1, 1]\n",
      "\n",
      "\n",
      "Actual Output:\n",
      "[1, 2, 3, 4, 5, 1, 1, 3, 9, 1, 1, 1]\n",
      "\n",
      "Execution Time:\n",
      "0.023 ms\n",
      "\n",
      "Test Result:\n",
      "\u001b[92mPASSED\u001b[0m\n",
      "\n",
      "\n",
      "\u001b[1mTEST CASE #4\u001b[0m\n",
      "\n",
      "Input:\n",
      "{'price': [156, 167, 215, 286, 498, 429, 388, 567, 705, 793, 675, 654]}\n",
      "\n",
      "Expected Output:\n",
      "[1, 2, 3, 4, 5, 1, 1, 8, 9, 10, 1, 1]\n",
      "\n",
      "\n",
      "Actual Output:\n",
      "[1, 2, 3, 4, 5, 1, 1, 8, 9, 10, 1, 1]\n",
      "\n",
      "Execution Time:\n",
      "0.029 ms\n",
      "\n",
      "Test Result:\n",
      "\u001b[92mPASSED\u001b[0m\n",
      "\n",
      "\n",
      "\u001b[1mTEST CASE #5\u001b[0m\n",
      "\n",
      "Input:\n",
      "{'price': [2474, 2442, 2758, 3164, 3450, 3148, 3036, 3168, 3256, 3206, 3092, 3074]}\n",
      "\n",
      "Expected Output:\n",
      "[1, 1, 3, 4, 5, 1, 1, 3, 4, 1, 1, 1]\n",
      "\n",
      "\n",
      "Actual Output:\n",
      "[1, 1, 3, 4, 5, 1, 1, 3, 4, 1, 1, 1]\n",
      "\n",
      "Execution Time:\n",
      "0.018 ms\n",
      "\n",
      "Test Result:\n",
      "\u001b[92mPASSED\u001b[0m\n",
      "\n",
      "\n",
      "\u001b[1mTEST CASE #6\u001b[0m\n",
      "\n",
      "Input:\n",
      "{'price': [291, 354, 379, 424, 534, 540, 501, 535, 522, 519, 548, 513]}\n",
      "\n",
      "Expected Output:\n",
      "[1, 2, 3, 4, 5, 6, 1, 2, 1, 1, 11, 1]\n",
      "\n",
      "\n",
      "Actual Output:\n",
      "[1, 2, 3, 4, 5, 6, 1, 2, 1, 1, 11, 1]\n",
      "\n",
      "Execution Time:\n",
      "0.025 ms\n",
      "\n",
      "Test Result:\n",
      "\u001b[92mPASSED\u001b[0m\n",
      "\n",
      "\n",
      "\u001b[1mTEST CASE #7\u001b[0m\n",
      "\n",
      "Input:\n",
      "{'price': [58, 61, 58, 46, 49, 51, 43, 47, 49, 55, 60, 63]}\n",
      "\n",
      "Expected Output:\n",
      "[1, 2, 1, 1, 2, 3, 1, 2, 3, 7, 9, 12]\n",
      "\n",
      "\n",
      "Actual Output:\n",
      "[1, 2, 1, 1, 2, 3, 1, 2, 3, 7, 9, 12]\n",
      "\n",
      "Execution Time:\n",
      "0.023 ms\n",
      "\n",
      "Test Result:\n",
      "\u001b[92mPASSED\u001b[0m\n",
      "\n",
      "\n",
      "\u001b[1mTEST CASE #8\u001b[0m\n",
      "\n",
      "Input:\n",
      "{'price': [52, 53, 52, 77, 90, 81, 75, 92, 91, 85, 84, 79]}\n",
      "\n",
      "Expected Output:\n",
      "[1, 2, 1, 4, 5, 1, 1, 8, 1, 1, 1, 1]\n",
      "\n",
      "\n",
      "Actual Output:\n",
      "[1, 2, 1, 4, 5, 1, 1, 8, 1, 1, 1, 1]\n",
      "\n",
      "Execution Time:\n",
      "0.019 ms\n",
      "\n",
      "Test Result:\n",
      "\u001b[92mPASSED\u001b[0m\n",
      "\n",
      "\n",
      "\u001b[1mSUMMARY\u001b[0m\n",
      "\n",
      "TOTAL: 9, \u001b[92mPASSED\u001b[0m: 9, \u001b[91mFAILED\u001b[0m: 0\n"
     ]
    }
   ],
   "source": [
    "res2= evaluate_test_cases(span_brute, tests)"
   ]
  },
  {
   "cell_type": "markdown",
   "id": "661ac673",
   "metadata": {},
   "source": [
    "### 5. Analyze the algorithm's complexity and identify inefficiencies, if any."
   ]
  },
  {
   "cell_type": "code",
   "execution_count": 46,
   "id": "021cda72",
   "metadata": {},
   "outputs": [
    {
     "name": "stdout",
     "output_type": "stream",
     "text": [
      "7501 12510\n",
      "3750001 6250010\n"
     ]
    },
    {
     "data": {
      "text/plain": [
       "[([1, 1, 2, 3, 5, 6, 1, 2, 1, 1, 2, 1, 4, 6], True, 0.029),\n",
       " ([1, 2, 1, 4, 5, 1, 2, 8, 1, 10, 11, 12], True, 0.037),\n",
       " ([1, 2, 3, 4, 5, 1, 1, 3, 4, 10, 11, 1], True, 0.03),\n",
       " ([1, 2, 3, 4, 5, 1, 1, 3, 9, 1, 1, 1], True, 0.023),\n",
       " ([1, 2, 3, 4, 5, 1, 1, 8, 9, 10, 1, 1], True, 0.029),\n",
       " ([1, 1, 3, 4, 5, 1, 1, 3, 4, 1, 1, 1], True, 0.018),\n",
       " ([1, 2, 3, 4, 5, 6, 1, 2, 1, 1, 11, 1], True, 0.025),\n",
       " ([1, 2, 1, 1, 2, 3, 1, 2, 3, 7, 9, 12], True, 0.023),\n",
       " ([1, 2, 1, 4, 5, 1, 1, 8, 1, 1, 1, 1], True, 0.019)]"
      ]
     },
     "execution_count": 46,
     "metadata": {},
     "output_type": "execute_result"
    }
   ],
   "source": [
    "n = 500\n",
    "y1 = 15*n+1 \n",
    "y2 = 25*n+10 \n",
    "\n",
    "print(y1,y2)\n",
    "\n",
    "y3 = 15*n**2+1 \n",
    "y4 = 25*n**2+10 \n",
    "\n",
    "print(y3,y4)\n",
    "\n"
   ]
  },
  {
   "cell_type": "markdown",
   "id": "51c4d853",
   "metadata": {},
   "source": [
    "One of the drawbacks of the previous algorithm is its time Complexity, which is *O(n^2)*.\n",
    "\n",
    "Let’s examine at the previous solution. So, the ___Brute force solution___ would be: for each day, says current day, scan all days prior to it, and increment the span until the price of the stock is higher than the current day. For the simple implementation, the time complexity is O(n2) where n is the number of days."
   ]
  },
  {
   "cell_type": "markdown",
   "id": "5be03027",
   "metadata": {},
   "source": [
    "O(n) relates to the upper-bound run-time for the algorithm to run. In this case, O(n) means for n-elements there will need to be all n-elements considered for the algorithms computation to complete, or linear. Also, consider equations such as the following, where n is equal to 500:\n",
    "\n",
    "~~~\n",
    "Equation 1\n",
    "y1 = 15n+1 = 7,501\n",
    "y2 = 25n+10 = 12,510\n",
    "~~~\n",
    "\n",
    "These both are O(n) complexity because as the number of elements grow, the result grows larger in _y2_. We neglect the constants because the equation will grow larger and fast due to the value of **n**, rather than due to the constant values which never change. Whereas, with the following equation (including an O(n²) case:\n",
    "\n",
    "~~~\n",
    "Equation 2\n",
    "y1 = 15n²+1 = 3,750,001\n",
    "y2 = 25n²+10 = 6,250,010\n",
    "~~~\n",
    "\n",
    "The complexity is going to be O(n^2) due to the _15n² and 25n²_ being the largest growing elements contributing to te extent growing in the results. In our example, the brute force algorithm takes as long as O(n^2) (worst case) this is common in analysis of sorting algorithms or searching algorithms."
   ]
  },
  {
   "cell_type": "code",
   "execution_count": 78,
   "id": "521506e9",
   "metadata": {},
   "outputs": [
    {
     "data": {
      "image/png": "[encoded data removed]",
      "text/plain": [
       "<Figure size 432x288 with 1 Axes>"
      ]
     },
     "metadata": {},
     "output_type": "display_data"
    }
   ],
   "source": [
    "%matplotlib inline\n",
    "import matplotlib.pyplot as plt\n",
    "plt.style.use('seaborn-whitegrid')\n",
    "\n",
    "time_0 = [res2[0][2],res2[1][2],res2[2][2],res2[3][2],res2[4][2],res2[5][2],res2[6][2],res2[7][2],res2[8][2]]\n",
    "time_01 = np.cumsum(time_0)\n",
    "    \n",
    "N = np.arange(0,9,1)\n",
    "\n",
    "ax = plt.axes()\n",
    "z = np.polyfit(N,time_01,2)\n",
    "p = np.poly1d(z)\n",
    "xp = np.linspace(0, 20)\n",
    "\n",
    "plt.plot(N, time_01, '.', xp, p(xp),'-b', label='O(n²)')\n",
    "# plt.plot(N, time_0, '-g', label='O(n)')\n",
    "plt.title(\"Time complexity\")\n",
    "plt.legend();"
   ]
  },
  {
   "cell_type": "code",
   "execution_count": 21,
   "id": "e4fd73c3",
   "metadata": {},
   "outputs": [
    {
     "data": {
      "application/javascript": [
       "window.require && require([\"base/js/namespace\"],function(Jupyter){Jupyter.notebook.save_checkpoint()})"
      ],
      "text/plain": [
       "<IPython.core.display.Javascript object>"
      ]
     },
     "metadata": {},
     "output_type": "display_data"
    },
    {
     "name": "stdout",
     "output_type": "stream",
     "text": [
      "[jovian] Attempting to save notebook..\u001b[0m\n",
      "[jovian] Updating notebook \"aakashns/python-problem-solving-template\" on https://jovian.ai/\u001b[0m\n",
      "[jovian] Uploading notebook..\u001b[0m\n",
      "[jovian] Capturing environment..\u001b[0m\n",
      "[jovian] Committed successfully! https://jovian.ai/aakashns/python-problem-solving-template\u001b[0m\n"
     ]
    },
    {
     "data": {
      "text/plain": [
       "'https://jovian.ai/aakashns/python-problem-solving-template'"
      ]
     },
     "execution_count": 21,
     "metadata": {},
     "output_type": "execute_result"
    }
   ],
   "source": [
    "jovian.commit()"
   ]
  },
  {
   "cell_type": "markdown",
   "id": "d22245b1",
   "metadata": {},
   "source": [
    "### 6. Apply the right technique to overcome the inefficiency. Repeat steps 3 to 6."
   ]
  },
  {
   "cell_type": "code",
   "execution_count": 20,
   "id": "ee081873",
   "metadata": {},
   "outputs": [
    {
     "data": {
      "application/javascript": [
       "window.require && require([\"base/js/namespace\"],function(Jupyter){Jupyter.notebook.save_checkpoint()})"
      ],
      "text/plain": [
       "<IPython.core.display.Javascript object>"
      ]
     },
     "metadata": {},
     "output_type": "display_data"
    },
    {
     "name": "stdout",
     "output_type": "stream",
     "text": [
      "[jovian] Attempting to save notebook..\u001b[0m\n",
      "[jovian] Updating notebook \"aakashns/python-problem-solving-template\" on https://jovian.ai/\u001b[0m\n",
      "[jovian] Uploading notebook..\u001b[0m\n",
      "[jovian] Capturing environment..\u001b[0m\n",
      "[jovian] Committed successfully! https://jovian.ai/aakashns/python-problem-solving-template\u001b[0m\n"
     ]
    },
    {
     "data": {
      "text/plain": [
       "'https://jovian.ai/aakashns/python-problem-solving-template'"
      ]
     },
     "execution_count": 20,
     "metadata": {},
     "output_type": "execute_result"
    }
   ],
   "source": [
    "jovian.commit()"
   ]
  },
  {
   "cell_type": "markdown",
   "id": "5e358484",
   "metadata": {},
   "source": [
    "### 7. Come up with a correct solution for the problem. State it in plain English.\n"
   ]
  },
  {
   "cell_type": "markdown",
   "id": "fccd13b0",
   "metadata": {},
   "source": [
    "In some cases, we want and it is possible to write programs with algorithms that are efficient and faster for optimization reasons, especially when we want a quicker program for faster solutions or quicker run times.\n",
    "\n",
    "For the most efficient solution for the stock span problem is **O(n)** because it uses a for loop to iterate over the n-elements.\n",
    "\n",
    "\n",
    "#### **Stock Span problem: Efficient solution**\n",
    "\n",
    "If we observed the brute force algorithm, it was evident that we were interested in a day with a stock price that is greater than the current day’s stock price. So, we needed to check the last price which was greater than the current day’s price.\n",
    "\n",
    "So the solution is found with a [stack](https://www.tutorialspoint.com/data_structures_algorithms/stack_algorithm.htm), which is the data structure which allows us to maintain the last price and see it first. The steady solution shows that the elements should be in the increasing order of price. The element at the top should be the maximum price seen until the current day.\n",
    "\n",
    "> * So we go through each day’s stock price, check if the current price on top of the stack is less than the current day’s price. \n",
    "    - If **YES**, pop out until price on top of the stack is greater than the current day’s price, the stock span of the current day is the difference between the day of price on top of the stack and current day.\n",
    "    - **Storing the index** of the last greatest stock price would make things easier as compared to storing actual stock price on the stack. Hence, store the index _i_ on the stack and price[i] will give us the price of the stock on the ith day."
   ]
  },
  {
   "cell_type": "markdown",
   "id": "af7d2c38",
   "metadata": {},
   "source": [
    "#### **Algorithm**\n",
    "\n",
    "We can calculate stock span values in an O(n) time.\n",
    "\n",
    "We initialize span of day 1 (i=0) as 1 and put on to the stack.\n",
    "\n",
    "> * For i=1 to n, do following:\n",
    "    - While price[max(stack)] < price[i] and stack is not empty, stack.pop(i) removes the price[i] from the stack.\n",
    "> * If price[stack.top(i)] > price[i], span = (i – max(stack))\n",
    "    - Push current day index i on to stack.\n",
    "\n",
    "Let’s take the initial example. Let’s say prices are given on certain days are as following: `[100, 80, 60, 70, 60, 75, 85]`.\n",
    "\n",
    "Following the above algorithm, we will put span[0] = 1, and the stack will be [0].\n",
    "\n",
    "> * On day 2, stock price is 80. Stock price on day[1] at the top of stack is 100, which is greater than 80, we have span[1] = 1-0 = 1. \n",
    "    On day 3, stock price is 60. We will pop [i] from the stack till price[max(stack)] < price[i], so span[2] = 2 – 0 = 2. \n",
    "> * On day 4, stock price is 70, price[4] > price[3], so span[3] = 4 - 2 = 2. \n",
    "    On day 5, stock price is 60, now price[5] are less than 70, span[4] = 1 - 0 = 1. \n",
    "> * On day 6, stock price is 75, now we pop out 2, 3 and 4 from stack as prices are less than 75. span[5] = 6 - 2 = 4.\n",
    "> * Finally on day 7, the stock price is 85, now we pop out from 1 to 5 as price[6] and price[2] are less than 85. Now stack is empty, at this point, span[6] = 7 - 1 = 6."
   ]
  },
  {
   "cell_type": "code",
   "execution_count": 19,
   "id": "db54ec7c",
   "metadata": {},
   "outputs": [
    {
     "data": {
      "application/javascript": [
       "window.require && require([\"base/js/namespace\"],function(Jupyter){Jupyter.notebook.save_checkpoint()})"
      ],
      "text/plain": [
       "<IPython.core.display.Javascript object>"
      ]
     },
     "metadata": {},
     "output_type": "display_data"
    },
    {
     "name": "stdout",
     "output_type": "stream",
     "text": [
      "[jovian] Attempting to save notebook..\u001b[0m\n",
      "[jovian] Updating notebook \"aakashns/python-problem-solving-template\" on https://jovian.ai/\u001b[0m\n",
      "[jovian] Uploading notebook..\u001b[0m\n",
      "[jovian] Capturing environment..\u001b[0m\n",
      "[jovian] Committed successfully! https://jovian.ai/aakashns/python-problem-solving-template\u001b[0m\n"
     ]
    },
    {
     "data": {
      "text/plain": [
       "'https://jovian.ai/aakashns/python-problem-solving-template'"
      ]
     },
     "execution_count": 19,
     "metadata": {},
     "output_type": "execute_result"
    }
   ],
   "source": [
    "jovian.commit()"
   ]
  },
  {
   "cell_type": "markdown",
   "id": "8a07eb8f",
   "metadata": {},
   "source": [
    "### 8. Implement the solution and test it using example inputs. Fix bugs, if any."
   ]
  },
  {
   "cell_type": "code",
   "execution_count": null,
   "id": "c4c8b7a6",
   "metadata": {},
   "outputs": [],
   "source": [
    "# Python linear time solution for stock span problem \n",
    "  \n",
    "# A stack based efficient method to calculate s \n",
    "def calculateSpan(price, S): \n",
    "    \n",
    "    S = [0 for i in range(len(price)+1)] \n",
    "    n = len(price) \n",
    "    # Create a stack and push index of fist element to it \n",
    "    st = []  \n",
    "    st.append(0) \n",
    "  \n",
    "    # Span value of first element is always 1 \n",
    "    S[0] = 1\n",
    "  \n",
    "    # Calculate span values for rest of the elements \n",
    "    for i in range(1, n): \n",
    "          \n",
    "        # Pop elements from stack whlie stack is not \n",
    "        # empty and top of stack is smaller than price[i] \n",
    "        while( len(st) > 0 and price[st[-1]] <= price[i]): \n",
    "            st.pop() \n",
    "  \n",
    "        # If stack becomes empty, then price[i] is greater \n",
    "        # than all elements on left of it, i.e. price[0], \n",
    "        # price[1], ..price[i-1]. Else the price[i] is \n",
    "        # greater than elements after top of stack \n",
    "        S[i] = i + 1 if len(st) <= 0 else (i - st[-1]) \n",
    "  \n",
    "        # Push this element to stack \n",
    "        st.append(i) \n",
    "  \n",
    "  \n",
    "# A utility function to print elements of array \n",
    "def printArray(arr, n): \n",
    "    for i in range(0, n): \n",
    "        print (arr[i], end =\" \") \n",
    "  \n",
    "  \n",
    "# Driver program to test above function \n",
    "price = [10, 4, 5, 90, 120, 80] \n",
    "S = [0 for i in range(len(price)+1)] \n",
    "  \n",
    "# Fill the span values in array S[] \n",
    "calculateSpan(price, S) \n",
    "  \n",
    "# Print the calculated span values \n",
    "printArray(S, len(price)) \n",
    "  \n",
    "# This code is contributed by Nikhil Kumar Singh (nickzuck_007) "
   ]
  },
  {
   "cell_type": "code",
   "execution_count": null,
   "id": "ce014a09",
   "metadata": {},
   "outputs": [],
   "source": []
  },
  {
   "cell_type": "code",
   "execution_count": null,
   "id": "51d8d6f1",
   "metadata": {},
   "outputs": [],
   "source": []
  },
  {
   "cell_type": "code",
   "execution_count": null,
   "id": "8e38754b",
   "metadata": {},
   "outputs": [],
   "source": []
  },
  {
   "cell_type": "markdown",
   "id": "acb2a578",
   "metadata": {},
   "source": [
    "### 9. Analyze the algorithm's complexity and identify inefficiencies, if any."
   ]
  },
  {
   "cell_type": "markdown",
   "id": "a8266abc",
   "metadata": {},
   "source": [
    "**Alogrithm implementation**\n",
    "\n",
    "The optimal time complexity of the stock span algorithm is O(n) along with a space-complexity of O(n).\n",
    "\n",
    "> A Linear Time Complexity Method \n",
    "We see that S[i] on day i can be easily computed if we know the closest day preceding i, such that the price is greater than on that day than the price on the day i. If such a day exists, let’s call it h(i), otherwise, we define h(i) = -1. \n",
    "The span is now computed as S[i] = i – h(i). See the following diagram."
   ]
  },
  {
   "cell_type": "markdown",
   "id": "ac878880",
   "metadata": {},
   "source": [
    "If you found the problem on an external platform, you can make a submission to test your solution.\n",
    "\n",
    "Share your approach and start a discussion on the Jovian forum: https://jovian.ai/forum/c/data-structures-and-algorithms-in-python/78"
   ]
  },
  {
   "cell_type": "code",
   "execution_count": null,
   "id": "815244fa",
   "metadata": {},
   "outputs": [
    {
     "data": {
      "application/javascript": [
       "window.require && require([\"base/js/namespace\"],function(Jupyter){Jupyter.notebook.save_checkpoint()})"
      ],
      "text/plain": [
       "<IPython.core.display.Javascript object>"
      ]
     },
     "metadata": {},
     "output_type": "display_data"
    },
    {
     "name": "stdout",
     "output_type": "stream",
     "text": [
      "[jovian] Attempting to save notebook..\u001b[0m\n"
     ]
    }
   ],
   "source": [
    "jovian.commit()"
   ]
  },
  {
   "cell_type": "code",
   "execution_count": null,
   "id": "11e110c5",
   "metadata": {},
   "outputs": [],
   "source": []
  }
 ],
 "metadata": {
  "kernelspec": {
   "display_name": "Python 3",
   "language": "python",
   "name": "python3"
  },
  "language_info": {
   "codemirror_mode": {
    "name": "ipython",
    "version": 3
   },
   "file_extension": ".py",
   "mimetype": "text/x-python",
   "name": "python",
   "nbconvert_exporter": "python",
   "pygments_lexer": "ipython3",
   "version": "3.8.8"
  }
 },
 "nbformat": 4,
 "nbformat_minor": 5
}
