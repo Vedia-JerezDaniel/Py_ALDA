{
 "cells": [
  {
   "cell_type": "markdown",
   "id": "5986536c",
   "metadata": {},
   "source": [
    "https://www.geeksforgeeks.org/the-stock-span-problem/\n",
    "\n",
    "\n",
    "https://tutorialspoint.dev/data-structure/stack-data-structure/the-stock-span-problem\n",
    "http://python.algorithmexamples.com/web/data_structures/stacks/stock_span_problem.html"
   ]
  },
  {
   "cell_type": "markdown",
   "id": "5aebc97d",
   "metadata": {},
   "source": [
    "# Problem Solving Template for the Stock Span Problem\n",
    "\n",
    "_To learn how to use this template, check out the course [\"Data Structures and Algorithms in Python\"](https://jovian.ai/learn/data-structures-and-algorithms-in-python)._\n",
    "\n",
    "\n"
   ]
  },
  {
   "cell_type": "markdown",
   "id": "8d0ede97",
   "metadata": {},
   "source": [
    "## How to run the code and save your work\n",
    "\n",
    "The recommended way to run this notebook is to click the \"Run\" button at the top of this page, and select \"Run on Binder\". This will run the notebook on [mybinder.org](https://mybinder.org), a free online service for running Jupyter notebooks. \n",
    "\n",
    "This tutorial is an executable [Jupyter notebook](https://jupyter.org). You can _run_ this tutorial and experiment with the code examples in a couple of ways: *using free online resources* (recommended) or *on your computer*.\n",
    "\n",
    "#### Option 1: Running using free online resources (1-click, recommended)\n",
    "\n",
    "The easiest way to start executing the code is to click the **Run** button at the top of this page and select **Run on Binder**. You can also select \"Run on Colab\" or \"Run on Kaggle\", but you'll need to create an account on [Google Colab](https://colab.research.google.com) or [Kaggle](https://kaggle.com) to use these platforms.\n",
    "\n",
    "\n",
    "#### Option 2: Running on your computer locally\n",
    "\n",
    "To run the code on your computer locally, you'll need to set up [Python](https://www.python.org), download the notebook and install the required libraries. We recommend using the [Conda](https://docs.conda.io/projects/conda/en/latest/user-guide/install/) distribution of Python. Click the **Run** button at the top of this page, select the **Run Locally** option, and follow the instructions.\n",
    "\n",
    "#### Saving your work\n",
    "\n",
    "Before staring the assignment, let's save a snapshot of the assignment to your [Jovian](https://jovian.ai) profile, so that you can access it later, and continue your work."
   ]
  },
  {
   "cell_type": "code",
   "execution_count": null,
   "id": "51292839",
   "metadata": {},
   "outputs": [],
   "source": [
    "project_name = \"Stock_span\"\n",
    "file = 'stock_span.ipynb'"
   ]
  },
  {
   "cell_type": "code",
   "execution_count": null,
   "id": "705c0849",
   "metadata": {},
   "outputs": [],
   "source": [
    "!pip install jovian --upgrade --quiet"
   ]
  },
  {
   "cell_type": "code",
   "execution_count": null,
   "id": "6c59e55b",
   "metadata": {},
   "outputs": [],
   "source": [
    "import jovian"
   ]
  },
  {
   "cell_type": "code",
   "execution_count": null,
   "id": "7024d24c",
   "metadata": {},
   "outputs": [],
   "source": [
    "jovian.commit(project=project_name, filename=file)"
   ]
  },
  {
   "cell_type": "markdown",
   "id": "cb22001c",
   "metadata": {},
   "source": [
    "## Problem Statement\n",
    "\n",
    "\n",
    "> The stock span problem is a financial problem where we have a series of *n daily price quotes* for a stock and we need to calculate span of stock’s price for all n days. The span *Si* of the stock’s price on a given day i is defined as the maximum number of consecutive days just before the given day, for which the price of the stock on the current day is less than or equal to its price on the given day.\n",
    "\n",
    "> **Implementation.** \n",
    "First, we create a stack and an empty list of stock spans, which will contain the output.\n",
    "\n",
    "Then, always the first stock-span is 1 by default.\n",
    "\n",
    "> *Calculation of the stock span for a certain day* \n",
    "\n",
    "1. Check the stock price that corresponds to the index on top of the stack.\n",
    "2. Compare it with the stock price at the current day. If it’s greater than the current price, pop this index out of the stack and assign a value of 1. Repeat the same process with the new stack top.\n",
    "3. When the stock price that corresponds to the index at the top of​ the stack​ is smaller than the stock price of the current day, calculate the stock-span by subtracting the index at the top of the stack from the index of the current day.\n",
    "4. Once we have calculated the stock span for a certain day, we add this to the corresponding index in the list of stock spans. \n",
    "5. Push the index of this element onto the stack.\n",
    "\n",
    "\n",
    "> For example, if an array of 7 days prices is given as `[100, 80, 60, 70, 60, 75, 85]`, then the span values for corresponding 7 days are `[1, 1, 1, 2, 1, 4, 6]`. Our list of spans is ready.\n",
    "\n",
    "\n",
    "Source: https://practice.geeksforgeeks.org/problems/stock-span-problem-1587115621/1"
   ]
  },
  {
   "cell_type": "markdown",
   "id": "664b80e2",
   "metadata": {},
   "source": [
    "## The Method\n",
    "\n",
    "Here's the systematic strategy we'll apply for solving problems:\n",
    "\n",
    "1. State the problem clearly. Identify the input & output formats.\n",
    "2. Come up with some example inputs & outputs. Try to cover all edge cases.\n",
    "3. Come up with a correct solution for the problem. State it in plain English.\n",
    "4. Implement the solution and test it using example inputs. Fix bugs, if any.\n",
    "5. Analyze the algorithm's complexity and identify inefficiencies, if any.\n",
    "6. Apply the right technique to overcome the inefficiency. Repeat steps 3 to 6.\n",
    "\n",
    "This approach is explained in detail in [Lesson 1](https://jovian.ai/learn/data-structures-and-algorithms-in-python/lesson/lesson-1-binary-search-linked-lists-and-complexity) of the course. Let's apply this approach step-by-step."
   ]
  },
  {
   "cell_type": "markdown",
   "id": "5e4c7b86",
   "metadata": {},
   "source": [
    "## Solution\n",
    "\n",
    "\n",
    "### 1. State the problem clearly. Identify the input & output formats.\n",
    "\n",
    "While this problem is stated clearly enough, it's always useful to try and express in your own words, in a way that makes it most clear for you. \n",
    "\n",
    "\n",
    "**Problem**\n",
    "\n",
    "> The stock span problem is a financial problem where we have a series of *n daily price quotes* for a stock and we need to calculate span of stock’s price for all n days. The span *Si* of the stock’s price on a given day i is defined as the maximum number of consecutive days just before the given day, for which the price of the stock on the current day is less than or equal to its price on the given day.\n",
    "<br/>\n",
    "\n",
    "\n",
    "**Input**\n",
    "\n",
    "1. GOOG = `[1348, 1428, 1413, 1482, 1634, 1469, 1621, 1760, 1751, 1835, 2036, 2043]`\n",
    "2. MSFT = `[177, 181, 202, 203, 223, 209, 201, 213, 221, 231, 231, 230]`\n",
    "3. AAPL = `[72, 78, 90, 105, 128, 115, 108, 118, 132, 131, 121, 119]`\n",
    "4. TSLA = `[156, 167, 215, 286, 498, 429, 388, 567, 705, 793, 675, 654]`\n",
    "5. AMZN = `[2474, 2442, 2758, 3164, 3450, 3148, 3036, 3168, 3256, 3206, 3092, 3074]`\n",
    "6. NVDA = `[291, 354, 379, 424, 534, 540, 501, 535, 522, 519, 548, 513]`\n",
    "7. INTC = `[58, 61, 58, 46, 49, 51, 43, 47, 49, 55, 60, 63]`\n",
    "8. AMD = `[79, 84, 85, 91, 92, 75, 81, 90, 77, 52, 53, 52]` \n",
    "\n",
    "**Output**\n",
    "\n",
    "1. GOOG = `[1, 2, 1, 4, 5, 1, 2, 8, 1, 10, 11, 12]`\n",
    "2. MSFT = `[1, 2, 3, 4, 5, 1, 1, 3, 4, 10, 11, 1]`\n",
    "3. AAPL = `[1, 2, 3, 4, 5, 1, 1, 3, 9, 1, 1, 1]`\n",
    "4. TSLA = `[1, 2, 3, 4, 5, 1, 1, 8, 9, 10, 1, 1]`\n",
    "5. AMZN = `[1, 1, 3, 4, 5, 1, 1, 3, 4, 1, 1, 1]`\n",
    "6. NVDA = `[1, 2, 3, 4, 5, 6, 1, 2, 1, 1, 11, 1]`\n",
    "7. INTC = `[1, 2, 1, 1, 2, 3, 1, 2, 3, 7, 9, 12]`\n",
    "8. AMD = `[1, 2, 1, 4, 5, 1, 1, 8, 1, 1, 1, 1]` \n",
    "\n",
    "\n",
    "<br/>\n",
    "\n",
    "Based on the above, we can now create a signature of our function:"
   ]
  },
  {
   "cell_type": "code",
   "execution_count": null,
   "id": "03bb36f3",
   "metadata": {},
   "outputs": [],
   "source": [
    "GOOG = [2043,2036,1835,1751,1760,1621,1469,1634,1482,1413,1428,1348]\n",
    "MSFT = [230,231,231,221,213,201,209,223,203,202,181,177]\n",
    "AAPL = [119,121,131,132,118,108,115,128,105,90,78,72]\n",
    "TSLA = [654,675,793,705,567,388,429,498,286,215,167,156]\n",
    "AMZN = [3074,3092,3206,3256,3168,3036,3148,3450,3164,2758,2442,2474]\n",
    "NVDA = [513,548,519,522,535,501,540,534,424,379,354,291]\n",
    "INTC = [63,60,55,49,47,43,51,49,46,58,61,58]\n",
    "AMD = [79,84,85,91,92,75,81,90,77,52,53,52]"
   ]
  },
  {
   "cell_type": "code",
   "execution_count": null,
   "id": "b6696b92",
   "metadata": {},
   "outputs": [],
   "source": [
    "# Reversing the list, because it was copy in desceding time order\n",
    "GOOG = GOOG[::-1]\n",
    "MSFT = MSFT[::-1]\n",
    "AAPL = AAPL[::-1]\n",
    "TSLA = TSLA[::-1]\n",
    "AMZN = AMZN[::-1]\n",
    "NVDA = NVDA[::-1]\n",
    "INTC = INTC[::-1]\n",
    "AMD = AMD[::-1]\n",
    "\n",
    "# update lists\n",
    "print('Updated List ascending order: \\n','Google:',GOOG,'\\n','Microsoft:',MSFT,'\\n',\n",
    "        'Apple:',AAPL,'\\n','Tesla:',TSLA,'\\n','Amazon:',AMZN,'\\n',\n",
    "        'Nvidia:',NVDA,'\\n','Intel:',INTC,'\\n','AMD:',AMD )"
   ]
  },
  {
   "cell_type": "code",
   "execution_count": null,
   "id": "87f2be93",
   "metadata": {},
   "outputs": [],
   "source": [
    "import matplotlib.pyplot as plt\n",
    "import numpy as np\n",
    "\n",
    "f, (ax1,ax2,ax3) = plt.subplots(1, 3, figsize=(20, 5))\n",
    "index = np.arange(len(GOOG))\n",
    "ax1.bar(np.arange(len(GOOG)),GOOG, color='pink')\n",
    "ax1.set_title('Google prices')\n",
    "ax2.bar(np.arange(len(MSFT)),MSFT, color='blue')\n",
    "ax2.set_title('Microsoft prices')\n",
    "ax3.bar(np.arange(len(AAPL)),AAPL,color='gray')\n",
    "ax3.set_title('Apple prices')\n",
    "f, (ax4,ax5,ax6) = plt.subplots(1, 3, figsize=(20, 5))\n",
    "ax4.bar(np.arange(len(TSLA)),TSLA, color='red')\n",
    "ax4.set_title('Tesla prices')\n",
    "ax5.bar(np.arange(len(AMZN)),AMZN,color='orange')\n",
    "ax5.set_title('Amazon prices')\n",
    "ax6.bar(np.arange(len(NVDA)),NVDA,color='green')\n",
    "ax6.set_title('Nvidia prices')\n",
    "f, (ax7,ax8,ax9) = plt.subplots(1, 3, figsize=(20, 5))\n",
    "ax7.bar(np.arange(len(INTC)),INTC, color='cyan')\n",
    "ax7.set_title('Intel prices')\n",
    "ax8.bar(np.arange(len(AMD)),AMD,color='black')\n",
    "ax8.set_title('AMD prices')"
   ]
  },
  {
   "cell_type": "code",
   "execution_count": null,
   "id": "cef23b08",
   "metadata": {},
   "outputs": [],
   "source": [
    "# Create a function signature here. The body of the function can contain a single statement: pass\n",
    "def span_brute(price): \n",
    "    pass      "
   ]
  },
  {
   "cell_type": "markdown",
   "id": "cb4a2415",
   "metadata": {},
   "source": [
    "Save and upload your work before continuing."
   ]
  },
  {
   "cell_type": "code",
   "execution_count": null,
   "id": "7b1ad82a",
   "metadata": {},
   "outputs": [],
   "source": [
    "jovian.commit()"
   ]
  },
  {
   "cell_type": "markdown",
   "id": "1a7ab3eb",
   "metadata": {},
   "source": [
    "### 2. Come up with some example inputs & outputs. Try to cover all edge cases.\n",
    "\n",
    "Our function should be able to handle any set of valid inputs we pass into it. Here's a list of some possible variations we might encounter:\n",
    "\n",
    "1. test1 = {'input': {'price': `[1348, 1428, 1413, 1482, 1634, 1469, 1621, 1760, 1751, 1835, 2036, 2043]`},\n",
    "    \n",
    "            'output': `[1, 2, 1, 4, 5, 1, 2, 8, 1, 10, 11, 12]`}\n",
    "   \n",
    "2. test2 = {'input': {'price': `[177, 181, 202, 203, 223, 209, 201, 213, 221, 231, 231, 230]`},\n",
    "    \n",
    "            'output': `[1, 2, 3, 4, 5, 1, 1, 3, 4, 10, 11, 1]`}\n",
    "\n",
    "3. test3 = {'input': {'price': `[72, 78, 90, 105, 128, 115, 108, 118, 132, 131, 121, 119]`},\n",
    "    \n",
    "            'output': `[1, 2, 3, 4, 5, 1, 1, 3, 9, 1, 1, 1]`}\n",
    "\n",
    "4. test4 = {'input': {'price': `[156, 167, 215, 286, 498, 429, 388, 567, 705, 793, 675, 654]`},\n",
    "    \n",
    "            'output': `[1, 2, 3, 4, 5, 1, 1, 8, 9, 10, 1, 1]`}\n",
    "\n",
    "5. test5 = {'input': {'price': `[2474, 2442, 2758, 3164, 3450, 3148, 3036, 3168, 3256, 3206, 3092, 3074]`},\n",
    "    \n",
    "            'output': `[1, 1, 3, 4, 5, 1, 1, 3, 4, 1, 1, 1]`}\n",
    "\n",
    "6. test6 = {'input': {'price': `[291, 354, 379, 424, 534, 540, 501, 535, 522, 519, 548, 513]`},\n",
    "    \n",
    "            'output': `[1, 2, 3, 4, 5, 6, 1, 2, 1, 1, 11, 1]`}\n",
    "\n",
    "7. test7 = {'input': {'price': `[58, 61, 58, 46, 49, 51, 43, 47, 49, 55, 60, 63]`},\n",
    "    \n",
    "            'output': `[1, 2, 1, 1, 2, 3, 1, 2, 3, 7, 9, 12]`}\n",
    "\n",
    "8. test8 = {'input': {'price': `[52, 53, 52, 77, 90, 81, 75, 92, 91, 85, 84, 79]`},\n",
    "    \n",
    "            'output': `[1, 2, 1, 4, 5, 1, 1, 8, 1, 1, 1, 1]`}\n",
    "\n",
    "\n",
    "We'll express our test cases as dictionaries, to test them easily. Each dictionary will contain 2 keys: `input` (a dictionary itself containing one key for each argument to the function and `output` (the expected result from the function). "
   ]
  },
  {
   "cell_type": "code",
   "execution_count": null,
   "id": "63bb64b9",
   "metadata": {},
   "outputs": [],
   "source": [
    "test0 = {\n",
    "    'input': {'price': [10, -10 ,0, 5, 90, 120, 80, 100, 80, 60, 70, 60, 75, 85]},\n",
    "    'output': [1, 1, 2, 3, 5, 6, 1, 2, 1, 1, 2, 1, 4, 6]\n",
    "    }"
   ]
  },
  {
   "cell_type": "code",
   "execution_count": null,
   "id": "b1a973c6",
   "metadata": {},
   "outputs": [],
   "source": [
    "test1 = {\n",
    "    'input': {'price': [1348, 1428, 1413, 1482, 1634, 1469, 1621, 1760, 1751, 1835, 2036, 2043]},\n",
    "    'output': [1, 2, 1, 4, 5, 1, 2, 8, 1, 10, 11, 12]}\n",
    "test2 = {\n",
    "    'input': {'price': [177, 181, 202, 203, 223, 209, 201, 213, 221, 231, 231, 230]},\n",
    "    'output': [1, 2, 3, 4, 5, 1, 1, 3, 4, 10, 11, 1]}\n",
    "test3 = {\n",
    "    'input': {'price': [72, 78, 90, 105, 128, 115, 108, 118, 132, 131, 121, 119]},\n",
    "    'output': [1, 2, 3, 4, 5, 1, 1, 3, 9, 1, 1, 1]}\n",
    "test4 = {\n",
    "    'input': {'price': [156, 167, 215, 286, 498, 429, 388, 567, 705, 793, 675, 654]},\n",
    "    'output': [1, 2, 3, 4, 5, 1, 1, 8, 9, 10, 1, 1]}\n",
    "test5 = {\n",
    "    'input': {'price': [2474, 2442, 2758, 3164, 3450, 3148, 3036, 3168, 3256, 3206, 3092, 3074]},\n",
    "    'output': [1, 1, 3, 4, 5, 1, 1, 3, 4, 1, 1, 1]}\n",
    "test6 = {\n",
    "    'input': {'price': [291, 354, 379, 424, 534, 540, 501, 535, 522, 519, 548, 513]},\n",
    "    'output': [1, 2, 3, 4, 5, 6, 1, 2, 1, 1, 11, 1]}\n",
    "test7 = {\n",
    "    'input': {'price': [58, 61, 58, 46, 49, 51, 43, 47, 49, 55, 60, 63]},\n",
    "    'output': [1, 2, 1, 1, 2, 3, 1, 2, 3, 7, 9, 12]}\n",
    "test8 = {\n",
    "    'input': {'price': [52, 53, 52, 77, 90, 81, 75, 92, 91, 85, 84, 79]},\n",
    "    'output': [1, 2, 1, 4, 5, 1, 1, 8, 1, 1, 1, 1]}"
   ]
  },
  {
   "cell_type": "markdown",
   "id": "2947cf62",
   "metadata": {},
   "source": [
    "We can test the function by passing the input to it directly or by using the `evaluate_test_case` function from `jovian`."
   ]
  },
  {
   "cell_type": "markdown",
   "id": "a4ea1085",
   "metadata": {},
   "source": [
    "Create one test case for each of the scenarios listed above. We'll store our test cases in an array called `tests`."
   ]
  },
  {
   "cell_type": "code",
   "execution_count": null,
   "id": "05c38bec",
   "metadata": {},
   "outputs": [],
   "source": [
    "tests = []"
   ]
  },
  {
   "cell_type": "code",
   "execution_count": null,
   "id": "6044a5b1",
   "metadata": {},
   "outputs": [],
   "source": [
    "tests.append(test0)"
   ]
  },
  {
   "cell_type": "code",
   "execution_count": null,
   "id": "64ff6731",
   "metadata": {},
   "outputs": [],
   "source": [
    "# add more test cases\n",
    "tests.append(test1)\n",
    "tests.append(test2)\n",
    "tests.append(test3)\n",
    "tests.append(test4)\n",
    "tests.append(test5)\n",
    "tests.append(test6)\n",
    "tests.append(test7)\n",
    "tests.append(test8)"
   ]
  },
  {
   "cell_type": "code",
   "execution_count": null,
   "id": "6aaaf3a8",
   "metadata": {},
   "outputs": [],
   "source": [
    "tests"
   ]
  },
  {
   "cell_type": "markdown",
   "id": "bebb86aa",
   "metadata": {},
   "source": [
    "Evaluate your function against all the test cases together using the `evaluate_test_cases` (plural) function from `jovian`."
   ]
  },
  {
   "cell_type": "markdown",
   "id": "f8df2b9a",
   "metadata": {},
   "source": [
    "Verify that all the test cases were evaluated. We expect them all to fail, since we haven't implemented the function yet.\n",
    "\n",
    "Let's save our work before continuing."
   ]
  },
  {
   "cell_type": "code",
   "execution_count": null,
   "id": "0d31482b",
   "metadata": {},
   "outputs": [],
   "source": [
    "jovian.commit()"
   ]
  },
  {
   "cell_type": "markdown",
   "id": "0bd692d0",
   "metadata": {},
   "source": [
    "### 3. Come up with a correct solution for the problem. State it in plain English.\n",
    "\n",
    "Our first goal should always be to come up with a _correct_ solution to the problem, which may not necessarily be the most _efficient_ solution. Come with a correct solution and explain it in simple words below:\n",
    "\n",
    "> **Implementation.** \n",
    "First, we create a stack and an empty list of stock spans, which will contain the output.\n",
    "\n",
    "Then, always the first stock-span is 1 by default.\n",
    "\n",
    "> **Calculation of the stock span for a certain day**\n",
    "\n",
    "1. Check the stock price that corresponds to the index on top of the stack.\n",
    "2. Compare it with the stock price at the current day. If it’s greater than the current price, pop this index out of the stack and assign a value of 1. Repeat the same process with the new stack top.\n",
    "3. When the stock price that corresponds to the index at the top of​ the stack​ is smaller than the stock price of the current day, calculate the stock-span by subtracting the index at the top of the stack from the index of the current day.\n",
    "4. Once we have calculated the stock span for a certain day, we add this to the corresponding index in the list of stock spans. \n",
    "5. Push the index of this element onto the stack.\n",
    "\n",
    "\n",
    "> For example, if an array of 7 days prices is given as `[100, 80, 60, 70, 60, 75, 85]`, then the span values for corresponding 7 days are `[1, 1, 1, 2, 1, 4, 6]`. Our list of spans is ready.\n",
    "\n",
    "\n",
    "Let's save and upload our work before continuing.\n",
    "\n",
    "\n"
   ]
  },
  {
   "cell_type": "code",
   "execution_count": null,
   "id": "29a56978",
   "metadata": {},
   "outputs": [],
   "source": [
    "jovian.commit()"
   ]
  },
  {
   "cell_type": "markdown",
   "id": "fc105908",
   "metadata": {},
   "source": [
    "###  4. Implement the solution and test it using example inputs. Fix bugs, if any."
   ]
  },
  {
   "cell_type": "markdown",
   "id": "525054cf",
   "metadata": {},
   "source": [
    "Below is the implementation of the Stock Span algorithm."
   ]
  },
  {
   "cell_type": "code",
   "execution_count": 15,
   "id": "9b69e80d",
   "metadata": {},
   "outputs": [],
   "source": [
    "def span_brute(price): \n",
    "    # Span value of first day is always 1 \n",
    "    n = len(price)\n",
    "    S = [None] * n\n",
    "    S[0] = 1\n",
    "    # it has 3 arguments:\n",
    "    # price: the list of stock prices,\n",
    "    # n: the lenght of the list pf prices and,\n",
    "    # S: is the output and empty list of the stock prices with same size\n",
    "    # Calculate span value of remaining days by linearly  \n",
    "    # checking previous days \n",
    "    for i in range(0, len(price)): \n",
    "        S[i] = 1   # Initialize span value \n",
    "        # Traverse left while the next element on left is \n",
    "        # smaller than price[i] \n",
    "        j = i - 1\n",
    "        while (j >= 0) and (price[i] >= price[j]):\n",
    "            S[i] += 1\n",
    "            j -= 1\n",
    "    return S"
   ]
  },
  {
   "cell_type": "code",
   "execution_count": 16,
   "id": "3082e591",
   "metadata": {},
   "outputs": [],
   "source": [
    "from jovian.pythondsa import evaluate_test_case"
   ]
  },
  {
   "cell_type": "code",
   "execution_count": 17,
   "id": "33d8b9b2",
   "metadata": {},
   "outputs": [
    {
     "output_type": "stream",
     "name": "stdout",
     "text": [
      "\nInput:\n{'price': [10, -10, 0, 5, 90, 120, 80, 100, 80, 60, 70, 60, 75, 85]}\n\nExpected Output:\n[1, 1, 2, 3, 5, 6, 1, 2, 1, 1, 2, 1, 4, 6]\n\n\nActual Output:\n[1, 1, 2, 3, 5, 6, 1, 2, 1, 1, 2, 1, 4, 6]\n\nExecution Time:\n0.026 ms\n\nTest Result:\n\u001b[92mPASSED\u001b[0m\n\n"
     ]
    },
    {
     "output_type": "execute_result",
     "data": {
      "text/plain": [
       "([1, 1, 2, 3, 5, 6, 1, 2, 1, 1, 2, 1, 4, 6], True, 0.026)"
      ]
     },
     "metadata": {},
     "execution_count": 17
    }
   ],
   "source": [
    "evaluate_test_case(span_brute, test0)"
   ]
  },
  {
   "cell_type": "code",
   "execution_count": 20,
   "id": "8cdd5286",
   "metadata": {},
   "outputs": [],
   "source": [
    "from jovian.pythondsa import evaluate_test_cases"
   ]
  },
  {
   "cell_type": "code",
   "execution_count": 88,
   "id": "69b5164f",
   "metadata": {},
   "outputs": [
    {
     "output_type": "stream",
     "name": "stdout",
     "text": [
      "\n\u001b[1mTEST CASE #0\u001b[0m\n\nInput:\n{'price': [10, -10, 0, 5, 90, 120, 80, 100, 80, 60, 70, 60, 75, 85]}\n\nExpected Output:\n[1, 1, 2, 3, 5, 6, 1, 2, 1, 1, 2, 1, 4, 6]\n\n\nActual Output:\n[1, 1, 2, 3, 5, 6, 1, 2, 1, 1, 2, 1, 4, 6]\n\nExecution Time:\n0.072 ms\n\nTest Result:\n\u001b[92mPASSED\u001b[0m\n\n\n\u001b[1mTEST CASE #1\u001b[0m\n\nInput:\n{'price': [1348, 1428, 1413, 1482, 1634, 1469, 1621, 1760, 1751, 1835, 2036, 2043]}\n\nExpected Output:\n[1, 2, 1, 4, 5, 1, 2, 8, 1, 10, 11, 12]\n\n\nActual Output:\n[1, 2, 1, 4, 5, 1, 2, 8, 1, 10, 11, 12]\n\nExecution Time:\n0.037 ms\n\nTest Result:\n\u001b[92mPASSED\u001b[0m\n\n\n\u001b[1mTEST CASE #2\u001b[0m\n\nInput:\n{'price': [177, 181, 202, 203, 223, 209, 201, 213, 221, 231, 231, 230]}\n\nExpected Output:\n[1, 2, 3, 4, 5, 1, 1, 3, 4, 10, 11, 1]\n\n\nActual Output:\n[1, 2, 3, 4, 5, 1, 1, 3, 4, 10, 11, 1]\n\nExecution Time:\n0.028 ms\n\nTest Result:\n\u001b[92mPASSED\u001b[0m\n\n\n\u001b[1mTEST CASE #3\u001b[0m\n\nInput:\n{'price': [72, 78, 90, 105, 128, 115, 108, 118, 132, 131, 121, 119]}\n\nExpected Output:\n[1, 2, 3, 4, 5, 1, 1, 3, 9, 1, 1, 1]\n\n\nActual Output:\n[1, 2, 3, 4, 5, 1, 1, 3, 9, 1, 1, 1]\n\nExecution Time:\n0.028 ms\n\nTest Result:\n\u001b[92mPASSED\u001b[0m\n\n\n\u001b[1mTEST CASE #4\u001b[0m\n\nInput:\n{'price': [156, 167, 215, 286, 498, 429, 388, 567, 705, 793, 675, 654]}\n\nExpected Output:\n[1, 2, 3, 4, 5, 1, 1, 8, 9, 10, 1, 1]\n\n\nActual Output:\n[1, 2, 3, 4, 5, 1, 1, 8, 9, 10, 1, 1]\n\nExecution Time:\n0.039 ms\n\nTest Result:\n\u001b[92mPASSED\u001b[0m\n\n\n\u001b[1mTEST CASE #5\u001b[0m\n\nInput:\n{'price': [2474, 2442, 2758, 3164, 3450, 3148, 3036, 3168, 3256, 3206, 3092, 3074]}\n\nExpected Output:\n[1, 1, 3, 4, 5, 1, 1, 3, 4, 1, 1, 1]\n\n\nActual Output:\n[1, 1, 3, 4, 5, 1, 1, 3, 4, 1, 1, 1]\n\nExecution Time:\n0.028 ms\n\nTest Result:\n\u001b[92mPASSED\u001b[0m\n\n\n\u001b[1mTEST CASE #6\u001b[0m\n\nInput:\n{'price': [291, 354, 379, 424, 534, 540, 501, 535, 522, 519, 548, 513]}\n\nExpected Output:\n[1, 2, 3, 4, 5, 6, 1, 2, 1, 1, 11, 1]\n\n\nActual Output:\n[1, 2, 3, 4, 5, 6, 1, 2, 1, 1, 11, 1]\n\nExecution Time:\n0.067 ms\n\nTest Result:\n\u001b[92mPASSED\u001b[0m\n\n\n\u001b[1mTEST CASE #7\u001b[0m\n\nInput:\n{'price': [58, 61, 58, 46, 49, 51, 43, 47, 49, 55, 60, 63]}\n\nExpected Output:\n[1, 2, 1, 1, 2, 3, 1, 2, 3, 7, 9, 12]\n\n\nActual Output:\n[1, 2, 1, 1, 2, 3, 1, 2, 3, 7, 9, 12]\n\nExecution Time:\n0.027 ms\n\nTest Result:\n\u001b[92mPASSED\u001b[0m\n\n\n\u001b[1mTEST CASE #8\u001b[0m\n\nInput:\n{'price': [52, 53, 52, 77, 90, 81, 75, 92, 91, 85, 84, 79]}\n\nExpected Output:\n[1, 2, 1, 4, 5, 1, 1, 8, 1, 1, 1, 1]\n\n\nActual Output:\n[1, 2, 1, 4, 5, 1, 1, 8, 1, 1, 1, 1]\n\nExecution Time:\n0.025 ms\n\nTest Result:\n\u001b[92mPASSED\u001b[0m\n\n\n\u001b[1mSUMMARY\u001b[0m\n\nTOTAL: 9, \u001b[92mPASSED\u001b[0m: 9, \u001b[91mFAILED\u001b[0m: 0\n"
     ]
    }
   ],
   "source": [
    "res2= evaluate_test_cases(span_brute, tests)"
   ]
  },
  {
   "cell_type": "markdown",
   "id": "661ac673",
   "metadata": {},
   "source": [
    "### 5. Analyze the algorithm's complexity and identify inefficiencies, if any."
   ]
  },
  {
   "cell_type": "code",
   "execution_count": 18,
   "id": "021cda72",
   "metadata": {},
   "outputs": [
    {
     "output_type": "stream",
     "name": "stdout",
     "text": [
      "7501 12510\n3750001 6250010\n"
     ]
    }
   ],
   "source": [
    "n = 500\n",
    "y1 = 15*n+1 \n",
    "y2 = 25*n+10 \n",
    "\n",
    "print(y1,y2)\n",
    "\n",
    "y3 = 15*n**2+1 \n",
    "y4 = 25*n**2+10 \n",
    "\n",
    "print(y3,y4)"
   ]
  },
  {
   "cell_type": "markdown",
   "id": "51c4d853",
   "metadata": {},
   "source": [
    "One of the drawbacks of the previous algorithm is its time Complexity, which is *O(n^2)*.\n",
    "\n",
    "Let’s examine at the previous solution. So, the ___Brute force solution___ would be: for each day, says current day, scan all days prior to it, and increment the span until the price of the stock is higher than the current day. For the simple implementation, the time complexity is O(n2) where n is the number of days."
   ]
  },
  {
   "cell_type": "markdown",
   "id": "5be03027",
   "metadata": {},
   "source": [
    "O(n) relates to the upper-bound run-time for the algorithm to run. In this case, O(n) means for n-elements there will need to be all n-elements considered for the algorithms computation to complete, or linear. Also, consider equations such as the following, where n is equal to 500:\n",
    "\n",
    "~~~\n",
    "Equation 1\n",
    "y1 = 15n+1 = 7,501\n",
    "y2 = 25n+10 = 12,510\n",
    "~~~\n",
    "\n",
    "These both are O(n) complexity because as the number of elements grow, the result grows larger in _y2_. We neglect the constants because the equation will grow larger and fast due to the value of **n**, rather than due to the constant values which never change. Whereas, with the following equation (including an O(n²) case:\n",
    "\n",
    "~~~\n",
    "Equation 2\n",
    "y1 = 15n²+1 = 3,750,001\n",
    "y2 = 25n²+10 = 6,250,010\n",
    "~~~\n",
    "\n",
    "The complexity is going to be O(n^2) due to the _15n² and 25n²_ being the largest growing elements contributing to te extent growing in the results. In our example, the brute force algorithm takes as long as O(n^2) (worst case) this is common in analysis of sorting algorithms or searching algorithms."
   ]
  },
  {
   "cell_type": "code",
   "execution_count": 99,
   "id": "521506e9",
   "metadata": {},
   "outputs": [
    {
     "output_type": "display_data",
     "data": {
      "text/plain": "<Figure size 432x288 with 1 Axes>",
      "image/svg+xml": "<?xml version=\"1.0\" encoding=\"utf-8\" standalone=\"no\"?>\r\n<!DOCTYPE svg PUBLIC \"-//W3C//DTD SVG 1.1//EN\"\r\n  \"http://www.w3.org/Graphics/SVG/1.1/DTD/svg11.dtd\">\r\n<svg height=\"259.074688pt\" version=\"1.1\" viewBox=\"0 0 366.6 259.074688\" width=\"366.6pt\" xmlns=\"http://www.w3.org/2000/svg\" xmlns:xlink=\"http://www.w3.org/1999/xlink\">\r\n <metadata>\r\n  <rdf:RDF xmlns:cc=\"http://creativecommons.org/ns#\" xmlns:dc=\"http://purl.org/dc/elements/1.1/\" xmlns:rdf=\"http://www.w3.org/1999/02/22-rdf-syntax-ns#\">\r\n   <cc:Work>\r\n    <dc:type rdf:resource=\"http://purl.org/dc/dcmitype/StillImage\"/>\r\n    <dc:date>2021-04-15T18:01:17.851188</dc:date>\r\n    <dc:format>image/svg+xml</dc:format>\r\n    <dc:creator>\r\n     <cc:Agent>\r\n      <dc:title>Matplotlib v3.4.1, https://matplotlib.org/</dc:title>\r\n     </cc:Agent>\r\n    </dc:creator>\r\n   </cc:Work>\r\n  </rdf:RDF>\r\n </metadata>\r\n <defs>\r\n  <style type=\"text/css\">*{stroke-linecap:butt;stroke-linejoin:round;}</style>\r\n </defs>\r\n <g id=\"figure_1\">\r\n  <g id=\"patch_1\">\r\n   <path d=\"M 0 259.074688 \r\nL 366.6 259.074688 \r\nL 366.6 0 \r\nL 0 0 \r\nz\r\n\" style=\"fill:#ffffff;\"/>\r\n  </g>\r\n  <g id=\"axes_1\">\r\n   <g id=\"patch_2\">\r\n    <path d=\"M 24.6 239.229375 \r\nL 359.4 239.229375 \r\nL 359.4 21.789375 \r\nL 24.6 21.789375 \r\nz\r\n\" style=\"fill:#ffffff;\"/>\r\n   </g>\r\n   <g id=\"matplotlib.axis_1\">\r\n    <g id=\"xtick_1\">\r\n     <g id=\"line2d_1\">\r\n      <path clip-path=\"url(#p7d21d4c72c)\" d=\"M 39.818182 239.229375 \r\nL 39.818182 21.789375 \r\n\" style=\"fill:none;stroke:#cccccc;stroke-linecap:round;stroke-width:0.8;\"/>\r\n     </g>\r\n     <g id=\"line2d_2\"/>\r\n     <g id=\"text_1\">\r\n      <!-- 0.0 -->\r\n      <g style=\"fill:#262626;\" transform=\"translate(32.868182 249.887188)scale(0.1 -0.1)\">\r\n       <defs>\r\n        <path d=\"M 266 2259 \r\nQ 266 3072 433 3567 \r\nQ 600 4063 929 4331 \r\nQ 1259 4600 1759 4600 \r\nQ 2128 4600 2406 4451 \r\nQ 2684 4303 2865 4023 \r\nQ 3047 3744 3150 3342 \r\nQ 3253 2941 3253 2259 \r\nQ 3253 1453 3087 958 \r\nQ 2922 463 2592 192 \r\nQ 2263 -78 1759 -78 \r\nQ 1097 -78 719 397 \r\nQ 266 969 266 2259 \r\nz\r\nM 844 2259 \r\nQ 844 1131 1108 757 \r\nQ 1372 384 1759 384 \r\nQ 2147 384 2411 759 \r\nQ 2675 1134 2675 2259 \r\nQ 2675 3391 2411 3762 \r\nQ 2147 4134 1753 4134 \r\nQ 1366 4134 1134 3806 \r\nQ 844 3388 844 2259 \r\nz\r\n\" id=\"ArialMT-30\" transform=\"scale(0.015625)\"/>\r\n        <path d=\"M 581 0 \r\nL 581 641 \r\nL 1222 641 \r\nL 1222 0 \r\nL 581 0 \r\nz\r\n\" id=\"ArialMT-2e\" transform=\"scale(0.015625)\"/>\r\n       </defs>\r\n       <use xlink:href=\"#ArialMT-30\"/>\r\n       <use x=\"55.615234\" xlink:href=\"#ArialMT-2e\"/>\r\n       <use x=\"83.398438\" xlink:href=\"#ArialMT-30\"/>\r\n      </g>\r\n     </g>\r\n    </g>\r\n    <g id=\"xtick_2\">\r\n     <g id=\"line2d_3\">\r\n      <path clip-path=\"url(#p7d21d4c72c)\" d=\"M 77.863636 239.229375 \r\nL 77.863636 21.789375 \r\n\" style=\"fill:none;stroke:#cccccc;stroke-linecap:round;stroke-width:0.8;\"/>\r\n     </g>\r\n     <g id=\"line2d_4\"/>\r\n     <g id=\"text_2\">\r\n      <!-- 2.5 -->\r\n      <g style=\"fill:#262626;\" transform=\"translate(70.913636 249.887188)scale(0.1 -0.1)\">\r\n       <defs>\r\n        <path d=\"M 3222 541 \r\nL 3222 0 \r\nL 194 0 \r\nQ 188 203 259 391 \r\nQ 375 700 629 1000 \r\nQ 884 1300 1366 1694 \r\nQ 2113 2306 2375 2664 \r\nQ 2638 3022 2638 3341 \r\nQ 2638 3675 2398 3904 \r\nQ 2159 4134 1775 4134 \r\nQ 1369 4134 1125 3890 \r\nQ 881 3647 878 3216 \r\nL 300 3275 \r\nQ 359 3922 746 4261 \r\nQ 1134 4600 1788 4600 \r\nQ 2447 4600 2831 4234 \r\nQ 3216 3869 3216 3328 \r\nQ 3216 3053 3103 2787 \r\nQ 2991 2522 2730 2228 \r\nQ 2469 1934 1863 1422 \r\nQ 1356 997 1212 845 \r\nQ 1069 694 975 541 \r\nL 3222 541 \r\nz\r\n\" id=\"ArialMT-32\" transform=\"scale(0.015625)\"/>\r\n        <path d=\"M 266 1200 \r\nL 856 1250 \r\nQ 922 819 1161 601 \r\nQ 1400 384 1738 384 \r\nQ 2144 384 2425 690 \r\nQ 2706 997 2706 1503 \r\nQ 2706 1984 2436 2262 \r\nQ 2166 2541 1728 2541 \r\nQ 1456 2541 1237 2417 \r\nQ 1019 2294 894 2097 \r\nL 366 2166 \r\nL 809 4519 \r\nL 3088 4519 \r\nL 3088 3981 \r\nL 1259 3981 \r\nL 1013 2750 \r\nQ 1425 3038 1878 3038 \r\nQ 2478 3038 2890 2622 \r\nQ 3303 2206 3303 1553 \r\nQ 3303 931 2941 478 \r\nQ 2500 -78 1738 -78 \r\nQ 1113 -78 717 272 \r\nQ 322 622 266 1200 \r\nz\r\n\" id=\"ArialMT-35\" transform=\"scale(0.015625)\"/>\r\n       </defs>\r\n       <use xlink:href=\"#ArialMT-32\"/>\r\n       <use x=\"55.615234\" xlink:href=\"#ArialMT-2e\"/>\r\n       <use x=\"83.398438\" xlink:href=\"#ArialMT-35\"/>\r\n      </g>\r\n     </g>\r\n    </g>\r\n    <g id=\"xtick_3\">\r\n     <g id=\"line2d_5\">\r\n      <path clip-path=\"url(#p7d21d4c72c)\" d=\"M 115.909091 239.229375 \r\nL 115.909091 21.789375 \r\n\" style=\"fill:none;stroke:#cccccc;stroke-linecap:round;stroke-width:0.8;\"/>\r\n     </g>\r\n     <g id=\"line2d_6\"/>\r\n     <g id=\"text_3\">\r\n      <!-- 5.0 -->\r\n      <g style=\"fill:#262626;\" transform=\"translate(108.959091 249.887188)scale(0.1 -0.1)\">\r\n       <use xlink:href=\"#ArialMT-35\"/>\r\n       <use x=\"55.615234\" xlink:href=\"#ArialMT-2e\"/>\r\n       <use x=\"83.398438\" xlink:href=\"#ArialMT-30\"/>\r\n      </g>\r\n     </g>\r\n    </g>\r\n    <g id=\"xtick_4\">\r\n     <g id=\"line2d_7\">\r\n      <path clip-path=\"url(#p7d21d4c72c)\" d=\"M 153.954545 239.229375 \r\nL 153.954545 21.789375 \r\n\" style=\"fill:none;stroke:#cccccc;stroke-linecap:round;stroke-width:0.8;\"/>\r\n     </g>\r\n     <g id=\"line2d_8\"/>\r\n     <g id=\"text_4\">\r\n      <!-- 7.5 -->\r\n      <g style=\"fill:#262626;\" transform=\"translate(147.004545 249.887188)scale(0.1 -0.1)\">\r\n       <defs>\r\n        <path d=\"M 303 3981 \r\nL 303 4522 \r\nL 3269 4522 \r\nL 3269 4084 \r\nQ 2831 3619 2401 2847 \r\nQ 1972 2075 1738 1259 \r\nQ 1569 684 1522 0 \r\nL 944 0 \r\nQ 953 541 1156 1306 \r\nQ 1359 2072 1739 2783 \r\nQ 2119 3494 2547 3981 \r\nL 303 3981 \r\nz\r\n\" id=\"ArialMT-37\" transform=\"scale(0.015625)\"/>\r\n       </defs>\r\n       <use xlink:href=\"#ArialMT-37\"/>\r\n       <use x=\"55.615234\" xlink:href=\"#ArialMT-2e\"/>\r\n       <use x=\"83.398438\" xlink:href=\"#ArialMT-35\"/>\r\n      </g>\r\n     </g>\r\n    </g>\r\n    <g id=\"xtick_5\">\r\n     <g id=\"line2d_9\">\r\n      <path clip-path=\"url(#p7d21d4c72c)\" d=\"M 192 239.229375 \r\nL 192 21.789375 \r\n\" style=\"fill:none;stroke:#cccccc;stroke-linecap:round;stroke-width:0.8;\"/>\r\n     </g>\r\n     <g id=\"line2d_10\"/>\r\n     <g id=\"text_5\">\r\n      <!-- 10.0 -->\r\n      <g style=\"fill:#262626;\" transform=\"translate(182.269531 249.887188)scale(0.1 -0.1)\">\r\n       <defs>\r\n        <path d=\"M 2384 0 \r\nL 1822 0 \r\nL 1822 3584 \r\nQ 1619 3391 1289 3197 \r\nQ 959 3003 697 2906 \r\nL 697 3450 \r\nQ 1169 3672 1522 3987 \r\nQ 1875 4303 2022 4600 \r\nL 2384 4600 \r\nL 2384 0 \r\nz\r\n\" id=\"ArialMT-31\" transform=\"scale(0.015625)\"/>\r\n       </defs>\r\n       <use xlink:href=\"#ArialMT-31\"/>\r\n       <use x=\"55.615234\" xlink:href=\"#ArialMT-30\"/>\r\n       <use x=\"111.230469\" xlink:href=\"#ArialMT-2e\"/>\r\n       <use x=\"139.013672\" xlink:href=\"#ArialMT-30\"/>\r\n      </g>\r\n     </g>\r\n    </g>\r\n    <g id=\"xtick_6\">\r\n     <g id=\"line2d_11\">\r\n      <path clip-path=\"url(#p7d21d4c72c)\" d=\"M 230.045455 239.229375 \r\nL 230.045455 21.789375 \r\n\" style=\"fill:none;stroke:#cccccc;stroke-linecap:round;stroke-width:0.8;\"/>\r\n     </g>\r\n     <g id=\"line2d_12\"/>\r\n     <g id=\"text_6\">\r\n      <!-- 12.5 -->\r\n      <g style=\"fill:#262626;\" transform=\"translate(220.314986 249.887188)scale(0.1 -0.1)\">\r\n       <use xlink:href=\"#ArialMT-31\"/>\r\n       <use x=\"55.615234\" xlink:href=\"#ArialMT-32\"/>\r\n       <use x=\"111.230469\" xlink:href=\"#ArialMT-2e\"/>\r\n       <use x=\"139.013672\" xlink:href=\"#ArialMT-35\"/>\r\n      </g>\r\n     </g>\r\n    </g>\r\n    <g id=\"xtick_7\">\r\n     <g id=\"line2d_13\">\r\n      <path clip-path=\"url(#p7d21d4c72c)\" d=\"M 268.090909 239.229375 \r\nL 268.090909 21.789375 \r\n\" style=\"fill:none;stroke:#cccccc;stroke-linecap:round;stroke-width:0.8;\"/>\r\n     </g>\r\n     <g id=\"line2d_14\"/>\r\n     <g id=\"text_7\">\r\n      <!-- 15.0 -->\r\n      <g style=\"fill:#262626;\" transform=\"translate(258.36044 249.887188)scale(0.1 -0.1)\">\r\n       <use xlink:href=\"#ArialMT-31\"/>\r\n       <use x=\"55.615234\" xlink:href=\"#ArialMT-35\"/>\r\n       <use x=\"111.230469\" xlink:href=\"#ArialMT-2e\"/>\r\n       <use x=\"139.013672\" xlink:href=\"#ArialMT-30\"/>\r\n      </g>\r\n     </g>\r\n    </g>\r\n    <g id=\"xtick_8\">\r\n     <g id=\"line2d_15\">\r\n      <path clip-path=\"url(#p7d21d4c72c)\" d=\"M 306.136364 239.229375 \r\nL 306.136364 21.789375 \r\n\" style=\"fill:none;stroke:#cccccc;stroke-linecap:round;stroke-width:0.8;\"/>\r\n     </g>\r\n     <g id=\"line2d_16\"/>\r\n     <g id=\"text_8\">\r\n      <!-- 17.5 -->\r\n      <g style=\"fill:#262626;\" transform=\"translate(296.405895 249.887188)scale(0.1 -0.1)\">\r\n       <use xlink:href=\"#ArialMT-31\"/>\r\n       <use x=\"55.615234\" xlink:href=\"#ArialMT-37\"/>\r\n       <use x=\"111.230469\" xlink:href=\"#ArialMT-2e\"/>\r\n       <use x=\"139.013672\" xlink:href=\"#ArialMT-35\"/>\r\n      </g>\r\n     </g>\r\n    </g>\r\n    <g id=\"xtick_9\">\r\n     <g id=\"line2d_17\">\r\n      <path clip-path=\"url(#p7d21d4c72c)\" d=\"M 344.181818 239.229375 \r\nL 344.181818 21.789375 \r\n\" style=\"fill:none;stroke:#cccccc;stroke-linecap:round;stroke-width:0.8;\"/>\r\n     </g>\r\n     <g id=\"line2d_18\"/>\r\n     <g id=\"text_9\">\r\n      <!-- 20.0 -->\r\n      <g style=\"fill:#262626;\" transform=\"translate(334.451349 249.887188)scale(0.1 -0.1)\">\r\n       <use xlink:href=\"#ArialMT-32\"/>\r\n       <use x=\"55.615234\" xlink:href=\"#ArialMT-30\"/>\r\n       <use x=\"111.230469\" xlink:href=\"#ArialMT-2e\"/>\r\n       <use x=\"139.013672\" xlink:href=\"#ArialMT-30\"/>\r\n      </g>\r\n     </g>\r\n    </g>\r\n   </g>\r\n   <g id=\"matplotlib.axis_2\">\r\n    <g id=\"ytick_1\">\r\n     <g id=\"line2d_19\">\r\n      <path clip-path=\"url(#p7d21d4c72c)\" d=\"M 24.6 200.208312 \r\nL 359.4 200.208312 \r\n\" style=\"fill:none;stroke:#cccccc;stroke-linecap:round;stroke-width:0.8;\"/>\r\n     </g>\r\n     <g id=\"line2d_20\"/>\r\n     <g id=\"text_10\">\r\n      <!-- 0.2 -->\r\n      <g style=\"fill:#262626;\" transform=\"translate(7.2 203.787218)scale(0.1 -0.1)\">\r\n       <use xlink:href=\"#ArialMT-30\"/>\r\n       <use x=\"55.615234\" xlink:href=\"#ArialMT-2e\"/>\r\n       <use x=\"83.398438\" xlink:href=\"#ArialMT-32\"/>\r\n      </g>\r\n     </g>\r\n    </g>\r\n    <g id=\"ytick_2\">\r\n     <g id=\"line2d_21\">\r\n      <path clip-path=\"url(#p7d21d4c72c)\" d=\"M 24.6 154.681082 \r\nL 359.4 154.681082 \r\n\" style=\"fill:none;stroke:#cccccc;stroke-linecap:round;stroke-width:0.8;\"/>\r\n     </g>\r\n     <g id=\"line2d_22\"/>\r\n     <g id=\"text_11\">\r\n      <!-- 0.4 -->\r\n      <g style=\"fill:#262626;\" transform=\"translate(7.2 158.259988)scale(0.1 -0.1)\">\r\n       <defs>\r\n        <path d=\"M 2069 0 \r\nL 2069 1097 \r\nL 81 1097 \r\nL 81 1613 \r\nL 2172 4581 \r\nL 2631 4581 \r\nL 2631 1613 \r\nL 3250 1613 \r\nL 3250 1097 \r\nL 2631 1097 \r\nL 2631 0 \r\nL 2069 0 \r\nz\r\nM 2069 1613 \r\nL 2069 3678 \r\nL 634 1613 \r\nL 2069 1613 \r\nz\r\n\" id=\"ArialMT-34\" transform=\"scale(0.015625)\"/>\r\n       </defs>\r\n       <use xlink:href=\"#ArialMT-30\"/>\r\n       <use x=\"55.615234\" xlink:href=\"#ArialMT-2e\"/>\r\n       <use x=\"83.398438\" xlink:href=\"#ArialMT-34\"/>\r\n      </g>\r\n     </g>\r\n    </g>\r\n    <g id=\"ytick_3\">\r\n     <g id=\"line2d_23\">\r\n      <path clip-path=\"url(#p7d21d4c72c)\" d=\"M 24.6 109.153852 \r\nL 359.4 109.153852 \r\n\" style=\"fill:none;stroke:#cccccc;stroke-linecap:round;stroke-width:0.8;\"/>\r\n     </g>\r\n     <g id=\"line2d_24\"/>\r\n     <g id=\"text_12\">\r\n      <!-- 0.6 -->\r\n      <g style=\"fill:#262626;\" transform=\"translate(7.2 112.732759)scale(0.1 -0.1)\">\r\n       <defs>\r\n        <path d=\"M 3184 3459 \r\nL 2625 3416 \r\nQ 2550 3747 2413 3897 \r\nQ 2184 4138 1850 4138 \r\nQ 1581 4138 1378 3988 \r\nQ 1113 3794 959 3422 \r\nQ 806 3050 800 2363 \r\nQ 1003 2672 1297 2822 \r\nQ 1591 2972 1913 2972 \r\nQ 2475 2972 2870 2558 \r\nQ 3266 2144 3266 1488 \r\nQ 3266 1056 3080 686 \r\nQ 2894 316 2569 119 \r\nQ 2244 -78 1831 -78 \r\nQ 1128 -78 684 439 \r\nQ 241 956 241 2144 \r\nQ 241 3472 731 4075 \r\nQ 1159 4600 1884 4600 \r\nQ 2425 4600 2770 4297 \r\nQ 3116 3994 3184 3459 \r\nz\r\nM 888 1484 \r\nQ 888 1194 1011 928 \r\nQ 1134 663 1356 523 \r\nQ 1578 384 1822 384 \r\nQ 2178 384 2434 671 \r\nQ 2691 959 2691 1453 \r\nQ 2691 1928 2437 2201 \r\nQ 2184 2475 1800 2475 \r\nQ 1419 2475 1153 2201 \r\nQ 888 1928 888 1484 \r\nz\r\n\" id=\"ArialMT-36\" transform=\"scale(0.015625)\"/>\r\n       </defs>\r\n       <use xlink:href=\"#ArialMT-30\"/>\r\n       <use x=\"55.615234\" xlink:href=\"#ArialMT-2e\"/>\r\n       <use x=\"83.398438\" xlink:href=\"#ArialMT-36\"/>\r\n      </g>\r\n     </g>\r\n    </g>\r\n    <g id=\"ytick_4\">\r\n     <g id=\"line2d_25\">\r\n      <path clip-path=\"url(#p7d21d4c72c)\" d=\"M 24.6 63.626623 \r\nL 359.4 63.626623 \r\n\" style=\"fill:none;stroke:#cccccc;stroke-linecap:round;stroke-width:0.8;\"/>\r\n     </g>\r\n     <g id=\"line2d_26\"/>\r\n     <g id=\"text_13\">\r\n      <!-- 0.8 -->\r\n      <g style=\"fill:#262626;\" transform=\"translate(7.2 67.205529)scale(0.1 -0.1)\">\r\n       <defs>\r\n        <path d=\"M 1131 2484 \r\nQ 781 2613 612 2850 \r\nQ 444 3088 444 3419 \r\nQ 444 3919 803 4259 \r\nQ 1163 4600 1759 4600 \r\nQ 2359 4600 2725 4251 \r\nQ 3091 3903 3091 3403 \r\nQ 3091 3084 2923 2848 \r\nQ 2756 2613 2416 2484 \r\nQ 2838 2347 3058 2040 \r\nQ 3278 1734 3278 1309 \r\nQ 3278 722 2862 322 \r\nQ 2447 -78 1769 -78 \r\nQ 1091 -78 675 323 \r\nQ 259 725 259 1325 \r\nQ 259 1772 486 2073 \r\nQ 713 2375 1131 2484 \r\nz\r\nM 1019 3438 \r\nQ 1019 3113 1228 2906 \r\nQ 1438 2700 1772 2700 \r\nQ 2097 2700 2305 2904 \r\nQ 2513 3109 2513 3406 \r\nQ 2513 3716 2298 3927 \r\nQ 2084 4138 1766 4138 \r\nQ 1444 4138 1231 3931 \r\nQ 1019 3725 1019 3438 \r\nz\r\nM 838 1322 \r\nQ 838 1081 952 856 \r\nQ 1066 631 1291 507 \r\nQ 1516 384 1775 384 \r\nQ 2178 384 2440 643 \r\nQ 2703 903 2703 1303 \r\nQ 2703 1709 2433 1975 \r\nQ 2163 2241 1756 2241 \r\nQ 1359 2241 1098 1978 \r\nQ 838 1716 838 1322 \r\nz\r\n\" id=\"ArialMT-38\" transform=\"scale(0.015625)\"/>\r\n       </defs>\r\n       <use xlink:href=\"#ArialMT-30\"/>\r\n       <use x=\"55.615234\" xlink:href=\"#ArialMT-2e\"/>\r\n       <use x=\"83.398438\" xlink:href=\"#ArialMT-38\"/>\r\n      </g>\r\n     </g>\r\n    </g>\r\n   </g>\r\n   <g id=\"line2d_27\">\r\n    <defs>\r\n     <path d=\"M 0 1.5 \r\nC 0.397805 1.5 0.77937 1.341951 1.06066 1.06066 \r\nC 1.341951 0.77937 1.5 0.397805 1.5 0 \r\nC 1.5 -0.397805 1.341951 -0.77937 1.06066 -1.06066 \r\nC 0.77937 -1.341951 0.397805 -1.5 0 -1.5 \r\nC -0.397805 -1.5 -0.77937 -1.341951 -1.06066 -1.06066 \r\nC -1.341951 -0.77937 -1.5 -0.397805 -1.5 0 \r\nC -1.5 0.397805 -1.341951 0.77937 -1.06066 1.06066 \r\nC -0.77937 1.341951 -0.397805 1.5 0 1.5 \r\nz\r\n\" id=\"md0ab93ab04\" style=\"stroke:#1f77b4;\"/>\r\n    </defs>\r\n    <g clip-path=\"url(#p7d21d4c72c)\">\r\n     <use style=\"fill:#1f77b4;stroke:#1f77b4;\" x=\"39.818182\" xlink:href=\"#md0ab93ab04\" y=\"229.345739\"/>\r\n     <use style=\"fill:#1f77b4;stroke:#1f77b4;\" x=\"55.036364\" xlink:href=\"#md0ab93ab04\" y=\"220.923201\"/>\r\n     <use style=\"fill:#1f77b4;stroke:#1f77b4;\" x=\"70.254545\" xlink:href=\"#md0ab93ab04\" y=\"214.549389\"/>\r\n     <use style=\"fill:#1f77b4;stroke:#1f77b4;\" x=\"85.472727\" xlink:href=\"#md0ab93ab04\" y=\"208.175577\"/>\r\n     <use style=\"fill:#1f77b4;stroke:#1f77b4;\" x=\"100.690909\" xlink:href=\"#md0ab93ab04\" y=\"199.297767\"/>\r\n     <use style=\"fill:#1f77b4;stroke:#1f77b4;\" x=\"115.909091\" xlink:href=\"#md0ab93ab04\" y=\"192.923955\"/>\r\n     <use style=\"fill:#1f77b4;stroke:#1f77b4;\" x=\"131.127273\" xlink:href=\"#md0ab93ab04\" y=\"177.672333\"/>\r\n     <use style=\"fill:#1f77b4;stroke:#1f77b4;\" x=\"146.345455\" xlink:href=\"#md0ab93ab04\" y=\"171.526157\"/>\r\n     <use style=\"fill:#1f77b4;stroke:#1f77b4;\" x=\"161.563636\" xlink:href=\"#md0ab93ab04\" y=\"165.835253\"/>\r\n    </g>\r\n   </g>\r\n   <g id=\"line2d_28\">\r\n    <path clip-path=\"url(#p7d21d4c72c)\" d=\"M 39.818182 229.239508 \r\nL 46.029685 226.334411 \r\nL 52.241187 223.38236 \r\nL 58.45269 220.383356 \r\nL 64.664193 217.337399 \r\nL 70.875696 214.244489 \r\nL 77.087199 211.104626 \r\nL 83.298701 207.91781 \r\nL 89.510204 204.684042 \r\nL 95.721707 201.40332 \r\nL 101.93321 198.075645 \r\nL 108.144712 194.701018 \r\nL 114.356215 191.279437 \r\nL 120.567718 187.810903 \r\nL 126.779221 184.295417 \r\nL 132.990724 180.732977 \r\nL 139.202226 177.123585 \r\nL 145.413729 173.467239 \r\nL 151.625232 169.76394 \r\nL 157.836735 166.013689 \r\nL 164.048237 162.216485 \r\nL 170.25974 158.372327 \r\nL 176.471243 154.481217 \r\nL 182.682746 150.543153 \r\nL 188.894249 146.558137 \r\nL 195.105751 142.526168 \r\nL 201.317254 138.447245 \r\nL 207.528757 134.32137 \r\nL 213.74026 130.148542 \r\nL 219.951763 125.928761 \r\nL 226.163265 121.662026 \r\nL 232.374768 117.348339 \r\nL 238.586271 112.987699 \r\nL 244.797774 108.580106 \r\nL 251.009276 104.12556 \r\nL 257.220779 99.624061 \r\nL 263.432282 95.075609 \r\nL 269.643785 90.480204 \r\nL 275.855288 85.837846 \r\nL 282.06679 81.148535 \r\nL 288.278293 76.412271 \r\nL 294.489796 71.629054 \r\nL 300.701299 66.798884 \r\nL 306.912801 61.921761 \r\nL 313.124304 56.997685 \r\nL 319.335807 52.026656 \r\nL 325.54731 47.008675 \r\nL 331.758813 41.94374 \r\nL 337.970315 36.831852 \r\nL 344.181818 31.673011 \r\n\" style=\"fill:none;stroke:#0000ff;stroke-linecap:round;stroke-width:1.5;\"/>\r\n   </g>\r\n   <g id=\"patch_3\">\r\n    <path d=\"M 24.6 239.229375 \r\nL 24.6 21.789375 \r\n\" style=\"fill:none;stroke:#cccccc;stroke-linecap:square;stroke-linejoin:miter;\"/>\r\n   </g>\r\n   <g id=\"patch_4\">\r\n    <path d=\"M 359.4 239.229375 \r\nL 359.4 21.789375 \r\n\" style=\"fill:none;stroke:#cccccc;stroke-linecap:square;stroke-linejoin:miter;\"/>\r\n   </g>\r\n   <g id=\"patch_5\">\r\n    <path d=\"M 24.6 239.229375 \r\nL 359.4 239.229375 \r\n\" style=\"fill:none;stroke:#cccccc;stroke-linecap:square;stroke-linejoin:miter;\"/>\r\n   </g>\r\n   <g id=\"patch_6\">\r\n    <path d=\"M 24.6 21.789375 \r\nL 359.4 21.789375 \r\n\" style=\"fill:none;stroke:#cccccc;stroke-linecap:square;stroke-linejoin:miter;\"/>\r\n   </g>\r\n   <g id=\"text_14\">\r\n    <!-- Time complexity -->\r\n    <g style=\"fill:#262626;\" transform=\"translate(148.885312 15.789375)scale(0.12 -0.12)\">\r\n     <defs>\r\n      <path d=\"M 1659 0 \r\nL 1659 4041 \r\nL 150 4041 \r\nL 150 4581 \r\nL 3781 4581 \r\nL 3781 4041 \r\nL 2266 4041 \r\nL 2266 0 \r\nL 1659 0 \r\nz\r\n\" id=\"ArialMT-54\" transform=\"scale(0.015625)\"/>\r\n      <path d=\"M 425 3934 \r\nL 425 4581 \r\nL 988 4581 \r\nL 988 3934 \r\nL 425 3934 \r\nz\r\nM 425 0 \r\nL 425 3319 \r\nL 988 3319 \r\nL 988 0 \r\nL 425 0 \r\nz\r\n\" id=\"ArialMT-69\" transform=\"scale(0.015625)\"/>\r\n      <path d=\"M 422 0 \r\nL 422 3319 \r\nL 925 3319 \r\nL 925 2853 \r\nQ 1081 3097 1340 3245 \r\nQ 1600 3394 1931 3394 \r\nQ 2300 3394 2536 3241 \r\nQ 2772 3088 2869 2813 \r\nQ 3263 3394 3894 3394 \r\nQ 4388 3394 4653 3120 \r\nQ 4919 2847 4919 2278 \r\nL 4919 0 \r\nL 4359 0 \r\nL 4359 2091 \r\nQ 4359 2428 4304 2576 \r\nQ 4250 2725 4106 2815 \r\nQ 3963 2906 3769 2906 \r\nQ 3419 2906 3187 2673 \r\nQ 2956 2441 2956 1928 \r\nL 2956 0 \r\nL 2394 0 \r\nL 2394 2156 \r\nQ 2394 2531 2256 2718 \r\nQ 2119 2906 1806 2906 \r\nQ 1569 2906 1367 2781 \r\nQ 1166 2656 1075 2415 \r\nQ 984 2175 984 1722 \r\nL 984 0 \r\nL 422 0 \r\nz\r\n\" id=\"ArialMT-6d\" transform=\"scale(0.015625)\"/>\r\n      <path d=\"M 2694 1069 \r\nL 3275 997 \r\nQ 3138 488 2766 206 \r\nQ 2394 -75 1816 -75 \r\nQ 1088 -75 661 373 \r\nQ 234 822 234 1631 \r\nQ 234 2469 665 2931 \r\nQ 1097 3394 1784 3394 \r\nQ 2450 3394 2872 2941 \r\nQ 3294 2488 3294 1666 \r\nQ 3294 1616 3291 1516 \r\nL 816 1516 \r\nQ 847 969 1125 678 \r\nQ 1403 388 1819 388 \r\nQ 2128 388 2347 550 \r\nQ 2566 713 2694 1069 \r\nz\r\nM 847 1978 \r\nL 2700 1978 \r\nQ 2663 2397 2488 2606 \r\nQ 2219 2931 1791 2931 \r\nQ 1403 2931 1139 2672 \r\nQ 875 2413 847 1978 \r\nz\r\n\" id=\"ArialMT-65\" transform=\"scale(0.015625)\"/>\r\n      <path id=\"ArialMT-20\" transform=\"scale(0.015625)\"/>\r\n      <path d=\"M 2588 1216 \r\nL 3141 1144 \r\nQ 3050 572 2676 248 \r\nQ 2303 -75 1759 -75 \r\nQ 1078 -75 664 370 \r\nQ 250 816 250 1647 \r\nQ 250 2184 428 2587 \r\nQ 606 2991 970 3192 \r\nQ 1334 3394 1763 3394 \r\nQ 2303 3394 2647 3120 \r\nQ 2991 2847 3088 2344 \r\nL 2541 2259 \r\nQ 2463 2594 2264 2762 \r\nQ 2066 2931 1784 2931 \r\nQ 1359 2931 1093 2626 \r\nQ 828 2322 828 1663 \r\nQ 828 994 1084 691 \r\nQ 1341 388 1753 388 \r\nQ 2084 388 2306 591 \r\nQ 2528 794 2588 1216 \r\nz\r\n\" id=\"ArialMT-63\" transform=\"scale(0.015625)\"/>\r\n      <path d=\"M 213 1659 \r\nQ 213 2581 725 3025 \r\nQ 1153 3394 1769 3394 \r\nQ 2453 3394 2887 2945 \r\nQ 3322 2497 3322 1706 \r\nQ 3322 1066 3130 698 \r\nQ 2938 331 2570 128 \r\nQ 2203 -75 1769 -75 \r\nQ 1072 -75 642 372 \r\nQ 213 819 213 1659 \r\nz\r\nM 791 1659 \r\nQ 791 1022 1069 705 \r\nQ 1347 388 1769 388 \r\nQ 2188 388 2466 706 \r\nQ 2744 1025 2744 1678 \r\nQ 2744 2294 2464 2611 \r\nQ 2184 2928 1769 2928 \r\nQ 1347 2928 1069 2612 \r\nQ 791 2297 791 1659 \r\nz\r\n\" id=\"ArialMT-6f\" transform=\"scale(0.015625)\"/>\r\n      <path d=\"M 422 -1272 \r\nL 422 3319 \r\nL 934 3319 \r\nL 934 2888 \r\nQ 1116 3141 1344 3267 \r\nQ 1572 3394 1897 3394 \r\nQ 2322 3394 2647 3175 \r\nQ 2972 2956 3137 2557 \r\nQ 3303 2159 3303 1684 \r\nQ 3303 1175 3120 767 \r\nQ 2938 359 2589 142 \r\nQ 2241 -75 1856 -75 \r\nQ 1575 -75 1351 44 \r\nQ 1128 163 984 344 \r\nL 984 -1272 \r\nL 422 -1272 \r\nz\r\nM 931 1641 \r\nQ 931 1000 1190 694 \r\nQ 1450 388 1819 388 \r\nQ 2194 388 2461 705 \r\nQ 2728 1022 2728 1688 \r\nQ 2728 2322 2467 2637 \r\nQ 2206 2953 1844 2953 \r\nQ 1484 2953 1207 2617 \r\nQ 931 2281 931 1641 \r\nz\r\n\" id=\"ArialMT-70\" transform=\"scale(0.015625)\"/>\r\n      <path d=\"M 409 0 \r\nL 409 4581 \r\nL 972 4581 \r\nL 972 0 \r\nL 409 0 \r\nz\r\n\" id=\"ArialMT-6c\" transform=\"scale(0.015625)\"/>\r\n      <path d=\"M 47 0 \r\nL 1259 1725 \r\nL 138 3319 \r\nL 841 3319 \r\nL 1350 2541 \r\nQ 1494 2319 1581 2169 \r\nQ 1719 2375 1834 2534 \r\nL 2394 3319 \r\nL 3066 3319 \r\nL 1919 1756 \r\nL 3153 0 \r\nL 2463 0 \r\nL 1781 1031 \r\nL 1600 1309 \r\nL 728 0 \r\nL 47 0 \r\nz\r\n\" id=\"ArialMT-78\" transform=\"scale(0.015625)\"/>\r\n      <path d=\"M 1650 503 \r\nL 1731 6 \r\nQ 1494 -44 1306 -44 \r\nQ 1000 -44 831 53 \r\nQ 663 150 594 308 \r\nQ 525 466 525 972 \r\nL 525 2881 \r\nL 113 2881 \r\nL 113 3319 \r\nL 525 3319 \r\nL 525 4141 \r\nL 1084 4478 \r\nL 1084 3319 \r\nL 1650 3319 \r\nL 1650 2881 \r\nL 1084 2881 \r\nL 1084 941 \r\nQ 1084 700 1114 631 \r\nQ 1144 563 1211 522 \r\nQ 1278 481 1403 481 \r\nQ 1497 481 1650 503 \r\nz\r\n\" id=\"ArialMT-74\" transform=\"scale(0.015625)\"/>\r\n      <path d=\"M 397 -1278 \r\nL 334 -750 \r\nQ 519 -800 656 -800 \r\nQ 844 -800 956 -737 \r\nQ 1069 -675 1141 -563 \r\nQ 1194 -478 1313 -144 \r\nQ 1328 -97 1363 -6 \r\nL 103 3319 \r\nL 709 3319 \r\nL 1400 1397 \r\nQ 1534 1031 1641 628 \r\nQ 1738 1016 1872 1384 \r\nL 2581 3319 \r\nL 3144 3319 \r\nL 1881 -56 \r\nQ 1678 -603 1566 -809 \r\nQ 1416 -1088 1222 -1217 \r\nQ 1028 -1347 759 -1347 \r\nQ 597 -1347 397 -1278 \r\nz\r\n\" id=\"ArialMT-79\" transform=\"scale(0.015625)\"/>\r\n     </defs>\r\n     <use xlink:href=\"#ArialMT-54\"/>\r\n     <use x=\"57.333984\" xlink:href=\"#ArialMT-69\"/>\r\n     <use x=\"79.550781\" xlink:href=\"#ArialMT-6d\"/>\r\n     <use x=\"162.851562\" xlink:href=\"#ArialMT-65\"/>\r\n     <use x=\"218.466797\" xlink:href=\"#ArialMT-20\"/>\r\n     <use x=\"246.25\" xlink:href=\"#ArialMT-63\"/>\r\n     <use x=\"296.25\" xlink:href=\"#ArialMT-6f\"/>\r\n     <use x=\"351.865234\" xlink:href=\"#ArialMT-6d\"/>\r\n     <use x=\"435.166016\" xlink:href=\"#ArialMT-70\"/>\r\n     <use x=\"490.78125\" xlink:href=\"#ArialMT-6c\"/>\r\n     <use x=\"512.998047\" xlink:href=\"#ArialMT-65\"/>\r\n     <use x=\"568.613281\" xlink:href=\"#ArialMT-78\"/>\r\n     <use x=\"618.613281\" xlink:href=\"#ArialMT-69\"/>\r\n     <use x=\"640.830078\" xlink:href=\"#ArialMT-74\"/>\r\n     <use x=\"668.613281\" xlink:href=\"#ArialMT-79\"/>\r\n    </g>\r\n   </g>\r\n   <g id=\"legend_1\">\r\n    <g id=\"line2d_29\"/>\r\n    <g id=\"line2d_30\">\r\n     <g>\r\n      <use style=\"fill:#1f77b4;stroke:#1f77b4;\" x=\"43.6\" xlink:href=\"#md0ab93ab04\" y=\"34.575313\"/>\r\n     </g>\r\n    </g>\r\n    <g id=\"text_15\">\r\n     <!-- O(n²) -->\r\n     <g style=\"fill:#262626;\" transform=\"translate(61.6 38.075313)scale(0.1 -0.1)\">\r\n      <defs>\r\n       <path d=\"M 309 2231 \r\nQ 309 3372 921 4017 \r\nQ 1534 4663 2503 4663 \r\nQ 3138 4663 3647 4359 \r\nQ 4156 4056 4423 3514 \r\nQ 4691 2972 4691 2284 \r\nQ 4691 1588 4409 1038 \r\nQ 4128 488 3612 205 \r\nQ 3097 -78 2500 -78 \r\nQ 1853 -78 1343 234 \r\nQ 834 547 571 1087 \r\nQ 309 1628 309 2231 \r\nz\r\nM 934 2222 \r\nQ 934 1394 1379 917 \r\nQ 1825 441 2497 441 \r\nQ 3181 441 3623 922 \r\nQ 4066 1403 4066 2288 \r\nQ 4066 2847 3877 3264 \r\nQ 3688 3681 3323 3911 \r\nQ 2959 4141 2506 4141 \r\nQ 1863 4141 1398 3698 \r\nQ 934 3256 934 2222 \r\nz\r\n\" id=\"ArialMT-4f\" transform=\"scale(0.015625)\"/>\r\n       <path d=\"M 1497 -1347 \r\nQ 1031 -759 709 28 \r\nQ 388 816 388 1659 \r\nQ 388 2403 628 3084 \r\nQ 909 3875 1497 4659 \r\nL 1900 4659 \r\nQ 1522 4009 1400 3731 \r\nQ 1209 3300 1100 2831 \r\nQ 966 2247 966 1656 \r\nQ 966 153 1900 -1347 \r\nL 1497 -1347 \r\nz\r\n\" id=\"ArialMT-28\" transform=\"scale(0.015625)\"/>\r\n       <path d=\"M 422 0 \r\nL 422 3319 \r\nL 928 3319 \r\nL 928 2847 \r\nQ 1294 3394 1984 3394 \r\nQ 2284 3394 2536 3286 \r\nQ 2788 3178 2913 3003 \r\nQ 3038 2828 3088 2588 \r\nQ 3119 2431 3119 2041 \r\nL 3119 0 \r\nL 2556 0 \r\nL 2556 2019 \r\nQ 2556 2363 2490 2533 \r\nQ 2425 2703 2258 2804 \r\nQ 2091 2906 1866 2906 \r\nQ 1506 2906 1245 2678 \r\nQ 984 2450 984 1813 \r\nL 984 0 \r\nL 422 0 \r\nz\r\n\" id=\"ArialMT-6e\" transform=\"scale(0.015625)\"/>\r\n       <path d=\"M 78 2291 \r\nQ 97 2469 225 2647 \r\nQ 422 2916 872 3242 \r\nQ 1322 3569 1406 3663 \r\nQ 1522 3791 1522 3925 \r\nQ 1522 4075 1412 4172 \r\nQ 1303 4269 1091 4269 \r\nQ 884 4269 782 4195 \r\nQ 681 4122 616 3913 \r\nL 144 3963 \r\nQ 234 4309 457 4473 \r\nQ 681 4638 1100 4638 \r\nQ 1572 4638 1792 4453 \r\nQ 2013 4269 2013 4003 \r\nQ 2013 3741 1828 3506 \r\nQ 1688 3331 1188 2972 \r\nQ 928 2781 819 2669 \r\nL 2025 2669 \r\nL 2025 2291 \r\nL 78 2291 \r\nz\r\n\" id=\"ArialMT-b2\" transform=\"scale(0.015625)\"/>\r\n       <path d=\"M 791 -1347 \r\nL 388 -1347 \r\nQ 1322 153 1322 1656 \r\nQ 1322 2244 1188 2822 \r\nQ 1081 3291 891 3722 \r\nQ 769 4003 388 4659 \r\nL 791 4659 \r\nQ 1378 3875 1659 3084 \r\nQ 1900 2403 1900 1659 \r\nQ 1900 816 1576 28 \r\nQ 1253 -759 791 -1347 \r\nz\r\n\" id=\"ArialMT-29\" transform=\"scale(0.015625)\"/>\r\n      </defs>\r\n      <use xlink:href=\"#ArialMT-4f\"/>\r\n      <use x=\"77.783203\" xlink:href=\"#ArialMT-28\"/>\r\n      <use x=\"111.083984\" xlink:href=\"#ArialMT-6e\"/>\r\n      <use x=\"166.699219\" xlink:href=\"#ArialMT-b2\"/>\r\n      <use x=\"200\" xlink:href=\"#ArialMT-29\"/>\r\n     </g>\r\n    </g>\r\n    <g id=\"line2d_31\">\r\n     <path d=\"M 33.6 48.965938 \r\nL 53.6 48.965938 \r\n\" style=\"fill:none;stroke:#0000ff;stroke-linecap:round;stroke-width:1.5;\"/>\r\n    </g>\r\n    <g id=\"line2d_32\"/>\r\n    <g id=\"text_16\">\r\n     <!-- O(n²) -->\r\n     <g style=\"fill:#262626;\" transform=\"translate(61.6 52.465938)scale(0.1 -0.1)\">\r\n      <use xlink:href=\"#ArialMT-4f\"/>\r\n      <use x=\"77.783203\" xlink:href=\"#ArialMT-28\"/>\r\n      <use x=\"111.083984\" xlink:href=\"#ArialMT-6e\"/>\r\n      <use x=\"166.699219\" xlink:href=\"#ArialMT-b2\"/>\r\n      <use x=\"200\" xlink:href=\"#ArialMT-29\"/>\r\n     </g>\r\n    </g>\r\n   </g>\r\n  </g>\r\n </g>\r\n <defs>\r\n  <clipPath id=\"p7d21d4c72c\">\r\n   <rect height=\"217.44\" width=\"334.8\" x=\"24.6\" y=\"21.789375\"/>\r\n  </clipPath>\r\n </defs>\r\n</svg>\r\n",
      "image/png": "[encoded data removed]"
     },
     "metadata": {}
    }
   ],
   "source": [
    "%matplotlib inline\n",
    "import matplotlib.pyplot as plt\n",
    "plt.style.use('seaborn-whitegrid')\n",
    "\n",
    "time0 = []*len(res2)\n",
    "\n",
    "for p in res2:\n",
    "   time0.append(p[2])\n",
    "\n",
    "time1 = np.cumsum(time0)\n",
    "    \n",
    "N = np.arange(0,9,1)\n",
    "\n",
    "ax = plt.axes()\n",
    "z = np.polyfit(N,time1,2)\n",
    "p = np.poly1d(z)\n",
    "xp = np.linspace(0, 20)\n",
    "\n",
    "plt.plot(N, time1, '.', xp, p(xp),'-b', label='O(n²)')\n",
    "# plt.plot(N, time_0, '-g', label='O(n)')\n",
    "plt.title(\"Time complexity\")\n",
    "plt.legend();"
   ]
  },
  {
   "cell_type": "code",
   "execution_count": null,
   "id": "e4fd73c3",
   "metadata": {},
   "outputs": [],
   "source": [
    "jovian.commit()"
   ]
  },
  {
   "cell_type": "markdown",
   "id": "d22245b1",
   "metadata": {},
   "source": [
    "### 6. Apply the right technique to overcome the inefficiency. Repeat steps 3 to 6."
   ]
  },
  {
   "cell_type": "code",
   "execution_count": null,
   "id": "ee081873",
   "metadata": {},
   "outputs": [],
   "source": [
    "jovian.commit()"
   ]
  },
  {
   "cell_type": "markdown",
   "id": "5e358484",
   "metadata": {},
   "source": [
    "### 7. Come up with a correct solution for the problem. State it in plain English.\n"
   ]
  },
  {
   "cell_type": "markdown",
   "id": "fccd13b0",
   "metadata": {},
   "source": [
    "In some cases, we want and it is possible to write programs with algorithms that are efficient and faster for optimization reasons, especially when we want a quicker program for faster solutions or quicker run times.\n",
    "\n",
    "For the most efficient solution for the stock span problem is **O(n)** because it uses a for loop to iterate over the n-elements.\n",
    "\n",
    "\n",
    "#### **Stock Span problem: Efficient solution**\n",
    "\n",
    "If we observed the brute force algorithm, it was evident that we were interested in a day with a stock price that is greater than the current day’s stock price. So, we needed to check the last price which was greater than the current day’s price.\n",
    "\n",
    "So the solution is found with a [stack](https://www.tutorialspoint.com/data_structures_algorithms/stack_algorithm.htm), which is the data structure which allows us to maintain the last price and see it first. The steady solution shows that the elements should be in the increasing order of price. The element at the top should be the maximum price seen until the current day.\n",
    "\n",
    "> * So we go through each day’s stock price, check if the current price on top of the stack is less than the current day’s price. \n",
    "    - If **YES**, pop out until price on top of the stack is greater than the current day’s price, the stock span of the current day is the difference between the day of price on top of the stack and current day.\n",
    "    - **Storing the index** of the last greatest stock price would make things easier as compared to storing actual stock price on the stack. Hence, store the index _i_ on the stack and price[i] will give us the price of the stock on the ith day."
   ]
  },
  {
   "cell_type": "markdown",
   "id": "af7d2c38",
   "metadata": {},
   "source": [
    "#### **Algorithm**\n",
    "\n",
    "We can calculate stock span values in an O(n) time.\n",
    "\n",
    "We initialize span of day 1 (i=0) as 1 and put on to the stack.\n",
    "\n",
    "> * For i=1 to n, do following:\n",
    "    - While price[max(stack)] < price[i] and stack is not empty, stack.pop(i) removes the price[i] from the stack.\n",
    "> * If price[stack.top(i)] > price[i], span = (i – max(stack))\n",
    "    - Push current day index i on to stack.\n",
    "\n",
    "Let’s take the initial example. Let’s say prices are given on certain days are as following: `[100, 80, 60, 70, 60, 75, 85]`.\n",
    "\n",
    "Following the above algorithm, we will put span[0] = 1, and the stack will be [0].\n",
    "\n",
    "> * On day 2, stock price is 80. Stock price on day[1] at the top of stack is 100, which is greater than 80, we have span[1] = 1-0 = 1. \n",
    "    On day 3, stock price is 60. We will pop [i] from the stack till price[max(stack)] < price[i], so span[2] = 2 – 0 = 2. \n",
    "> * On day 4, stock price is 70, price[4] > price[3], so span[3] = 4 - 2 = 2. \n",
    "    On day 5, stock price is 60, now price[5] are less than 70, span[4] = 1 - 0 = 1. \n",
    "> * On day 6, stock price is 75, now we pop out 2, 3 and 4 from stack as prices are less than 75. span[5] = 6 - 2 = 4.\n",
    "> * Finally on day 7, the stock price is 85, now we pop out from 1 to 5 as price[6] and price[2] are less than 85. Now stack is empty, at this point, span[6] = 7 - 1 = 6."
   ]
  },
  {
   "cell_type": "code",
   "execution_count": null,
   "id": "db54ec7c",
   "metadata": {},
   "outputs": [],
   "source": [
    "jovian.commit()"
   ]
  },
  {
   "cell_type": "markdown",
   "id": "8a07eb8f",
   "metadata": {},
   "source": [
    "### 8. Implement the solution and test it using example inputs. Fix bugs, if any."
   ]
  },
  {
   "cell_type": "code",
   "execution_count": 84,
   "id": "c4c8b7a6",
   "metadata": {},
   "outputs": [],
   "source": [
    "# A stack based efficient method to calculate Stack-Span\n",
    "def calculateSpan(price):\n",
    "    n = len(price)\n",
    "    S = [0 for i in range(n)] \n",
    "    # Create a stack and push index of fist element to it\n",
    "    st = []\n",
    "    # Stack value of first element is always 0\n",
    "    st.append(0)\n",
    "    # Span value of first element is always 1\n",
    "    S[0] = 1\n",
    " \n",
    "    # Calculate span values for rest of the elements\n",
    "    for i in range(1, n):\n",
    "        # Pop elements from stack while stack is not empty and top of stack is smaller than price[i]\n",
    "        while(len(st) > 0 and price[st[-1]] <= price[i]):\n",
    "            st.pop()\n",
    "        # If stack becomes empty, then price[i] is greater than all elements on left of it, i.e. price[0],\n",
    "        S[i] = i + 1 if len(st) <= 0 else (i - st[-1])\n",
    "        st.append(i)\n",
    "    \n",
    "    return S"
   ]
  },
  {
   "cell_type": "code",
   "execution_count": 85,
   "id": "ce014a09",
   "metadata": {},
   "outputs": [
    {
     "output_type": "stream",
     "name": "stdout",
     "text": [
      "\nInput:\n{'price': [10, -10, 0, 5, 90, 120, 80, 100, 80, 60, 70, 60, 75, 85]}\n\nExpected Output:\n[1, 1, 2, 3, 5, 6, 1, 2, 1, 1, 2, 1, 4, 6]\n\n\nActual Output:\n[1, 1, 2, 3, 5, 6, 1, 2, 1, 1, 2, 1, 4, 6]\n\nExecution Time:\n0.025 ms\n\nTest Result:\n\u001b[92mPASSED\u001b[0m\n\n"
     ]
    },
    {
     "output_type": "execute_result",
     "data": {
      "text/plain": [
       "([1, 1, 2, 3, 5, 6, 1, 2, 1, 1, 2, 1, 4, 6], True, 0.025)"
      ]
     },
     "metadata": {},
     "execution_count": 85
    }
   ],
   "source": [
    "evaluate_test_case(span_brute, test0)"
   ]
  },
  {
   "cell_type": "code",
   "execution_count": 94,
   "id": "51d8d6f1",
   "metadata": {},
   "outputs": [
    {
     "output_type": "stream",
     "name": "stdout",
     "text": [
      "\n\u001b[1mTEST CASE #0\u001b[0m\n\nInput:\n{'price': [10, -10, 0, 5, 90, 120, 80, 100, 80, 60, 70, 60, 75, 85]}\n\nExpected Output:\n[1, 1, 2, 3, 5, 6, 1, 2, 1, 1, 2, 1, 4, 6]\n\n\nActual Output:\n[1, 1, 2, 3, 5, 6, 1, 2, 1, 1, 2, 1, 4, 6]\n\nExecution Time:\n0.068 ms\n\nTest Result:\n\u001b[92mPASSED\u001b[0m\n\n\n\u001b[1mTEST CASE #1\u001b[0m\n\nInput:\n{'price': [1348, 1428, 1413, 1482, 1634, 1469, 1621, 1760, 1751, 1835, 2036, 2043]}\n\nExpected Output:\n[1, 2, 1, 4, 5, 1, 2, 8, 1, 10, 11, 12]\n\n\nActual Output:\n[1, 2, 1, 4, 5, 1, 2, 8, 1, 10, 11, 12]\n\nExecution Time:\n0.051 ms\n\nTest Result:\n\u001b[92mPASSED\u001b[0m\n\n\n\u001b[1mTEST CASE #2\u001b[0m\n\nInput:\n{'price': [177, 181, 202, 203, 223, 209, 201, 213, 221, 231, 231, 230]}\n\nExpected Output:\n[1, 2, 3, 4, 5, 1, 1, 3, 4, 10, 11, 1]\n\n\nActual Output:\n[1, 2, 3, 4, 5, 1, 1, 3, 4, 10, 11, 1]\n\nExecution Time:\n0.034 ms\n\nTest Result:\n\u001b[92mPASSED\u001b[0m\n\n\n\u001b[1mTEST CASE #3\u001b[0m\n\nInput:\n{'price': [72, 78, 90, 105, 128, 115, 108, 118, 132, 131, 121, 119]}\n\nExpected Output:\n[1, 2, 3, 4, 5, 1, 1, 3, 9, 1, 1, 1]\n\n\nActual Output:\n[1, 2, 3, 4, 5, 1, 1, 3, 9, 1, 1, 1]\n\nExecution Time:\n0.024 ms\n\nTest Result:\n\u001b[92mPASSED\u001b[0m\n\n\n\u001b[1mTEST CASE #4\u001b[0m\n\nInput:\n{'price': [156, 167, 215, 286, 498, 429, 388, 567, 705, 793, 675, 654]}\n\nExpected Output:\n[1, 2, 3, 4, 5, 1, 1, 8, 9, 10, 1, 1]\n\n\nActual Output:\n[1, 2, 3, 4, 5, 1, 1, 8, 9, 10, 1, 1]\n\nExecution Time:\n0.046 ms\n\nTest Result:\n\u001b[92mPASSED\u001b[0m\n\n\n\u001b[1mTEST CASE #5\u001b[0m\n\nInput:\n{'price': [2474, 2442, 2758, 3164, 3450, 3148, 3036, 3168, 3256, 3206, 3092, 3074]}\n\nExpected Output:\n[1, 1, 3, 4, 5, 1, 1, 3, 4, 1, 1, 1]\n\n\nActual Output:\n[1, 1, 3, 4, 5, 1, 1, 3, 4, 1, 1, 1]\n\nExecution Time:\n0.025 ms\n\nTest Result:\n\u001b[92mPASSED\u001b[0m\n\n\n\u001b[1mTEST CASE #6\u001b[0m\n\nInput:\n{'price': [291, 354, 379, 424, 534, 540, 501, 535, 522, 519, 548, 513]}\n\nExpected Output:\n[1, 2, 3, 4, 5, 6, 1, 2, 1, 1, 11, 1]\n\n\nActual Output:\n[1, 2, 3, 4, 5, 6, 1, 2, 1, 1, 11, 1]\n\nExecution Time:\n0.026 ms\n\nTest Result:\n\u001b[92mPASSED\u001b[0m\n\n\n\u001b[1mTEST CASE #7\u001b[0m\n\nInput:\n{'price': [58, 61, 58, 46, 49, 51, 43, 47, 49, 55, 60, 63]}\n\nExpected Output:\n[1, 2, 1, 1, 2, 3, 1, 2, 3, 7, 9, 12]\n\n\nActual Output:\n[1, 2, 1, 1, 2, 3, 1, 2, 3, 7, 9, 12]\n\nExecution Time:\n0.037 ms\n\nTest Result:\n\u001b[92mPASSED\u001b[0m\n\n\n\u001b[1mTEST CASE #8\u001b[0m\n\nInput:\n{'price': [52, 53, 52, 77, 90, 81, 75, 92, 91, 85, 84, 79]}\n\nExpected Output:\n[1, 2, 1, 4, 5, 1, 1, 8, 1, 1, 1, 1]\n\n\nActual Output:\n[1, 2, 1, 4, 5, 1, 1, 8, 1, 1, 1, 1]\n\nExecution Time:\n0.02 ms\n\nTest Result:\n\u001b[92mPASSED\u001b[0m\n\n\n\u001b[1mSUMMARY\u001b[0m\n\nTOTAL: 9, \u001b[92mPASSED\u001b[0m: 9, \u001b[91mFAILED\u001b[0m: 0\n"
     ]
    }
   ],
   "source": [
    "res4 = evaluate_test_cases(span_brute, tests)"
   ]
  },
  {
   "cell_type": "code",
   "execution_count": 106,
   "id": "8e38754b",
   "metadata": {},
   "outputs": [
    {
     "output_type": "display_data",
     "data": {
      "text/plain": "<Figure size 432x288 with 1 Axes>",
      "image/svg+xml": "<?xml version=\"1.0\" encoding=\"utf-8\" standalone=\"no\"?>\r\n<!DOCTYPE svg PUBLIC \"-//W3C//DTD SVG 1.1//EN\"\r\n  \"http://www.w3.org/Graphics/SVG/1.1/DTD/svg11.dtd\">\r\n<svg height=\"259.074688pt\" version=\"1.1\" viewBox=\"0 0 366.6 259.074688\" width=\"366.6pt\" xmlns=\"http://www.w3.org/2000/svg\" xmlns:xlink=\"http://www.w3.org/1999/xlink\">\r\n <metadata>\r\n  <rdf:RDF xmlns:cc=\"http://creativecommons.org/ns#\" xmlns:dc=\"http://purl.org/dc/elements/1.1/\" xmlns:rdf=\"http://www.w3.org/1999/02/22-rdf-syntax-ns#\">\r\n   <cc:Work>\r\n    <dc:type rdf:resource=\"http://purl.org/dc/dcmitype/StillImage\"/>\r\n    <dc:date>2021-04-15T18:07:20.169469</dc:date>\r\n    <dc:format>image/svg+xml</dc:format>\r\n    <dc:creator>\r\n     <cc:Agent>\r\n      <dc:title>Matplotlib v3.4.1, https://matplotlib.org/</dc:title>\r\n     </cc:Agent>\r\n    </dc:creator>\r\n   </cc:Work>\r\n  </rdf:RDF>\r\n </metadata>\r\n <defs>\r\n  <style type=\"text/css\">*{stroke-linecap:butt;stroke-linejoin:round;}</style>\r\n </defs>\r\n <g id=\"figure_1\">\r\n  <g id=\"patch_1\">\r\n   <path d=\"M 0 259.074688 \r\nL 366.6 259.074688 \r\nL 366.6 0 \r\nL 0 0 \r\nz\r\n\" style=\"fill:#ffffff;\"/>\r\n  </g>\r\n  <g id=\"axes_1\">\r\n   <g id=\"patch_2\">\r\n    <path d=\"M 24.6 239.229375 \r\nL 359.4 239.229375 \r\nL 359.4 21.789375 \r\nL 24.6 21.789375 \r\nz\r\n\" style=\"fill:#ffffff;\"/>\r\n   </g>\r\n   <g id=\"matplotlib.axis_1\">\r\n    <g id=\"xtick_1\">\r\n     <g id=\"line2d_1\">\r\n      <path clip-path=\"url(#p13a6bc374e)\" d=\"M 39.818182 239.229375 \r\nL 39.818182 21.789375 \r\n\" style=\"fill:none;stroke:#cccccc;stroke-linecap:round;stroke-width:0.8;\"/>\r\n     </g>\r\n     <g id=\"line2d_2\"/>\r\n     <g id=\"text_1\">\r\n      <!-- 0.0 -->\r\n      <g style=\"fill:#262626;\" transform=\"translate(32.868182 249.887188)scale(0.1 -0.1)\">\r\n       <defs>\r\n        <path d=\"M 266 2259 \r\nQ 266 3072 433 3567 \r\nQ 600 4063 929 4331 \r\nQ 1259 4600 1759 4600 \r\nQ 2128 4600 2406 4451 \r\nQ 2684 4303 2865 4023 \r\nQ 3047 3744 3150 3342 \r\nQ 3253 2941 3253 2259 \r\nQ 3253 1453 3087 958 \r\nQ 2922 463 2592 192 \r\nQ 2263 -78 1759 -78 \r\nQ 1097 -78 719 397 \r\nQ 266 969 266 2259 \r\nz\r\nM 844 2259 \r\nQ 844 1131 1108 757 \r\nQ 1372 384 1759 384 \r\nQ 2147 384 2411 759 \r\nQ 2675 1134 2675 2259 \r\nQ 2675 3391 2411 3762 \r\nQ 2147 4134 1753 4134 \r\nQ 1366 4134 1134 3806 \r\nQ 844 3388 844 2259 \r\nz\r\n\" id=\"ArialMT-30\" transform=\"scale(0.015625)\"/>\r\n        <path d=\"M 581 0 \r\nL 581 641 \r\nL 1222 641 \r\nL 1222 0 \r\nL 581 0 \r\nz\r\n\" id=\"ArialMT-2e\" transform=\"scale(0.015625)\"/>\r\n       </defs>\r\n       <use xlink:href=\"#ArialMT-30\"/>\r\n       <use x=\"55.615234\" xlink:href=\"#ArialMT-2e\"/>\r\n       <use x=\"83.398438\" xlink:href=\"#ArialMT-30\"/>\r\n      </g>\r\n     </g>\r\n    </g>\r\n    <g id=\"xtick_2\">\r\n     <g id=\"line2d_3\">\r\n      <path clip-path=\"url(#p13a6bc374e)\" d=\"M 77.863636 239.229375 \r\nL 77.863636 21.789375 \r\n\" style=\"fill:none;stroke:#cccccc;stroke-linecap:round;stroke-width:0.8;\"/>\r\n     </g>\r\n     <g id=\"line2d_4\"/>\r\n     <g id=\"text_2\">\r\n      <!-- 2.5 -->\r\n      <g style=\"fill:#262626;\" transform=\"translate(70.913636 249.887188)scale(0.1 -0.1)\">\r\n       <defs>\r\n        <path d=\"M 3222 541 \r\nL 3222 0 \r\nL 194 0 \r\nQ 188 203 259 391 \r\nQ 375 700 629 1000 \r\nQ 884 1300 1366 1694 \r\nQ 2113 2306 2375 2664 \r\nQ 2638 3022 2638 3341 \r\nQ 2638 3675 2398 3904 \r\nQ 2159 4134 1775 4134 \r\nQ 1369 4134 1125 3890 \r\nQ 881 3647 878 3216 \r\nL 300 3275 \r\nQ 359 3922 746 4261 \r\nQ 1134 4600 1788 4600 \r\nQ 2447 4600 2831 4234 \r\nQ 3216 3869 3216 3328 \r\nQ 3216 3053 3103 2787 \r\nQ 2991 2522 2730 2228 \r\nQ 2469 1934 1863 1422 \r\nQ 1356 997 1212 845 \r\nQ 1069 694 975 541 \r\nL 3222 541 \r\nz\r\n\" id=\"ArialMT-32\" transform=\"scale(0.015625)\"/>\r\n        <path d=\"M 266 1200 \r\nL 856 1250 \r\nQ 922 819 1161 601 \r\nQ 1400 384 1738 384 \r\nQ 2144 384 2425 690 \r\nQ 2706 997 2706 1503 \r\nQ 2706 1984 2436 2262 \r\nQ 2166 2541 1728 2541 \r\nQ 1456 2541 1237 2417 \r\nQ 1019 2294 894 2097 \r\nL 366 2166 \r\nL 809 4519 \r\nL 3088 4519 \r\nL 3088 3981 \r\nL 1259 3981 \r\nL 1013 2750 \r\nQ 1425 3038 1878 3038 \r\nQ 2478 3038 2890 2622 \r\nQ 3303 2206 3303 1553 \r\nQ 3303 931 2941 478 \r\nQ 2500 -78 1738 -78 \r\nQ 1113 -78 717 272 \r\nQ 322 622 266 1200 \r\nz\r\n\" id=\"ArialMT-35\" transform=\"scale(0.015625)\"/>\r\n       </defs>\r\n       <use xlink:href=\"#ArialMT-32\"/>\r\n       <use x=\"55.615234\" xlink:href=\"#ArialMT-2e\"/>\r\n       <use x=\"83.398438\" xlink:href=\"#ArialMT-35\"/>\r\n      </g>\r\n     </g>\r\n    </g>\r\n    <g id=\"xtick_3\">\r\n     <g id=\"line2d_5\">\r\n      <path clip-path=\"url(#p13a6bc374e)\" d=\"M 115.909091 239.229375 \r\nL 115.909091 21.789375 \r\n\" style=\"fill:none;stroke:#cccccc;stroke-linecap:round;stroke-width:0.8;\"/>\r\n     </g>\r\n     <g id=\"line2d_6\"/>\r\n     <g id=\"text_3\">\r\n      <!-- 5.0 -->\r\n      <g style=\"fill:#262626;\" transform=\"translate(108.959091 249.887188)scale(0.1 -0.1)\">\r\n       <use xlink:href=\"#ArialMT-35\"/>\r\n       <use x=\"55.615234\" xlink:href=\"#ArialMT-2e\"/>\r\n       <use x=\"83.398438\" xlink:href=\"#ArialMT-30\"/>\r\n      </g>\r\n     </g>\r\n    </g>\r\n    <g id=\"xtick_4\">\r\n     <g id=\"line2d_7\">\r\n      <path clip-path=\"url(#p13a6bc374e)\" d=\"M 153.954545 239.229375 \r\nL 153.954545 21.789375 \r\n\" style=\"fill:none;stroke:#cccccc;stroke-linecap:round;stroke-width:0.8;\"/>\r\n     </g>\r\n     <g id=\"line2d_8\"/>\r\n     <g id=\"text_4\">\r\n      <!-- 7.5 -->\r\n      <g style=\"fill:#262626;\" transform=\"translate(147.004545 249.887188)scale(0.1 -0.1)\">\r\n       <defs>\r\n        <path d=\"M 303 3981 \r\nL 303 4522 \r\nL 3269 4522 \r\nL 3269 4084 \r\nQ 2831 3619 2401 2847 \r\nQ 1972 2075 1738 1259 \r\nQ 1569 684 1522 0 \r\nL 944 0 \r\nQ 953 541 1156 1306 \r\nQ 1359 2072 1739 2783 \r\nQ 2119 3494 2547 3981 \r\nL 303 3981 \r\nz\r\n\" id=\"ArialMT-37\" transform=\"scale(0.015625)\"/>\r\n       </defs>\r\n       <use xlink:href=\"#ArialMT-37\"/>\r\n       <use x=\"55.615234\" xlink:href=\"#ArialMT-2e\"/>\r\n       <use x=\"83.398438\" xlink:href=\"#ArialMT-35\"/>\r\n      </g>\r\n     </g>\r\n    </g>\r\n    <g id=\"xtick_5\">\r\n     <g id=\"line2d_9\">\r\n      <path clip-path=\"url(#p13a6bc374e)\" d=\"M 192 239.229375 \r\nL 192 21.789375 \r\n\" style=\"fill:none;stroke:#cccccc;stroke-linecap:round;stroke-width:0.8;\"/>\r\n     </g>\r\n     <g id=\"line2d_10\"/>\r\n     <g id=\"text_5\">\r\n      <!-- 10.0 -->\r\n      <g style=\"fill:#262626;\" transform=\"translate(182.269531 249.887188)scale(0.1 -0.1)\">\r\n       <defs>\r\n        <path d=\"M 2384 0 \r\nL 1822 0 \r\nL 1822 3584 \r\nQ 1619 3391 1289 3197 \r\nQ 959 3003 697 2906 \r\nL 697 3450 \r\nQ 1169 3672 1522 3987 \r\nQ 1875 4303 2022 4600 \r\nL 2384 4600 \r\nL 2384 0 \r\nz\r\n\" id=\"ArialMT-31\" transform=\"scale(0.015625)\"/>\r\n       </defs>\r\n       <use xlink:href=\"#ArialMT-31\"/>\r\n       <use x=\"55.615234\" xlink:href=\"#ArialMT-30\"/>\r\n       <use x=\"111.230469\" xlink:href=\"#ArialMT-2e\"/>\r\n       <use x=\"139.013672\" xlink:href=\"#ArialMT-30\"/>\r\n      </g>\r\n     </g>\r\n    </g>\r\n    <g id=\"xtick_6\">\r\n     <g id=\"line2d_11\">\r\n      <path clip-path=\"url(#p13a6bc374e)\" d=\"M 230.045455 239.229375 \r\nL 230.045455 21.789375 \r\n\" style=\"fill:none;stroke:#cccccc;stroke-linecap:round;stroke-width:0.8;\"/>\r\n     </g>\r\n     <g id=\"line2d_12\"/>\r\n     <g id=\"text_6\">\r\n      <!-- 12.5 -->\r\n      <g style=\"fill:#262626;\" transform=\"translate(220.314986 249.887188)scale(0.1 -0.1)\">\r\n       <use xlink:href=\"#ArialMT-31\"/>\r\n       <use x=\"55.615234\" xlink:href=\"#ArialMT-32\"/>\r\n       <use x=\"111.230469\" xlink:href=\"#ArialMT-2e\"/>\r\n       <use x=\"139.013672\" xlink:href=\"#ArialMT-35\"/>\r\n      </g>\r\n     </g>\r\n    </g>\r\n    <g id=\"xtick_7\">\r\n     <g id=\"line2d_13\">\r\n      <path clip-path=\"url(#p13a6bc374e)\" d=\"M 268.090909 239.229375 \r\nL 268.090909 21.789375 \r\n\" style=\"fill:none;stroke:#cccccc;stroke-linecap:round;stroke-width:0.8;\"/>\r\n     </g>\r\n     <g id=\"line2d_14\"/>\r\n     <g id=\"text_7\">\r\n      <!-- 15.0 -->\r\n      <g style=\"fill:#262626;\" transform=\"translate(258.36044 249.887188)scale(0.1 -0.1)\">\r\n       <use xlink:href=\"#ArialMT-31\"/>\r\n       <use x=\"55.615234\" xlink:href=\"#ArialMT-35\"/>\r\n       <use x=\"111.230469\" xlink:href=\"#ArialMT-2e\"/>\r\n       <use x=\"139.013672\" xlink:href=\"#ArialMT-30\"/>\r\n      </g>\r\n     </g>\r\n    </g>\r\n    <g id=\"xtick_8\">\r\n     <g id=\"line2d_15\">\r\n      <path clip-path=\"url(#p13a6bc374e)\" d=\"M 306.136364 239.229375 \r\nL 306.136364 21.789375 \r\n\" style=\"fill:none;stroke:#cccccc;stroke-linecap:round;stroke-width:0.8;\"/>\r\n     </g>\r\n     <g id=\"line2d_16\"/>\r\n     <g id=\"text_8\">\r\n      <!-- 17.5 -->\r\n      <g style=\"fill:#262626;\" transform=\"translate(296.405895 249.887188)scale(0.1 -0.1)\">\r\n       <use xlink:href=\"#ArialMT-31\"/>\r\n       <use x=\"55.615234\" xlink:href=\"#ArialMT-37\"/>\r\n       <use x=\"111.230469\" xlink:href=\"#ArialMT-2e\"/>\r\n       <use x=\"139.013672\" xlink:href=\"#ArialMT-35\"/>\r\n      </g>\r\n     </g>\r\n    </g>\r\n    <g id=\"xtick_9\">\r\n     <g id=\"line2d_17\">\r\n      <path clip-path=\"url(#p13a6bc374e)\" d=\"M 344.181818 239.229375 \r\nL 344.181818 21.789375 \r\n\" style=\"fill:none;stroke:#cccccc;stroke-linecap:round;stroke-width:0.8;\"/>\r\n     </g>\r\n     <g id=\"line2d_18\"/>\r\n     <g id=\"text_9\">\r\n      <!-- 20.0 -->\r\n      <g style=\"fill:#262626;\" transform=\"translate(334.451349 249.887188)scale(0.1 -0.1)\">\r\n       <use xlink:href=\"#ArialMT-32\"/>\r\n       <use x=\"55.615234\" xlink:href=\"#ArialMT-30\"/>\r\n       <use x=\"111.230469\" xlink:href=\"#ArialMT-2e\"/>\r\n       <use x=\"139.013672\" xlink:href=\"#ArialMT-30\"/>\r\n      </g>\r\n     </g>\r\n    </g>\r\n   </g>\r\n   <g id=\"matplotlib.axis_2\">\r\n    <g id=\"ytick_1\">\r\n     <g id=\"line2d_19\">\r\n      <path clip-path=\"url(#p13a6bc374e)\" d=\"M 24.6 199.435543 \r\nL 359.4 199.435543 \r\n\" style=\"fill:none;stroke:#cccccc;stroke-linecap:round;stroke-width:0.8;\"/>\r\n     </g>\r\n     <g id=\"line2d_20\"/>\r\n     <g id=\"text_10\">\r\n      <!-- 0.2 -->\r\n      <g style=\"fill:#262626;\" transform=\"translate(7.2 203.014449)scale(0.1 -0.1)\">\r\n       <use xlink:href=\"#ArialMT-30\"/>\r\n       <use x=\"55.615234\" xlink:href=\"#ArialMT-2e\"/>\r\n       <use x=\"83.398438\" xlink:href=\"#ArialMT-32\"/>\r\n      </g>\r\n     </g>\r\n    </g>\r\n    <g id=\"ytick_2\">\r\n     <g id=\"line2d_21\">\r\n      <path clip-path=\"url(#p13a6bc374e)\" d=\"M 24.6 154.117065 \r\nL 359.4 154.117065 \r\n\" style=\"fill:none;stroke:#cccccc;stroke-linecap:round;stroke-width:0.8;\"/>\r\n     </g>\r\n     <g id=\"line2d_22\"/>\r\n     <g id=\"text_11\">\r\n      <!-- 0.4 -->\r\n      <g style=\"fill:#262626;\" transform=\"translate(7.2 157.695971)scale(0.1 -0.1)\">\r\n       <defs>\r\n        <path d=\"M 2069 0 \r\nL 2069 1097 \r\nL 81 1097 \r\nL 81 1613 \r\nL 2172 4581 \r\nL 2631 4581 \r\nL 2631 1613 \r\nL 3250 1613 \r\nL 3250 1097 \r\nL 2631 1097 \r\nL 2631 0 \r\nL 2069 0 \r\nz\r\nM 2069 1613 \r\nL 2069 3678 \r\nL 634 1613 \r\nL 2069 1613 \r\nz\r\n\" id=\"ArialMT-34\" transform=\"scale(0.015625)\"/>\r\n       </defs>\r\n       <use xlink:href=\"#ArialMT-30\"/>\r\n       <use x=\"55.615234\" xlink:href=\"#ArialMT-2e\"/>\r\n       <use x=\"83.398438\" xlink:href=\"#ArialMT-34\"/>\r\n      </g>\r\n     </g>\r\n    </g>\r\n    <g id=\"ytick_3\">\r\n     <g id=\"line2d_23\">\r\n      <path clip-path=\"url(#p13a6bc374e)\" d=\"M 24.6 108.798587 \r\nL 359.4 108.798587 \r\n\" style=\"fill:none;stroke:#cccccc;stroke-linecap:round;stroke-width:0.8;\"/>\r\n     </g>\r\n     <g id=\"line2d_24\"/>\r\n     <g id=\"text_12\">\r\n      <!-- 0.6 -->\r\n      <g style=\"fill:#262626;\" transform=\"translate(7.2 112.377493)scale(0.1 -0.1)\">\r\n       <defs>\r\n        <path d=\"M 3184 3459 \r\nL 2625 3416 \r\nQ 2550 3747 2413 3897 \r\nQ 2184 4138 1850 4138 \r\nQ 1581 4138 1378 3988 \r\nQ 1113 3794 959 3422 \r\nQ 806 3050 800 2363 \r\nQ 1003 2672 1297 2822 \r\nQ 1591 2972 1913 2972 \r\nQ 2475 2972 2870 2558 \r\nQ 3266 2144 3266 1488 \r\nQ 3266 1056 3080 686 \r\nQ 2894 316 2569 119 \r\nQ 2244 -78 1831 -78 \r\nQ 1128 -78 684 439 \r\nQ 241 956 241 2144 \r\nQ 241 3472 731 4075 \r\nQ 1159 4600 1884 4600 \r\nQ 2425 4600 2770 4297 \r\nQ 3116 3994 3184 3459 \r\nz\r\nM 888 1484 \r\nQ 888 1194 1011 928 \r\nQ 1134 663 1356 523 \r\nQ 1578 384 1822 384 \r\nQ 2178 384 2434 671 \r\nQ 2691 959 2691 1453 \r\nQ 2691 1928 2437 2201 \r\nQ 2184 2475 1800 2475 \r\nQ 1419 2475 1153 2201 \r\nQ 888 1928 888 1484 \r\nz\r\n\" id=\"ArialMT-36\" transform=\"scale(0.015625)\"/>\r\n       </defs>\r\n       <use xlink:href=\"#ArialMT-30\"/>\r\n       <use x=\"55.615234\" xlink:href=\"#ArialMT-2e\"/>\r\n       <use x=\"83.398438\" xlink:href=\"#ArialMT-36\"/>\r\n      </g>\r\n     </g>\r\n    </g>\r\n    <g id=\"ytick_4\">\r\n     <g id=\"line2d_25\">\r\n      <path clip-path=\"url(#p13a6bc374e)\" d=\"M 24.6 63.480109 \r\nL 359.4 63.480109 \r\n\" style=\"fill:none;stroke:#cccccc;stroke-linecap:round;stroke-width:0.8;\"/>\r\n     </g>\r\n     <g id=\"line2d_26\"/>\r\n     <g id=\"text_13\">\r\n      <!-- 0.8 -->\r\n      <g style=\"fill:#262626;\" transform=\"translate(7.2 67.059015)scale(0.1 -0.1)\">\r\n       <defs>\r\n        <path d=\"M 1131 2484 \r\nQ 781 2613 612 2850 \r\nQ 444 3088 444 3419 \r\nQ 444 3919 803 4259 \r\nQ 1163 4600 1759 4600 \r\nQ 2359 4600 2725 4251 \r\nQ 3091 3903 3091 3403 \r\nQ 3091 3084 2923 2848 \r\nQ 2756 2613 2416 2484 \r\nQ 2838 2347 3058 2040 \r\nQ 3278 1734 3278 1309 \r\nQ 3278 722 2862 322 \r\nQ 2447 -78 1769 -78 \r\nQ 1091 -78 675 323 \r\nQ 259 725 259 1325 \r\nQ 259 1772 486 2073 \r\nQ 713 2375 1131 2484 \r\nz\r\nM 1019 3438 \r\nQ 1019 3113 1228 2906 \r\nQ 1438 2700 1772 2700 \r\nQ 2097 2700 2305 2904 \r\nQ 2513 3109 2513 3406 \r\nQ 2513 3716 2298 3927 \r\nQ 2084 4138 1766 4138 \r\nQ 1444 4138 1231 3931 \r\nQ 1019 3725 1019 3438 \r\nz\r\nM 838 1322 \r\nQ 838 1081 952 856 \r\nQ 1066 631 1291 507 \r\nQ 1516 384 1775 384 \r\nQ 2178 384 2440 643 \r\nQ 2703 903 2703 1303 \r\nQ 2703 1709 2433 1975 \r\nQ 2163 2241 1756 2241 \r\nQ 1359 2241 1098 1978 \r\nQ 838 1716 838 1322 \r\nz\r\n\" id=\"ArialMT-38\" transform=\"scale(0.015625)\"/>\r\n       </defs>\r\n       <use xlink:href=\"#ArialMT-30\"/>\r\n       <use x=\"55.615234\" xlink:href=\"#ArialMT-2e\"/>\r\n       <use x=\"83.398438\" xlink:href=\"#ArialMT-38\"/>\r\n      </g>\r\n     </g>\r\n    </g>\r\n   </g>\r\n   <g id=\"line2d_27\">\r\n    <defs>\r\n     <path d=\"M 0 1.5 \r\nC 0.397805 1.5 0.77937 1.341951 1.06066 1.06066 \r\nC 1.341951 0.77937 1.5 0.397805 1.5 0 \r\nC 1.5 -0.397805 1.341951 -0.77937 1.06066 -1.06066 \r\nC 0.77937 -1.341951 0.397805 -1.5 0 -1.5 \r\nC -0.397805 -1.5 -0.77937 -1.341951 -1.06066 -1.06066 \r\nC -1.341951 -0.77937 -1.5 -0.397805 -1.5 0 \r\nC -1.5 0.397805 -1.341951 0.77937 -1.06066 1.06066 \r\nC -0.77937 1.341951 -0.397805 1.5 0 1.5 \r\nz\r\n\" id=\"m8287825e6d\" style=\"stroke:#1f77b4;\"/>\r\n    </defs>\r\n    <g clip-path=\"url(#p13a6bc374e)\">\r\n     <use style=\"fill:#1f77b4;stroke:#1f77b4;\" x=\"39.818182\" xlink:href=\"#m8287825e6d\" y=\"228.439369\"/>\r\n     <use style=\"fill:#1f77b4;stroke:#1f77b4;\" x=\"55.036364\" xlink:href=\"#m8287825e6d\" y=\"220.055451\"/>\r\n     <use style=\"fill:#1f77b4;stroke:#1f77b4;\" x=\"70.254545\" xlink:href=\"#m8287825e6d\" y=\"213.710864\"/>\r\n     <use style=\"fill:#1f77b4;stroke:#1f77b4;\" x=\"85.472727\" xlink:href=\"#m8287825e6d\" y=\"207.366277\"/>\r\n     <use style=\"fill:#1f77b4;stroke:#1f77b4;\" x=\"100.690909\" xlink:href=\"#m8287825e6d\" y=\"198.529174\"/>\r\n     <use style=\"fill:#1f77b4;stroke:#1f77b4;\" x=\"115.909091\" xlink:href=\"#m8287825e6d\" y=\"192.184587\"/>\r\n     <use style=\"fill:#1f77b4;stroke:#1f77b4;\" x=\"131.127273\" xlink:href=\"#m8287825e6d\" y=\"177.002896\"/>\r\n     <use style=\"fill:#1f77b4;stroke:#1f77b4;\" x=\"146.345455\" xlink:href=\"#m8287825e6d\" y=\"170.884902\"/>\r\n     <use style=\"fill:#1f77b4;stroke:#1f77b4;\" x=\"161.563636\" xlink:href=\"#m8287825e6d\" y=\"165.220092\"/>\r\n    </g>\r\n   </g>\r\n   <g id=\"line2d_28\">\r\n    <path clip-path=\"url(#p13a6bc374e)\" d=\"M 39.818182 228.333626 \r\nL 46.029685 225.441848 \r\nL 52.241187 222.503333 \r\nL 58.45269 219.51808 \r\nL 64.664193 216.48609 \r\nL 70.875696 213.407362 \r\nL 77.087199 210.281896 \r\nL 83.298701 207.109692 \r\nL 89.510204 203.890751 \r\nL 95.721707 200.625072 \r\nL 101.93321 197.312655 \r\nL 108.144712 193.953501 \r\nL 114.356215 190.547609 \r\nL 120.567718 187.094979 \r\nL 126.779221 183.595612 \r\nL 132.990724 180.049507 \r\nL 139.202226 176.456664 \r\nL 145.413729 172.817084 \r\nL 151.625232 169.130766 \r\nL 157.836735 165.39771 \r\nL 164.048237 161.617916 \r\nL 170.25974 157.791385 \r\nL 176.471243 153.918116 \r\nL 182.682746 149.99811 \r\nL 188.894249 146.031365 \r\nL 195.105751 142.017883 \r\nL 201.317254 137.957664 \r\nL 207.528757 133.850707 \r\nL 213.74026 129.697012 \r\nL 219.951763 125.496579 \r\nL 226.163265 121.249409 \r\nL 232.374768 116.9555 \r\nL 238.586271 112.614855 \r\nL 244.797774 108.227471 \r\nL 251.009276 103.79335 \r\nL 257.220779 99.312491 \r\nL 263.432282 94.784895 \r\nL 269.643785 90.210561 \r\nL 275.855288 85.589489 \r\nL 282.06679 80.921679 \r\nL 288.278293 76.207132 \r\nL 294.489796 71.445847 \r\nL 300.701299 66.637825 \r\nL 306.912801 61.783064 \r\nL 313.124304 56.881566 \r\nL 319.335807 51.933331 \r\nL 325.54731 46.938357 \r\nL 331.758813 41.896646 \r\nL 337.970315 36.808198 \r\nL 344.181818 31.673011 \r\n\" style=\"fill:none;stroke:#0000ff;stroke-linecap:round;stroke-width:1.5;\"/>\r\n   </g>\r\n   <g id=\"line2d_29\">\r\n    <defs>\r\n     <path d=\"M 0 1.5 \r\nC 0.397805 1.5 0.77937 1.341951 1.06066 1.06066 \r\nC 1.341951 0.77937 1.5 0.397805 1.5 0 \r\nC 1.5 -0.397805 1.341951 -0.77937 1.06066 -1.06066 \r\nC 0.77937 -1.341951 0.397805 -1.5 0 -1.5 \r\nC -0.397805 -1.5 -0.77937 -1.341951 -1.06066 -1.06066 \r\nC -1.341951 -0.77937 -1.5 -0.397805 -1.5 0 \r\nC -1.5 0.397805 -1.341951 0.77937 -1.06066 1.06066 \r\nC -0.77937 1.341951 -0.397805 1.5 0 1.5 \r\nz\r\n\" id=\"m341e297362\" style=\"stroke:#008000;\"/>\r\n    </defs>\r\n    <g clip-path=\"url(#p13a6bc374e)\">\r\n     <use style=\"fill:#008000;stroke:#008000;\" x=\"39.818182\" xlink:href=\"#m341e297362\" y=\"229.345739\"/>\r\n     <use style=\"fill:#008000;stroke:#008000;\" x=\"55.036364\" xlink:href=\"#m341e297362\" y=\"217.789527\"/>\r\n     <use style=\"fill:#008000;stroke:#008000;\" x=\"70.254545\" xlink:href=\"#m341e297362\" y=\"210.085385\"/>\r\n     <use style=\"fill:#008000;stroke:#008000;\" x=\"85.472727\" xlink:href=\"#m341e297362\" y=\"204.647168\"/>\r\n     <use style=\"fill:#008000;stroke:#008000;\" x=\"100.690909\" xlink:href=\"#m341e297362\" y=\"194.223918\"/>\r\n     <use style=\"fill:#008000;stroke:#008000;\" x=\"115.909091\" xlink:href=\"#m341e297362\" y=\"188.559108\"/>\r\n     <use style=\"fill:#008000;stroke:#008000;\" x=\"131.127273\" xlink:href=\"#m341e297362\" y=\"182.667706\"/>\r\n     <use style=\"fill:#008000;stroke:#008000;\" x=\"146.345455\" xlink:href=\"#m341e297362\" y=\"174.283788\"/>\r\n     <use style=\"fill:#008000;stroke:#008000;\" x=\"161.563636\" xlink:href=\"#m341e297362\" y=\"169.75194\"/>\r\n    </g>\r\n   </g>\r\n   <g id=\"line2d_30\">\r\n    <path clip-path=\"url(#p13a6bc374e)\" d=\"M 39.818182 226.138197 \r\nL 46.029685 223.146253 \r\nL 52.241187 220.154309 \r\nL 58.45269 217.162364 \r\nL 64.664193 214.17042 \r\nL 70.875696 211.178475 \r\nL 77.087199 208.186531 \r\nL 83.298701 205.194587 \r\nL 89.510204 202.202642 \r\nL 95.721707 199.210698 \r\nL 101.93321 196.218753 \r\nL 108.144712 193.226809 \r\nL 114.356215 190.234864 \r\nL 120.567718 187.24292 \r\nL 126.779221 184.250976 \r\nL 132.990724 181.259031 \r\nL 139.202226 178.267087 \r\nL 145.413729 175.275142 \r\nL 151.625232 172.283198 \r\nL 157.836735 169.291253 \r\nL 164.048237 166.299309 \r\nL 170.25974 163.307365 \r\nL 176.471243 160.31542 \r\nL 182.682746 157.323476 \r\nL 188.894249 154.331531 \r\nL 195.105751 151.339587 \r\nL 201.317254 148.347643 \r\nL 207.528757 145.355698 \r\nL 213.74026 142.363754 \r\nL 219.951763 139.371809 \r\nL 226.163265 136.379865 \r\nL 232.374768 133.38792 \r\nL 238.586271 130.395976 \r\nL 244.797774 127.404032 \r\nL 251.009276 124.412087 \r\nL 257.220779 121.420143 \r\nL 263.432282 118.428198 \r\nL 269.643785 115.436254 \r\nL 275.855288 112.44431 \r\nL 282.06679 109.452365 \r\nL 288.278293 106.460421 \r\nL 294.489796 103.468476 \r\nL 300.701299 100.476532 \r\nL 306.912801 97.484587 \r\nL 313.124304 94.492643 \r\nL 319.335807 91.500699 \r\nL 325.54731 88.508754 \r\nL 331.758813 85.51681 \r\nL 337.970315 82.524865 \r\nL 344.181818 79.532921 \r\n\" style=\"fill:none;stroke:#008000;stroke-linecap:round;stroke-width:1.5;\"/>\r\n   </g>\r\n   <g id=\"patch_3\">\r\n    <path d=\"M 24.6 239.229375 \r\nL 24.6 21.789375 \r\n\" style=\"fill:none;stroke:#cccccc;stroke-linecap:square;stroke-linejoin:miter;\"/>\r\n   </g>\r\n   <g id=\"patch_4\">\r\n    <path d=\"M 359.4 239.229375 \r\nL 359.4 21.789375 \r\n\" style=\"fill:none;stroke:#cccccc;stroke-linecap:square;stroke-linejoin:miter;\"/>\r\n   </g>\r\n   <g id=\"patch_5\">\r\n    <path d=\"M 24.6 239.229375 \r\nL 359.4 239.229375 \r\n\" style=\"fill:none;stroke:#cccccc;stroke-linecap:square;stroke-linejoin:miter;\"/>\r\n   </g>\r\n   <g id=\"patch_6\">\r\n    <path d=\"M 24.6 21.789375 \r\nL 359.4 21.789375 \r\n\" style=\"fill:none;stroke:#cccccc;stroke-linecap:square;stroke-linejoin:miter;\"/>\r\n   </g>\r\n   <g id=\"text_14\">\r\n    <!-- Time complexity -->\r\n    <g style=\"fill:#262626;\" transform=\"translate(148.885312 15.789375)scale(0.12 -0.12)\">\r\n     <defs>\r\n      <path d=\"M 1659 0 \r\nL 1659 4041 \r\nL 150 4041 \r\nL 150 4581 \r\nL 3781 4581 \r\nL 3781 4041 \r\nL 2266 4041 \r\nL 2266 0 \r\nL 1659 0 \r\nz\r\n\" id=\"ArialMT-54\" transform=\"scale(0.015625)\"/>\r\n      <path d=\"M 425 3934 \r\nL 425 4581 \r\nL 988 4581 \r\nL 988 3934 \r\nL 425 3934 \r\nz\r\nM 425 0 \r\nL 425 3319 \r\nL 988 3319 \r\nL 988 0 \r\nL 425 0 \r\nz\r\n\" id=\"ArialMT-69\" transform=\"scale(0.015625)\"/>\r\n      <path d=\"M 422 0 \r\nL 422 3319 \r\nL 925 3319 \r\nL 925 2853 \r\nQ 1081 3097 1340 3245 \r\nQ 1600 3394 1931 3394 \r\nQ 2300 3394 2536 3241 \r\nQ 2772 3088 2869 2813 \r\nQ 3263 3394 3894 3394 \r\nQ 4388 3394 4653 3120 \r\nQ 4919 2847 4919 2278 \r\nL 4919 0 \r\nL 4359 0 \r\nL 4359 2091 \r\nQ 4359 2428 4304 2576 \r\nQ 4250 2725 4106 2815 \r\nQ 3963 2906 3769 2906 \r\nQ 3419 2906 3187 2673 \r\nQ 2956 2441 2956 1928 \r\nL 2956 0 \r\nL 2394 0 \r\nL 2394 2156 \r\nQ 2394 2531 2256 2718 \r\nQ 2119 2906 1806 2906 \r\nQ 1569 2906 1367 2781 \r\nQ 1166 2656 1075 2415 \r\nQ 984 2175 984 1722 \r\nL 984 0 \r\nL 422 0 \r\nz\r\n\" id=\"ArialMT-6d\" transform=\"scale(0.015625)\"/>\r\n      <path d=\"M 2694 1069 \r\nL 3275 997 \r\nQ 3138 488 2766 206 \r\nQ 2394 -75 1816 -75 \r\nQ 1088 -75 661 373 \r\nQ 234 822 234 1631 \r\nQ 234 2469 665 2931 \r\nQ 1097 3394 1784 3394 \r\nQ 2450 3394 2872 2941 \r\nQ 3294 2488 3294 1666 \r\nQ 3294 1616 3291 1516 \r\nL 816 1516 \r\nQ 847 969 1125 678 \r\nQ 1403 388 1819 388 \r\nQ 2128 388 2347 550 \r\nQ 2566 713 2694 1069 \r\nz\r\nM 847 1978 \r\nL 2700 1978 \r\nQ 2663 2397 2488 2606 \r\nQ 2219 2931 1791 2931 \r\nQ 1403 2931 1139 2672 \r\nQ 875 2413 847 1978 \r\nz\r\n\" id=\"ArialMT-65\" transform=\"scale(0.015625)\"/>\r\n      <path id=\"ArialMT-20\" transform=\"scale(0.015625)\"/>\r\n      <path d=\"M 2588 1216 \r\nL 3141 1144 \r\nQ 3050 572 2676 248 \r\nQ 2303 -75 1759 -75 \r\nQ 1078 -75 664 370 \r\nQ 250 816 250 1647 \r\nQ 250 2184 428 2587 \r\nQ 606 2991 970 3192 \r\nQ 1334 3394 1763 3394 \r\nQ 2303 3394 2647 3120 \r\nQ 2991 2847 3088 2344 \r\nL 2541 2259 \r\nQ 2463 2594 2264 2762 \r\nQ 2066 2931 1784 2931 \r\nQ 1359 2931 1093 2626 \r\nQ 828 2322 828 1663 \r\nQ 828 994 1084 691 \r\nQ 1341 388 1753 388 \r\nQ 2084 388 2306 591 \r\nQ 2528 794 2588 1216 \r\nz\r\n\" id=\"ArialMT-63\" transform=\"scale(0.015625)\"/>\r\n      <path d=\"M 213 1659 \r\nQ 213 2581 725 3025 \r\nQ 1153 3394 1769 3394 \r\nQ 2453 3394 2887 2945 \r\nQ 3322 2497 3322 1706 \r\nQ 3322 1066 3130 698 \r\nQ 2938 331 2570 128 \r\nQ 2203 -75 1769 -75 \r\nQ 1072 -75 642 372 \r\nQ 213 819 213 1659 \r\nz\r\nM 791 1659 \r\nQ 791 1022 1069 705 \r\nQ 1347 388 1769 388 \r\nQ 2188 388 2466 706 \r\nQ 2744 1025 2744 1678 \r\nQ 2744 2294 2464 2611 \r\nQ 2184 2928 1769 2928 \r\nQ 1347 2928 1069 2612 \r\nQ 791 2297 791 1659 \r\nz\r\n\" id=\"ArialMT-6f\" transform=\"scale(0.015625)\"/>\r\n      <path d=\"M 422 -1272 \r\nL 422 3319 \r\nL 934 3319 \r\nL 934 2888 \r\nQ 1116 3141 1344 3267 \r\nQ 1572 3394 1897 3394 \r\nQ 2322 3394 2647 3175 \r\nQ 2972 2956 3137 2557 \r\nQ 3303 2159 3303 1684 \r\nQ 3303 1175 3120 767 \r\nQ 2938 359 2589 142 \r\nQ 2241 -75 1856 -75 \r\nQ 1575 -75 1351 44 \r\nQ 1128 163 984 344 \r\nL 984 -1272 \r\nL 422 -1272 \r\nz\r\nM 931 1641 \r\nQ 931 1000 1190 694 \r\nQ 1450 388 1819 388 \r\nQ 2194 388 2461 705 \r\nQ 2728 1022 2728 1688 \r\nQ 2728 2322 2467 2637 \r\nQ 2206 2953 1844 2953 \r\nQ 1484 2953 1207 2617 \r\nQ 931 2281 931 1641 \r\nz\r\n\" id=\"ArialMT-70\" transform=\"scale(0.015625)\"/>\r\n      <path d=\"M 409 0 \r\nL 409 4581 \r\nL 972 4581 \r\nL 972 0 \r\nL 409 0 \r\nz\r\n\" id=\"ArialMT-6c\" transform=\"scale(0.015625)\"/>\r\n      <path d=\"M 47 0 \r\nL 1259 1725 \r\nL 138 3319 \r\nL 841 3319 \r\nL 1350 2541 \r\nQ 1494 2319 1581 2169 \r\nQ 1719 2375 1834 2534 \r\nL 2394 3319 \r\nL 3066 3319 \r\nL 1919 1756 \r\nL 3153 0 \r\nL 2463 0 \r\nL 1781 1031 \r\nL 1600 1309 \r\nL 728 0 \r\nL 47 0 \r\nz\r\n\" id=\"ArialMT-78\" transform=\"scale(0.015625)\"/>\r\n      <path d=\"M 1650 503 \r\nL 1731 6 \r\nQ 1494 -44 1306 -44 \r\nQ 1000 -44 831 53 \r\nQ 663 150 594 308 \r\nQ 525 466 525 972 \r\nL 525 2881 \r\nL 113 2881 \r\nL 113 3319 \r\nL 525 3319 \r\nL 525 4141 \r\nL 1084 4478 \r\nL 1084 3319 \r\nL 1650 3319 \r\nL 1650 2881 \r\nL 1084 2881 \r\nL 1084 941 \r\nQ 1084 700 1114 631 \r\nQ 1144 563 1211 522 \r\nQ 1278 481 1403 481 \r\nQ 1497 481 1650 503 \r\nz\r\n\" id=\"ArialMT-74\" transform=\"scale(0.015625)\"/>\r\n      <path d=\"M 397 -1278 \r\nL 334 -750 \r\nQ 519 -800 656 -800 \r\nQ 844 -800 956 -737 \r\nQ 1069 -675 1141 -563 \r\nQ 1194 -478 1313 -144 \r\nQ 1328 -97 1363 -6 \r\nL 103 3319 \r\nL 709 3319 \r\nL 1400 1397 \r\nQ 1534 1031 1641 628 \r\nQ 1738 1016 1872 1384 \r\nL 2581 3319 \r\nL 3144 3319 \r\nL 1881 -56 \r\nQ 1678 -603 1566 -809 \r\nQ 1416 -1088 1222 -1217 \r\nQ 1028 -1347 759 -1347 \r\nQ 597 -1347 397 -1278 \r\nz\r\n\" id=\"ArialMT-79\" transform=\"scale(0.015625)\"/>\r\n     </defs>\r\n     <use xlink:href=\"#ArialMT-54\"/>\r\n     <use x=\"57.333984\" xlink:href=\"#ArialMT-69\"/>\r\n     <use x=\"79.550781\" xlink:href=\"#ArialMT-6d\"/>\r\n     <use x=\"162.851562\" xlink:href=\"#ArialMT-65\"/>\r\n     <use x=\"218.466797\" xlink:href=\"#ArialMT-20\"/>\r\n     <use x=\"246.25\" xlink:href=\"#ArialMT-63\"/>\r\n     <use x=\"296.25\" xlink:href=\"#ArialMT-6f\"/>\r\n     <use x=\"351.865234\" xlink:href=\"#ArialMT-6d\"/>\r\n     <use x=\"435.166016\" xlink:href=\"#ArialMT-70\"/>\r\n     <use x=\"490.78125\" xlink:href=\"#ArialMT-6c\"/>\r\n     <use x=\"512.998047\" xlink:href=\"#ArialMT-65\"/>\r\n     <use x=\"568.613281\" xlink:href=\"#ArialMT-78\"/>\r\n     <use x=\"618.613281\" xlink:href=\"#ArialMT-69\"/>\r\n     <use x=\"640.830078\" xlink:href=\"#ArialMT-74\"/>\r\n     <use x=\"668.613281\" xlink:href=\"#ArialMT-79\"/>\r\n    </g>\r\n   </g>\r\n   <g id=\"legend_1\">\r\n    <g id=\"line2d_31\"/>\r\n    <g id=\"line2d_32\">\r\n     <g>\r\n      <use style=\"fill:#1f77b4;stroke:#1f77b4;\" x=\"43.6\" xlink:href=\"#m8287825e6d\" y=\"34.575313\"/>\r\n     </g>\r\n    </g>\r\n    <g id=\"text_15\">\r\n     <!-- O(n²) -->\r\n     <g style=\"fill:#262626;\" transform=\"translate(61.6 38.075313)scale(0.1 -0.1)\">\r\n      <defs>\r\n       <path d=\"M 309 2231 \r\nQ 309 3372 921 4017 \r\nQ 1534 4663 2503 4663 \r\nQ 3138 4663 3647 4359 \r\nQ 4156 4056 4423 3514 \r\nQ 4691 2972 4691 2284 \r\nQ 4691 1588 4409 1038 \r\nQ 4128 488 3612 205 \r\nQ 3097 -78 2500 -78 \r\nQ 1853 -78 1343 234 \r\nQ 834 547 571 1087 \r\nQ 309 1628 309 2231 \r\nz\r\nM 934 2222 \r\nQ 934 1394 1379 917 \r\nQ 1825 441 2497 441 \r\nQ 3181 441 3623 922 \r\nQ 4066 1403 4066 2288 \r\nQ 4066 2847 3877 3264 \r\nQ 3688 3681 3323 3911 \r\nQ 2959 4141 2506 4141 \r\nQ 1863 4141 1398 3698 \r\nQ 934 3256 934 2222 \r\nz\r\n\" id=\"ArialMT-4f\" transform=\"scale(0.015625)\"/>\r\n       <path d=\"M 1497 -1347 \r\nQ 1031 -759 709 28 \r\nQ 388 816 388 1659 \r\nQ 388 2403 628 3084 \r\nQ 909 3875 1497 4659 \r\nL 1900 4659 \r\nQ 1522 4009 1400 3731 \r\nQ 1209 3300 1100 2831 \r\nQ 966 2247 966 1656 \r\nQ 966 153 1900 -1347 \r\nL 1497 -1347 \r\nz\r\n\" id=\"ArialMT-28\" transform=\"scale(0.015625)\"/>\r\n       <path d=\"M 422 0 \r\nL 422 3319 \r\nL 928 3319 \r\nL 928 2847 \r\nQ 1294 3394 1984 3394 \r\nQ 2284 3394 2536 3286 \r\nQ 2788 3178 2913 3003 \r\nQ 3038 2828 3088 2588 \r\nQ 3119 2431 3119 2041 \r\nL 3119 0 \r\nL 2556 0 \r\nL 2556 2019 \r\nQ 2556 2363 2490 2533 \r\nQ 2425 2703 2258 2804 \r\nQ 2091 2906 1866 2906 \r\nQ 1506 2906 1245 2678 \r\nQ 984 2450 984 1813 \r\nL 984 0 \r\nL 422 0 \r\nz\r\n\" id=\"ArialMT-6e\" transform=\"scale(0.015625)\"/>\r\n       <path d=\"M 78 2291 \r\nQ 97 2469 225 2647 \r\nQ 422 2916 872 3242 \r\nQ 1322 3569 1406 3663 \r\nQ 1522 3791 1522 3925 \r\nQ 1522 4075 1412 4172 \r\nQ 1303 4269 1091 4269 \r\nQ 884 4269 782 4195 \r\nQ 681 4122 616 3913 \r\nL 144 3963 \r\nQ 234 4309 457 4473 \r\nQ 681 4638 1100 4638 \r\nQ 1572 4638 1792 4453 \r\nQ 2013 4269 2013 4003 \r\nQ 2013 3741 1828 3506 \r\nQ 1688 3331 1188 2972 \r\nQ 928 2781 819 2669 \r\nL 2025 2669 \r\nL 2025 2291 \r\nL 78 2291 \r\nz\r\n\" id=\"ArialMT-b2\" transform=\"scale(0.015625)\"/>\r\n       <path d=\"M 791 -1347 \r\nL 388 -1347 \r\nQ 1322 153 1322 1656 \r\nQ 1322 2244 1188 2822 \r\nQ 1081 3291 891 3722 \r\nQ 769 4003 388 4659 \r\nL 791 4659 \r\nQ 1378 3875 1659 3084 \r\nQ 1900 2403 1900 1659 \r\nQ 1900 816 1576 28 \r\nQ 1253 -759 791 -1347 \r\nz\r\n\" id=\"ArialMT-29\" transform=\"scale(0.015625)\"/>\r\n      </defs>\r\n      <use xlink:href=\"#ArialMT-4f\"/>\r\n      <use x=\"77.783203\" xlink:href=\"#ArialMT-28\"/>\r\n      <use x=\"111.083984\" xlink:href=\"#ArialMT-6e\"/>\r\n      <use x=\"166.699219\" xlink:href=\"#ArialMT-b2\"/>\r\n      <use x=\"200\" xlink:href=\"#ArialMT-29\"/>\r\n     </g>\r\n    </g>\r\n    <g id=\"line2d_33\">\r\n     <path d=\"M 33.6 48.965938 \r\nL 53.6 48.965938 \r\n\" style=\"fill:none;stroke:#0000ff;stroke-linecap:round;stroke-width:1.5;\"/>\r\n    </g>\r\n    <g id=\"line2d_34\"/>\r\n    <g id=\"text_16\">\r\n     <!-- O(n²) -->\r\n     <g style=\"fill:#262626;\" transform=\"translate(61.6 52.465938)scale(0.1 -0.1)\">\r\n      <use xlink:href=\"#ArialMT-4f\"/>\r\n      <use x=\"77.783203\" xlink:href=\"#ArialMT-28\"/>\r\n      <use x=\"111.083984\" xlink:href=\"#ArialMT-6e\"/>\r\n      <use x=\"166.699219\" xlink:href=\"#ArialMT-b2\"/>\r\n      <use x=\"200\" xlink:href=\"#ArialMT-29\"/>\r\n     </g>\r\n    </g>\r\n    <g id=\"line2d_35\"/>\r\n    <g id=\"line2d_36\">\r\n     <g>\r\n      <use style=\"fill:#008000;stroke:#008000;\" x=\"43.6\" xlink:href=\"#m341e297362\" y=\"63.356563\"/>\r\n     </g>\r\n    </g>\r\n    <g id=\"text_17\">\r\n     <!-- O(n1) -->\r\n     <g style=\"fill:#262626;\" transform=\"translate(61.6 66.856563)scale(0.1 -0.1)\">\r\n      <use xlink:href=\"#ArialMT-4f\"/>\r\n      <use x=\"77.783203\" xlink:href=\"#ArialMT-28\"/>\r\n      <use x=\"111.083984\" xlink:href=\"#ArialMT-6e\"/>\r\n      <use x=\"166.699219\" xlink:href=\"#ArialMT-31\"/>\r\n      <use x=\"222.314453\" xlink:href=\"#ArialMT-29\"/>\r\n     </g>\r\n    </g>\r\n    <g id=\"line2d_37\">\r\n     <path d=\"M 33.6 77.747188 \r\nL 53.6 77.747188 \r\n\" style=\"fill:none;stroke:#008000;stroke-linecap:round;stroke-width:1.5;\"/>\r\n    </g>\r\n    <g id=\"line2d_38\"/>\r\n    <g id=\"text_18\">\r\n     <!-- O(n1) -->\r\n     <g style=\"fill:#262626;\" transform=\"translate(61.6 81.247188)scale(0.1 -0.1)\">\r\n      <use xlink:href=\"#ArialMT-4f\"/>\r\n      <use x=\"77.783203\" xlink:href=\"#ArialMT-28\"/>\r\n      <use x=\"111.083984\" xlink:href=\"#ArialMT-6e\"/>\r\n      <use x=\"166.699219\" xlink:href=\"#ArialMT-31\"/>\r\n      <use x=\"222.314453\" xlink:href=\"#ArialMT-29\"/>\r\n     </g>\r\n    </g>\r\n   </g>\r\n  </g>\r\n </g>\r\n <defs>\r\n  <clipPath id=\"p13a6bc374e\">\r\n   <rect height=\"217.44\" width=\"334.8\" x=\"24.6\" y=\"21.789375\"/>\r\n  </clipPath>\r\n </defs>\r\n</svg>\r\n",
      "image/png": "[encoded data removed]"
     },
     "metadata": {}
    }
   ],
   "source": [
    "time0 = []*len(res2)\n",
    "\n",
    "for p in res2:\n",
    "   time0.append(p[2])\n",
    "time1 = np.cumsum(time0)\n",
    "    \n",
    "N = np.arange(0,9,1)\n",
    "\n",
    "ax = plt.axes()\n",
    "z1 = np.polyfit(N,time1,2)\n",
    "p1 = np.poly1d(z1)\n",
    "xp = np.linspace(0, 20)\n",
    "\n",
    "## GRAPH for O(N)\n",
    "time2 = []*len(res4)\n",
    "\n",
    "for p in res4:\n",
    "   time2.append(p[2])\n",
    "time3 = np.cumsum(time2)\n",
    "    \n",
    "z2 = np.polyfit(N,time3,1)\n",
    "p2 = np.poly1d(z2)\n",
    "# xp = np.linspace(0, 20)\n",
    "\n",
    "plt.plot(N, time1, '.', xp, p1(xp),'-b', label='O(n²)')\n",
    "plt.plot(N, time3, '.g', xp, p2(xp),'-g', label='O(n1)')\n",
    "# plt.plot(N, time_0, '-g', label='O(n)')\n",
    "plt.title(\"Time complexity\")\n",
    "plt.legend();"
   ]
  },
  {
   "cell_type": "markdown",
   "id": "acb2a578",
   "metadata": {},
   "source": [
    "### 9. Analyze the algorithm's complexity and identify inefficiencies, if any."
   ]
  },
  {
   "cell_type": "markdown",
   "id": "a8266abc",
   "metadata": {},
   "source": [
    "**Alogrithm implementation**\n",
    "\n",
    "The optimal time complexity of the stock span algorithm is O(n) along with a space-complexity of O(n).\n",
    "\n",
    "> A Linear Time Complexity Method \n",
    "We see that S[i] on day i can be easily computed if we know the closest day preceding i, such that the price is greater than on that day than the price on the day i. If such a day exists, let’s call it h(i), otherwise, we define h(i) = -1. \n",
    "The span is now computed as S[i] = i – h(i). See the following diagram."
   ]
  },
  {
   "cell_type": "markdown",
   "id": "ac878880",
   "metadata": {},
   "source": [
    "If you found the problem on an external platform, you can make a submission to test your solution.\n",
    "\n",
    "Share your approach and start a discussion on the Jovian forum: https://jovian.ai/forum/c/data-structures-and-algorithms-in-python/78"
   ]
  },
  {
   "cell_type": "code",
   "execution_count": null,
   "id": "815244fa",
   "metadata": {},
   "outputs": [],
   "source": [
    "jovian.commit()"
   ]
  },
  {
   "cell_type": "code",
   "execution_count": null,
   "id": "11e110c5",
   "metadata": {},
   "outputs": [],
   "source": []
  }
 ],
 "metadata": {
  "kernelspec": {
   "name": "python388jvsc74a57bd0484ce98ca8aeea23437e5e04870b54eb0718b413dfa023a9e82280d79fc1ec97",
   "display_name": "Python 3.8.8 64-bit (conda)"
  },
  "language_info": {
   "codemirror_mode": {
    "name": "ipython",
    "version": 3
   },
   "file_extension": ".py",
   "mimetype": "text/x-python",
   "name": "python",
   "nbconvert_exporter": "python",
   "pygments_lexer": "ipython3",
   "version": "3.8.8-final"
  }
 },
 "nbformat": 4,
 "nbformat_minor": 5
}